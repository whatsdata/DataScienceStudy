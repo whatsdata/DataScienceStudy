{
 "cells": [
  {
   "cell_type": "code",
   "execution_count": 1,
   "id": "803d2837-b23e-4579-a5dc-eef57d3ade40",
   "metadata": {},
   "outputs": [],
   "source": [
    "import torchvision.datasets as datasets\n",
    "import os\n",
    "import torchvision.transforms as transforms\n",
    "from torch.utils.data import DataLoader\n",
    "from torchvision import utils\n",
    "import matplotlib.pyplot as plt\n",
    "import numpy as np\n",
    "import torch.nn as nn\n",
    "import torch\n",
    "import torch.nn.functional as F\n",
    "import time\n",
    "%matplotlib inline\n",
    "\n",
    "device = torch.device('cuda' if torch.cuda.is_available() else 'cpu')"
   ]
  },
  {
   "cell_type": "markdown",
   "id": "9f16f3d4-a34b-49bb-97f7-49257b1bb778",
   "metadata": {},
   "source": [
    "## 1. Load data"
   ]
  },
  {
   "cell_type": "code",
   "execution_count": 2,
   "id": "b5d559cd-8166-4e00-8468-db50eb541b7f",
   "metadata": {},
   "outputs": [
    {
     "name": "stdout",
     "output_type": "stream",
     "text": [
      "Downloading http://yann.lecun.com/exdb/mnist/train-images-idx3-ubyte.gz to ./data/MNIST/raw/train-images-idx3-ubyte.gz\n"
     ]
    },
    {
     "data": {
      "application/vnd.jupyter.widget-view+json": {
       "model_id": "1a19861208664ecaaba50f8eb970811e",
       "version_major": 2,
       "version_minor": 0
      },
      "text/plain": [
       "0it [00:00, ?it/s]"
      ]
     },
     "metadata": {},
     "output_type": "display_data"
    },
    {
     "name": "stdout",
     "output_type": "stream",
     "text": [
      "Extracting ./data/MNIST/raw/train-images-idx3-ubyte.gz to ./data/MNIST/raw\n",
      "Downloading http://yann.lecun.com/exdb/mnist/train-labels-idx1-ubyte.gz to ./data/MNIST/raw/train-labels-idx1-ubyte.gz\n"
     ]
    },
    {
     "data": {
      "application/vnd.jupyter.widget-view+json": {
       "model_id": "0ad1ed9ac1a147cb8e5564ed71a6014d",
       "version_major": 2,
       "version_minor": 0
      },
      "text/plain": [
       "0it [00:00, ?it/s]"
      ]
     },
     "metadata": {},
     "output_type": "display_data"
    },
    {
     "name": "stdout",
     "output_type": "stream",
     "text": [
      "Extracting ./data/MNIST/raw/train-labels-idx1-ubyte.gz to ./data/MNIST/raw\n",
      "Downloading http://yann.lecun.com/exdb/mnist/t10k-images-idx3-ubyte.gz to ./data/MNIST/raw/t10k-images-idx3-ubyte.gz\n"
     ]
    },
    {
     "data": {
      "application/vnd.jupyter.widget-view+json": {
       "model_id": "520cdb1135454034b5ed917a6a234034",
       "version_major": 2,
       "version_minor": 0
      },
      "text/plain": [
       "0it [00:00, ?it/s]"
      ]
     },
     "metadata": {},
     "output_type": "display_data"
    },
    {
     "name": "stdout",
     "output_type": "stream",
     "text": [
      "Extracting ./data/MNIST/raw/t10k-images-idx3-ubyte.gz to ./data/MNIST/raw\n",
      "Downloading http://yann.lecun.com/exdb/mnist/t10k-labels-idx1-ubyte.gz to ./data/MNIST/raw/t10k-labels-idx1-ubyte.gz\n"
     ]
    },
    {
     "data": {
      "application/vnd.jupyter.widget-view+json": {
       "model_id": "7ed725ea9df34315b8dc37c597dcb7db",
       "version_major": 2,
       "version_minor": 0
      },
      "text/plain": [
       "0it [00:00, ?it/s]"
      ]
     },
     "metadata": {},
     "output_type": "display_data"
    },
    {
     "name": "stdout",
     "output_type": "stream",
     "text": [
      "Extracting ./data/MNIST/raw/t10k-labels-idx1-ubyte.gz to ./data/MNIST/raw\n",
      "Processing...\n"
     ]
    },
    {
     "name": "stderr",
     "output_type": "stream",
     "text": [
      "/usr/local/lib/python3.8/dist-packages/torchvision/datasets/mnist.py:480: UserWarning: The given NumPy array is not writeable, and PyTorch does not support non-writeable tensors. This means you can write to the underlying (supposedly non-writeable) NumPy array using the tensor. You may want to copy the array to protect its data or make it writeable before converting it to a tensor. This type of warning will be suppressed for the rest of this program. (Triggered internally at  /pytorch/torch/csrc/utils/tensor_numpy.cpp:141.)\n",
      "  return torch.from_numpy(parsed.astype(m[2], copy=False)).view(*s)\n"
     ]
    },
    {
     "name": "stdout",
     "output_type": "stream",
     "text": [
      "Done!\n"
     ]
    }
   ],
   "source": [
    "# 데이터 경로 지정\n",
    "path2data = './data'\n",
    "os.makedirs(path2data, exist_ok=True)\n",
    "\n",
    "# Transformation 정의\n",
    "train_transform = transforms.Compose([\n",
    "                        transforms.ToTensor(),\n",
    "                        transforms.Normalize([0.5],[0.5]),\n",
    "])\n",
    "\n",
    "# MNIST dataset 불러오기\n",
    "train_ds = datasets.MNIST(path2data, train=True, transform=train_transform, download=True)"
   ]
  },
  {
   "cell_type": "code",
   "execution_count": 3,
   "id": "dfad1bf0-4bf9-4fa3-8f61-a3c33795b49b",
   "metadata": {},
   "outputs": [
    {
     "data": {
      "image/png": "[encoded data removed]",
      "text/plain": [
       "<Figure size 432x288 with 1 Axes>"
      ]
     },
     "metadata": {
      "needs_background": "light"
     },
     "output_type": "display_data"
    }
   ],
   "source": [
    "# 샘플 이미지 확인하기\n",
    "img, label = train_ds.data, train_ds.targets\n",
    "\n",
    "# 차원 추가\n",
    "if len(img.shape) == 3:\n",
    "    img = img.unsqueeze(1) # B*C*H*W\n",
    "\n",
    "# 그리드 생성\n",
    "img_grid = utils.make_grid(img[:40], nrow=8, padding=2)\n",
    "\n",
    "def show(img):\n",
    "    npimg = img.numpy()\n",
    "    npimg_tr = npimg.transpose((1,2,0)) # [C,H,W] -> [H,W,C]\n",
    "    plt.imshow(npimg_tr, interpolation='nearest')\n",
    "\n",
    "show(img_grid)"
   ]
  },
  {
   "cell_type": "code",
   "execution_count": 5,
   "id": "e87d746c-9092-4892-bd14-dfc202240772",
   "metadata": {},
   "outputs": [],
   "source": [
    "# 데이터 로더 생성\n",
    "train_dl = DataLoader(train_ds, batch_size=64, shuffle=True)"
   ]
  },
  {
   "cell_type": "markdown",
   "id": "83b2f8b9-e688-4d56-a593-252380352b4a",
   "metadata": {},
   "source": [
    "### 2. model setting"
   ]
  },
  {
   "cell_type": "code",
   "execution_count": 6,
   "id": "93779844-839a-45b5-a2dd-0d53253ec5ee",
   "metadata": {},
   "outputs": [],
   "source": [
    "# 파라미터 설정\n",
    "params = {'num_classes':10,\n",
    "          'nz':100,\n",
    "          'input_size':(1,28,28)}"
   ]
  },
  {
   "cell_type": "code",
   "execution_count": 11,
   "id": "6fe462ad-c945-46c7-af55-3f839b652511",
   "metadata": {},
   "outputs": [
    {
     "name": "stdout",
     "output_type": "stream",
     "text": [
      "torch.Size([16, 1, 28, 28])\n"
     ]
    }
   ],
   "source": [
    "# Generator: 가짜 이미지를 생성합니다.\n",
    "# noise와 label을 결합하여 학습합니다..\n",
    "\n",
    "class Generator(nn.Module):\n",
    "    def __init__(self, params):\n",
    "        super().__init__()\n",
    "        self.num_classes = params['num_classes'] # 클래스 수, 10\n",
    "        self.nz = params['nz'] # 노이즈 수, 100\n",
    "        self.input_size = params['input_size'] # (1,28,28)\n",
    "\n",
    "        # noise와 label을 결합할 용도인 label embedding matrix를 생성합니다.\n",
    "        self.label_emb = nn.Embedding(self.num_classes, self.num_classes)\n",
    "\n",
    "        self.gen = nn.Sequential(\n",
    "            nn.Linear(self.nz + self.num_classes, 128),\n",
    "            nn.LeakyReLU(0.2),\n",
    "            nn.Linear(128,256),\n",
    "            nn.BatchNorm1d(256),\n",
    "            nn.LeakyReLU(0.2),\n",
    "            nn.Linear(256,512),\n",
    "            nn.BatchNorm1d(512),\n",
    "            nn.LeakyReLU(0.2),\n",
    "            nn.Linear(512,1024),\n",
    "            nn.BatchNorm1d(1024),\n",
    "            nn.LeakyReLU(0.2),\n",
    "            nn.Linear(1024,int(np.prod(self.input_size))),\n",
    "            nn.Tanh()\n",
    "        )\n",
    "\n",
    "    def forward(self, noise, labels):\n",
    "        # noise와 label 결합\n",
    "        gen_input = torch.cat((self.label_emb(labels),noise),-1)\n",
    "        x = self.gen(gen_input)\n",
    "        x = x.view(x.size(0), *self.input_size)\n",
    "        return x\n",
    "\n",
    "# check\n",
    "x = torch.randn(16,100,device=device) # 노이즈\n",
    "label = torch.randint(0,10,(16,),device=device) # 레이블\n",
    "model_gen = Generator(params).to(device)\n",
    "out_gen = model_gen(x,label) # 가짜 이미지 생성\n",
    "print(out_gen.shape)"
   ]
  },
  {
   "cell_type": "code",
   "execution_count": 14,
   "id": "99eca6b8-edd9-4fa5-a477-e46dac188c8f",
   "metadata": {},
   "outputs": [
    {
     "name": "stdout",
     "output_type": "stream",
     "text": [
      "torch.Size([16, 1])\n"
     ]
    }
   ],
   "source": [
    "class Discriminator(nn.Module):\n",
    "    def __init__(self,params):\n",
    "        super().__init__()\n",
    "        self.input_size = params['input_size']\n",
    "        self.num_classes = params['num_classes']\n",
    "\n",
    "        self.label_embedding = nn.Embedding(self.num_classes, self.num_classes)\n",
    "\n",
    "        self.dis = nn.Sequential(\n",
    "            nn.Linear(self.num_classes+int(np.prod(self.input_size)),512),\n",
    "            nn.LeakyReLU(0.2),\n",
    "            nn.Linear(512,512),\n",
    "            nn.Dropout(0.4),\n",
    "            nn.LeakyReLU(0.2),\n",
    "            nn.Linear(512,512),\n",
    "            nn.Dropout(0.4),\n",
    "            nn.LeakyReLU(0.2),\n",
    "            nn.Linear(512,1),\n",
    "            nn.Sigmoid()\n",
    "        )\n",
    "\n",
    "    def forward(self, img, labels):\n",
    "        # 이미지와 label 결합\n",
    "        dis_input = torch.cat((img.view(img.size(0),-1),self.label_embedding(labels)),-1)\n",
    "\n",
    "        x = self.dis(dis_input)\n",
    "        return x\n",
    "\n",
    "# check\n",
    "x = torch.randn(16,1,28,28,device=device)\n",
    "label = torch.randint(0,10,(16,), device=device)\n",
    "model_dis = Discriminator(params).to(device)\n",
    "out_dis = model_dis(x,label)\n",
    "print(out_dis.shape)"
   ]
  },
  {
   "cell_type": "code",
   "execution_count": 15,
   "id": "d9dc3646-694a-48d8-bd77-f30269119677",
   "metadata": {},
   "outputs": [],
   "source": [
    "# 가중치 초기화\n",
    "def initialize_weights(model):\n",
    "    classname = model.__class__.__name__\n",
    "    # fc layer\n",
    "    if classname.find('Linear') != -1:\n",
    "        nn.init.normal_(model.weight.data, 0.0, 0.02)\n",
    "        nn.init.constant_(model.bias.data, 0)\n",
    "    # batchnorm\n",
    "    elif classname.find('BatchNorm') != -1:\n",
    "        nn.init.normal_(model.weight.data, 1.0, 0.02)\n",
    "        nn.init.constant_(model.bias.data, 0)\n",
    "\n",
    "# 가중치 초기화 적용\n",
    "model_gen.apply(initialize_weights);\n",
    "model_dis.apply(initialize_weights);"
   ]
  },
  {
   "cell_type": "markdown",
   "id": "220a927d-fc7d-42fe-a58d-2580be7baecb",
   "metadata": {},
   "source": [
    "### 3. training"
   ]
  },
  {
   "cell_type": "code",
   "execution_count": 16,
   "id": "bd1e1ea9-90d1-451b-b04f-33ca44b53e5a",
   "metadata": {},
   "outputs": [],
   "source": [
    "# 손실 함수\n",
    "loss_func = nn.BCELoss()\n",
    "\n",
    "from torch import optim\n",
    "\n",
    "lr = 2e-4\n",
    "beta1 = 0.5\n",
    "beta2 = 0.999\n",
    "\n",
    "# optimization\n",
    "opt_dis = optim.Adam(model_dis.parameters(), lr=lr, betas=(beta1,beta2))\n",
    "opt_gen = optim.Adam(model_gen.parameters(), lr=lr, betas=(beta1,beta2))\n",
    "\n",
    "# 학습 파라미터\n",
    "nz = params['nz']\n",
    "num_epochs = 100\n",
    "\n",
    "loss_history={'gen':[], \n",
    "              'dis':[]}"
   ]
  },
  {
   "cell_type": "code",
   "execution_count": 17,
   "id": "dfa196df-dd35-496b-b2a6-f445d67d2bef",
   "metadata": {},
   "outputs": [
    {
     "name": "stdout",
     "output_type": "stream",
     "text": [
      "Epoch: 1, G_Loss: 1.298847, D_Loss: 0.547472, time: 0.64 min\n",
      "Epoch: 2, G_Loss: 1.890591, D_Loss: 0.568304, time: 1.22 min\n",
      "Epoch: 3, G_Loss: 1.965186, D_Loss: 0.508346, time: 1.87 min\n",
      "Epoch: 4, G_Loss: 2.629814, D_Loss: 0.793112, time: 2.52 min\n",
      "Epoch: 5, G_Loss: 0.983269, D_Loss: 0.501697, time: 3.14 min\n",
      "Epoch: 6, G_Loss: 0.843582, D_Loss: 0.471752, time: 3.74 min\n",
      "Epoch: 7, G_Loss: 1.429817, D_Loss: 0.350836, time: 4.39 min\n",
      "Epoch: 8, G_Loss: 1.169468, D_Loss: 0.348143, time: 5.00 min\n",
      "Epoch: 9, G_Loss: 1.443285, D_Loss: 0.374074, time: 5.59 min\n",
      "Epoch: 10, G_Loss: 1.398058, D_Loss: 0.271197, time: 6.22 min\n",
      "Epoch: 11, G_Loss: 1.064316, D_Loss: 0.412500, time: 6.87 min\n",
      "Epoch: 12, G_Loss: 1.713684, D_Loss: 0.293074, time: 7.51 min\n",
      "Epoch: 13, G_Loss: 2.185707, D_Loss: 0.331351, time: 8.16 min\n",
      "Epoch: 14, G_Loss: 1.497111, D_Loss: 0.315077, time: 8.77 min\n",
      "Epoch: 15, G_Loss: 2.052145, D_Loss: 0.189731, time: 9.38 min\n",
      "Epoch: 17, G_Loss: 2.055316, D_Loss: 0.369655, time: 10.01 min\n",
      "Epoch: 18, G_Loss: 2.145104, D_Loss: 0.299402, time: 10.62 min\n",
      "Epoch: 19, G_Loss: 2.249108, D_Loss: 0.265864, time: 11.23 min\n",
      "Epoch: 20, G_Loss: 2.305572, D_Loss: 0.224696, time: 11.85 min\n",
      "Epoch: 21, G_Loss: 2.111553, D_Loss: 0.388085, time: 12.47 min\n",
      "Epoch: 22, G_Loss: 1.291439, D_Loss: 0.342011, time: 13.11 min\n",
      "Epoch: 23, G_Loss: 2.732534, D_Loss: 0.183426, time: 13.73 min\n",
      "Epoch: 24, G_Loss: 2.169951, D_Loss: 0.353358, time: 14.38 min\n",
      "Epoch: 25, G_Loss: 1.803485, D_Loss: 0.251765, time: 15.00 min\n",
      "Epoch: 26, G_Loss: 2.565212, D_Loss: 0.224636, time: 15.61 min\n",
      "Epoch: 27, G_Loss: 1.997612, D_Loss: 0.315626, time: 16.24 min\n",
      "Epoch: 28, G_Loss: 2.207538, D_Loss: 0.329158, time: 16.87 min\n",
      "Epoch: 29, G_Loss: 2.245273, D_Loss: 0.361490, time: 17.50 min\n",
      "Epoch: 30, G_Loss: 2.338547, D_Loss: 0.370678, time: 18.16 min\n",
      "Epoch: 31, G_Loss: 1.607021, D_Loss: 0.334336, time: 18.81 min\n",
      "Epoch: 33, G_Loss: 1.881055, D_Loss: 0.383550, time: 19.48 min\n",
      "Epoch: 34, G_Loss: 1.370527, D_Loss: 0.422316, time: 20.12 min\n",
      "Epoch: 35, G_Loss: 2.174968, D_Loss: 0.311929, time: 20.74 min\n",
      "Epoch: 36, G_Loss: 1.934981, D_Loss: 0.448428, time: 21.37 min\n",
      "Epoch: 37, G_Loss: 1.271562, D_Loss: 0.401893, time: 21.99 min\n",
      "Epoch: 38, G_Loss: 1.745935, D_Loss: 0.356414, time: 22.62 min\n",
      "Epoch: 39, G_Loss: 1.561121, D_Loss: 0.344455, time: 23.26 min\n",
      "Epoch: 40, G_Loss: 2.232341, D_Loss: 0.416699, time: 23.89 min\n",
      "Epoch: 41, G_Loss: 1.891286, D_Loss: 0.425794, time: 24.47 min\n",
      "Epoch: 42, G_Loss: 2.244873, D_Loss: 0.395072, time: 25.10 min\n",
      "Epoch: 43, G_Loss: 1.530779, D_Loss: 0.503258, time: 25.70 min\n",
      "Epoch: 44, G_Loss: 2.625919, D_Loss: 0.409226, time: 26.33 min\n",
      "Epoch: 45, G_Loss: 1.841861, D_Loss: 0.343946, time: 26.98 min\n",
      "Epoch: 46, G_Loss: 1.972266, D_Loss: 0.294587, time: 27.63 min\n",
      "Epoch: 47, G_Loss: 1.637564, D_Loss: 0.354132, time: 28.26 min\n",
      "Epoch: 49, G_Loss: 2.223997, D_Loss: 0.404850, time: 28.84 min\n",
      "Epoch: 50, G_Loss: 2.343306, D_Loss: 0.348829, time: 29.42 min\n",
      "Epoch: 51, G_Loss: 1.896132, D_Loss: 0.372902, time: 29.99 min\n",
      "Epoch: 52, G_Loss: 1.567417, D_Loss: 0.327989, time: 30.60 min\n",
      "Epoch: 53, G_Loss: 2.260205, D_Loss: 0.328058, time: 31.26 min\n",
      "Epoch: 54, G_Loss: 2.479856, D_Loss: 0.342547, time: 31.93 min\n",
      "Epoch: 55, G_Loss: 2.406446, D_Loss: 0.299491, time: 32.60 min\n",
      "Epoch: 56, G_Loss: 1.272843, D_Loss: 0.518132, time: 33.23 min\n",
      "Epoch: 57, G_Loss: 1.780189, D_Loss: 0.283307, time: 33.83 min\n",
      "Epoch: 58, G_Loss: 2.518872, D_Loss: 0.281848, time: 34.44 min\n",
      "Epoch: 59, G_Loss: 1.505970, D_Loss: 0.427947, time: 35.11 min\n",
      "Epoch: 60, G_Loss: 2.122934, D_Loss: 0.382520, time: 35.77 min\n",
      "Epoch: 61, G_Loss: 2.414763, D_Loss: 0.404032, time: 36.37 min\n",
      "Epoch: 62, G_Loss: 2.061846, D_Loss: 0.280471, time: 36.94 min\n",
      "Epoch: 63, G_Loss: 1.757583, D_Loss: 0.427605, time: 37.52 min\n",
      "Epoch: 65, G_Loss: 2.423542, D_Loss: 0.360318, time: 38.10 min\n",
      "Epoch: 66, G_Loss: 2.518050, D_Loss: 0.301631, time: 38.69 min\n",
      "Epoch: 67, G_Loss: 2.889043, D_Loss: 0.361407, time: 39.29 min\n",
      "Epoch: 68, G_Loss: 2.200050, D_Loss: 0.363464, time: 39.90 min\n",
      "Epoch: 69, G_Loss: 1.810007, D_Loss: 0.368677, time: 40.55 min\n",
      "Epoch: 70, G_Loss: 2.075152, D_Loss: 0.373686, time: 41.15 min\n",
      "Epoch: 71, G_Loss: 2.047676, D_Loss: 0.369220, time: 41.71 min\n",
      "Epoch: 72, G_Loss: 2.087084, D_Loss: 0.274456, time: 42.27 min\n",
      "Epoch: 73, G_Loss: 1.604389, D_Loss: 0.327615, time: 42.85 min\n",
      "Epoch: 74, G_Loss: 2.081648, D_Loss: 0.358464, time: 43.51 min\n",
      "Epoch: 75, G_Loss: 1.786805, D_Loss: 0.374159, time: 44.17 min\n",
      "Epoch: 76, G_Loss: 1.845641, D_Loss: 0.396201, time: 44.78 min\n",
      "Epoch: 77, G_Loss: 1.856811, D_Loss: 0.464291, time: 45.39 min\n",
      "Epoch: 78, G_Loss: 2.154354, D_Loss: 0.286990, time: 46.04 min\n",
      "Epoch: 79, G_Loss: 2.661876, D_Loss: 0.376200, time: 46.66 min\n",
      "Epoch: 81, G_Loss: 2.803993, D_Loss: 0.457327, time: 47.26 min\n",
      "Epoch: 82, G_Loss: 2.643055, D_Loss: 0.260920, time: 47.89 min\n",
      "Epoch: 83, G_Loss: 2.357481, D_Loss: 0.353830, time: 48.51 min\n",
      "Epoch: 84, G_Loss: 2.448207, D_Loss: 0.474445, time: 49.08 min\n",
      "Epoch: 85, G_Loss: 2.621787, D_Loss: 0.376281, time: 49.66 min\n",
      "Epoch: 86, G_Loss: 2.394447, D_Loss: 0.314888, time: 50.22 min\n",
      "Epoch: 87, G_Loss: 2.095955, D_Loss: 0.281552, time: 50.79 min\n",
      "Epoch: 88, G_Loss: 1.454160, D_Loss: 0.439566, time: 51.36 min\n",
      "Epoch: 89, G_Loss: 2.334072, D_Loss: 0.341680, time: 51.93 min\n",
      "Epoch: 90, G_Loss: 1.944567, D_Loss: 0.486864, time: 52.50 min\n",
      "Epoch: 91, G_Loss: 2.712900, D_Loss: 0.303209, time: 53.13 min\n",
      "Epoch: 92, G_Loss: 2.158850, D_Loss: 0.323685, time: 53.77 min\n",
      "Epoch: 93, G_Loss: 2.567605, D_Loss: 0.362203, time: 54.37 min\n",
      "Epoch: 94, G_Loss: 3.351762, D_Loss: 0.395177, time: 54.94 min\n",
      "Epoch: 95, G_Loss: 2.406078, D_Loss: 0.407984, time: 55.54 min\n",
      "Epoch: 97, G_Loss: 3.571467, D_Loss: 0.342551, time: 56.17 min\n",
      "Epoch: 98, G_Loss: 2.676374, D_Loss: 0.372156, time: 56.79 min\n",
      "Epoch: 99, G_Loss: 1.617416, D_Loss: 0.434385, time: 57.44 min\n"
     ]
    }
   ],
   "source": [
    "batch_count = 0\n",
    "start_time = time.time()\n",
    "model_dis.train()\n",
    "model_gen.train()\n",
    "\n",
    "for epoch in range(num_epochs):\n",
    "    for xb, yb in train_dl:\n",
    "        ba_si = xb.shape[0]\n",
    "\n",
    "        xb = xb.to(device)\n",
    "        yb = yb.to(device)\n",
    "        yb_real = torch.Tensor(ba_si,1).fill_(1.0).to(device) # real_label\n",
    "        yb_fake = torch.Tensor(ba_si,1).fill_(0.0).to(device) # fake_label\n",
    "\n",
    "        # Genetator\n",
    "        model_gen.zero_grad()\n",
    "        noise = torch.randn(ba_si,100).to(device) # 노이즈 생성\n",
    "        gen_label = torch.randint(0,10,(ba_si,)).to(device) # label 생성\n",
    "\n",
    "        # 가짜 이미지 생성\n",
    "        out_gen = model_gen(noise, gen_label)\n",
    "\n",
    "        # 가짜 이미지 판별\n",
    "        out_dis = model_dis(out_gen, gen_label)\n",
    "\n",
    "        loss_gen = loss_func(out_dis, yb_real)\n",
    "        loss_gen.backward()\n",
    "        opt_gen.step()\n",
    "\n",
    "        # Discriminator\n",
    "        model_dis.zero_grad()\n",
    "        \n",
    "        # 진짜 이미지 판별\n",
    "        out_dis = model_dis(xb, yb)\n",
    "        loss_real = loss_func(out_dis, yb_real)\n",
    "\n",
    "        # 가짜 이미지 판별\n",
    "        out_dis = model_dis(out_gen.detach(),gen_label)\n",
    "        loss_fake = loss_func(out_dis,yb_fake)\n",
    "\n",
    "        loss_dis = (loss_real + loss_fake) / 2\n",
    "        loss_dis.backward()\n",
    "        opt_dis.step()\n",
    "\n",
    "        loss_history['gen'].append(loss_gen.item())\n",
    "        loss_history['dis'].append(loss_dis.item())\n",
    "\n",
    "        batch_count += 1\n",
    "        if batch_count % 1000 == 0:\n",
    "            print('Epoch: %.0f, G_Loss: %.6f, D_Loss: %.6f, time: %.2f min' %(epoch, loss_gen.item(), loss_dis.item(), (time.time()-start_time)/60))"
   ]
  },
  {
   "cell_type": "code",
   "execution_count": 18,
   "id": "c5765728-b84a-46a3-ae57-10f3b3810cd3",
   "metadata": {},
   "outputs": [
    {
     "data": {
      "image/png": "[encoded data removed]",
      "text/plain": [
       "<Figure size 720x360 with 1 Axes>"
      ]
     },
     "metadata": {
      "needs_background": "light"
     },
     "output_type": "display_data"
    }
   ],
   "source": [
    "# plot loss history\n",
    "plt.figure(figsize=(10,5))\n",
    "plt.title('Loss Progress')\n",
    "plt.plot(loss_history['gen'], label='Gen. Loss')\n",
    "plt.plot(loss_history['dis'], label='Dis. Loss')\n",
    "plt.xlabel('batch count')\n",
    "plt.ylabel('Loss')\n",
    "plt.legend()\n",
    "plt.show()"
   ]
  },
  {
   "cell_type": "code",
   "execution_count": 19,
   "id": "961f9f66-a6da-484e-9808-3da6ec5f23cf",
   "metadata": {},
   "outputs": [],
   "source": [
    "# 가중치 저장\n",
    "path2models = './models/'\n",
    "os.makedirs(path2models, exist_ok=True)\n",
    "path2weights_gen = os.path.join(path2models, 'weights_gen.pt')\n",
    "path2weights_dis = os.path.join(path2models, 'weights_dis.pt')\n",
    "\n",
    "torch.save(model_gen.state_dict(), path2weights_gen)\n",
    "torch.save(model_dis.state_dict(), path2weights_dis)"
   ]
  },
  {
   "cell_type": "markdown",
   "id": "7a60b1f4-10f8-49cd-81e5-fc4349268024",
   "metadata": {},
   "source": [
    "### 4. Check Image"
   ]
  },
  {
   "cell_type": "code",
   "execution_count": 20,
   "id": "b98b5058-bffe-4d82-ae52-4470fafb590f",
   "metadata": {},
   "outputs": [
    {
     "name": "stdout",
     "output_type": "stream",
     "text": [
      "torch.Size([16, 1, 28, 28])\n"
     ]
    }
   ],
   "source": [
    "# 가중치 불러오기\n",
    "weights = torch.load(path2weights_gen)\n",
    "model_gen.load_state_dict(weights)\n",
    "\n",
    "# evalutaion mode\n",
    "model_gen.eval()\n",
    "\n",
    "# fake image 생성\n",
    "with torch.no_grad():\n",
    "    fixed_noise = torch.randn(16, 100, device=device)\n",
    "    label = torch.randint(0,10,(16,), device=device)\n",
    "    img_fake = model_gen(fixed_noise, label).detach().cpu()\n",
    "print(img_fake.shape)"
   ]
  },
  {
   "cell_type": "code",
   "execution_count": 21,
   "id": "172a746b-826f-483d-8e6b-7cac7a131ffb",
   "metadata": {},
   "outputs": [
    {
     "ename": "NameError",
     "evalue": "name 'to_pil_image' is not defined",
     "output_type": "error",
     "traceback": [
      "\u001b[0;31m---------------------------------------------------------------------------\u001b[0m",
      "\u001b[0;31mNameError\u001b[0m                                 Traceback (most recent call last)",
      "Input \u001b[0;32mIn [21]\u001b[0m, in \u001b[0;36m<cell line: 3>\u001b[0;34m()\u001b[0m\n\u001b[1;32m      3\u001b[0m \u001b[38;5;28;01mfor\u001b[39;00m ii \u001b[38;5;129;01min\u001b[39;00m \u001b[38;5;28mrange\u001b[39m(\u001b[38;5;241m16\u001b[39m):\n\u001b[1;32m      4\u001b[0m     plt\u001b[38;5;241m.\u001b[39msubplot(\u001b[38;5;241m4\u001b[39m,\u001b[38;5;241m4\u001b[39m,ii\u001b[38;5;241m+\u001b[39m\u001b[38;5;241m1\u001b[39m)\n\u001b[0;32m----> 5\u001b[0m     plt\u001b[38;5;241m.\u001b[39mimshow(\u001b[43mto_pil_image\u001b[49m(\u001b[38;5;241m0.5\u001b[39m\u001b[38;5;241m*\u001b[39mimg_fake[ii]\u001b[38;5;241m+\u001b[39m\u001b[38;5;241m0.5\u001b[39m), cmap\u001b[38;5;241m=\u001b[39m\u001b[38;5;124m'\u001b[39m\u001b[38;5;124mgray\u001b[39m\u001b[38;5;124m'\u001b[39m)\n\u001b[1;32m      6\u001b[0m     plt\u001b[38;5;241m.\u001b[39maxis(\u001b[38;5;124m'\u001b[39m\u001b[38;5;124moff\u001b[39m\u001b[38;5;124m'\u001b[39m)\n",
      "\u001b[0;31mNameError\u001b[0m: name 'to_pil_image' is not defined"
     ]
    },
    {
     "data": {
      "image/png": "[encoded data removed]",
      "text/plain": [
       "<Figure size 720x720 with 1 Axes>"
      ]
     },
     "metadata": {
      "needs_background": "light"
     },
     "output_type": "display_data"
    }
   ],
   "source": [
    "# 가짜 이미지 시각화\n",
    "plt.figure(figsize=(10,10))\n",
    "for ii in range(16):\n",
    "    plt.subplot(4,4,ii+1)\n",
    "    plt.imshow(to_pil_image(0.5*img_fake[ii]+0.5), cmap='gray')\n",
    "    plt.axis('off')"
   ]
  },
  {
   "cell_type": "code",
   "execution_count": null,
   "id": "d1f3d818-35de-4e7a-be77-73a880e555e0",
   "metadata": {},
   "outputs": [],
   "source": []
  }
 ],
 "metadata": {
  "kernelspec": {
   "display_name": "Python 3",
   "language": "python",
   "name": "python3"
  },
  "language_info": {
   "codemirror_mode": {
    "name": "ipython",
    "version": 3
   },
   "file_extension": ".py",
   "mimetype": "text/x-python",
   "name": "python",
   "nbconvert_exporter": "python",
   "pygments_lexer": "ipython3",
   "version": "3.8.13"
  }
 },
 "nbformat": 4,
 "nbformat_minor": 5
}
