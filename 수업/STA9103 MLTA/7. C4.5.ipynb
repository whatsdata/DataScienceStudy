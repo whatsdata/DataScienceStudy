{
  "nbformat": 4,
  "nbformat_minor": 0,
  "metadata": {
    "colab": {
      "name": "ISChoHW7.ipynb",
      "provenance": [],
      "collapsed_sections": []
    },
    "kernelspec": {
      "name": "python3",
      "display_name": "Python 3"
    },
    "language_info": {
      "name": "python"
    }
  },
  "cells": [
    {
      "cell_type": "code",
      "metadata": {
        "id": "yc9RYAl5-rLg"
      },
      "source": [
        "import numpy as np\n",
        "import pandas as pd\n",
        "from sklearn.metrics import confusion_matrix\n",
        "import itertools\n",
        "import sys"
      ],
      "execution_count": 3,
      "outputs": []
    },
    {
      "cell_type": "code",
      "metadata": {
        "colab": {
          "base_uri": "https://localhost:8080/"
        },
        "id": "qW4t1BUy-uku",
        "outputId": "533afde6-24e4-4125-9009-2cfa7e1e1ec3"
      },
      "source": [
        "#Question 1\n",
        "train_data_name=input(\"Enter the name of train data file [(ex) harris.dat] : \") # data name\n",
        "coding_fm=int(input(\"Select the data coding format(1 = 'a b c' or 2 = 'a,b,c'): \")) # data separator\n",
        "separator_fm={coding_fm ==1 : \" \"}.get(True, \",\")\n",
        "res_pos=int(input(\"Enter the column position of the response variable : [from 1 to p] : \"))\n",
        "header=input(\"Does the data have column header? (y/n) : \")\n",
        "if(header==\"y\") : trdata=pd.read_csv(train_data_name, sep=separator_fm) # loading data\n",
        "else : trdata=pd.read_csv(train_data_name, sep=separator_fm, header=None) # loading data\n",
        "out_name=input(\"Enter the output file name to export [(ex) result.txt] : \")\n",
        "\n",
        "# Extracting X and y\n",
        "data = pd.DataFrame(trdata)\n",
        "X= data.drop([data.columns[res_pos-1]], axis=1 )\n",
        "Y= data.iloc[:, res_pos-1 ].values"
      ],
      "execution_count": 41,
      "outputs": [
        {
          "name": "stdout",
          "output_type": "stream",
          "text": [
            "Enter the name of train data file [(ex) harris.dat] : titanic.csv\n",
            "Select the data coding format(1 = 'a b c' or 2 = 'a,b,c'): 2\n",
            "Enter the column position of the response variable : [from 1 to p] : 4\n",
            "Does the data have column header? (y/n) : y\n",
            "Enter the output file name to export [(ex) result.txt] : result.txt\n"
          ]
        }
      ]
    },
    {
      "cell_type": "code",
      "metadata": {
        "id": "z1JbgIze2K6D"
      },
      "source": [
        "  def gini(Y):\n",
        "    Y_1 =0; Y_2=0\n",
        "    Z = np.unique(Y)\n",
        "    for i in range(0,len(Y)):\n",
        "      if Y[i] == Z[1]:\n",
        "        Y_1 +=1\n",
        "      else:\n",
        "        Y_2 +=1 \n",
        "    p1 = Y_1 / len(Y)\n",
        "    p2 = Y_2 / len(Y)\n",
        "    gini = 1- p1**2 -p2**2\n",
        "  \n",
        "    return gini\n"
      ],
      "execution_count": 53,
      "outputs": []
    },
    {
      "cell_type": "code",
      "metadata": {
        "id": "AONXkNYdhpM7"
      },
      "source": [
        "  def decisiontree( X, Y, method = 'CART'):\n",
        "    if method == 'CART':\n",
        "        A=[]\n",
        "        B = np.unique(Y)\n",
        "        for i in range(0,len(X.iloc[0])):\n",
        "          if type(X.iloc[0,i]) == str:\n",
        "            options = []\n",
        "            for L in range(1,len(np.unique(X.iloc[:,i]))):\n",
        "              for subset in itertools.combinations(np.unique(X.iloc[:,i]),L):\n",
        "                subset = list(subset)\n",
        "                options.append(subset)\n",
        "            A.append(len(options))            \n",
        "          else:\n",
        "            A.append(len(X.iloc[:,i].sort_values().unique()))\n",
        "        c = np.max(A)\n",
        "        K = pd.DataFrame(index = range(0,len(X.iloc[0])), columns = range(0,c))\n",
        "        I = pd.DataFrame(index = range(0,len(X.iloc[0])), columns = range(0,c))\n",
        "        number =pd.DataFrame(index = range(0,len(X.iloc[0])), columns = range(0,c))\n",
        "        for i in range(0,len(X.iloc[0])):\n",
        "          Z=[]\n",
        "          if type(X.iloc[0,i]) == str:\n",
        "            options = []\n",
        "            for L in range(1,len(np.unique(X.iloc[:,i]))):\n",
        "              for subset in itertools.combinations(np.unique(X.iloc[:,i]),L):\n",
        "                subset = list(subset)\n",
        "                options.append(subset)\n",
        "            for j in range(0,len(options)):\n",
        "              condition = X.iloc[:,i].isin(options[j]) \n",
        "              l = len(Y[condition==True][Y[condition==True]==np.unique(Y)[1]])\n",
        "              g = len(Y[condition==True])/len(Y)*gini(Y[condition==True])  + len(Y[condition==False])/len(Y)*gini(Y[condition==False])\n",
        "              s = gini(Y) - g\n",
        "              K[j][i] = s\n",
        "              I[j][i] = np.array([options[j], list(np.delete(np.unique(X.iloc[:,i]),np.where(np.unique(X.iloc[:,i])==options[j])))]).flatten().tolist()\n",
        "              number[j][i] = [[l,len(Y[condition == True])-l ], [len(Y[Y==np.unique(Y)[1]])-l, len(Y[Y==np.unique(Y)[0]])-(len(Y[condition == True])-l) ]]\n",
        "\n",
        "          else:\n",
        "            for j in range(0,len(X.iloc[:,i].sort_values().unique())-1):\n",
        "              z1 = X.iloc[:,i].sort_values().unique()[j]\n",
        "              z2 = X.iloc[:,i].sort_values().unique()[j+1]\n",
        "              Z.append((z1+z2)/2)\n",
        "\n",
        "              for k in range(0,len(Z)):\n",
        "                condition = X.iloc[:,i]<=Z[k]\n",
        "                l = len(Y[condition==True][Y[condition==True]==np.unique(Y)[1]])\n",
        "                g = len(Y[condition==True])/len(Y)*gini(Y[condition==True])  + len(Y[condition==False])/len(Y)*gini(Y[condition==False])\n",
        "                s = gini(Y) - g\n",
        "                K[k][i] = s    \n",
        "                I[k][i] = Z[k]   \n",
        "                number[k][i] = [[l,len(Y[condition == True]-l) ], [len(Y[Y==np.unique(Y)[1]])-l, len(Y[Y==np.unique(Y)[0]])-(len(Y[condition == True])-l) ]]\n",
        "\n",
        "    else:\n",
        "        A=[]\n",
        "        B = np.unique(Y)\n",
        "        for i in range(0,len(X.iloc[0])):\n",
        "          if type(X.iloc[0,i]) == str:\n",
        "            A.append(1)            \n",
        "          else:\n",
        "            A.append(len(X.iloc[:,i].sort_values().unique()))\n",
        "        c = np.max(A)\n",
        "        K = pd.DataFrame(index = range(0,len(X.iloc[0])), columns = range(0,c))\n",
        "        I = pd.DataFrame(index = range(0,len(X.iloc[0])), columns = range(0,c))\n",
        "        number =pd.DataFrame(index = range(0,len(X.iloc[0])), columns = range(0,c))\n",
        "        e = len(Y[Y==np.unique(Y)[1]])/len(Y)\n",
        "        entropyY = -e*np.log2(e) -(1-e)*np.log2(1-e)\n",
        "\n",
        "        for i in range(0,len(X.iloc[0])):\n",
        "          if type(X.iloc[0,i]) == str:\n",
        "            p=[]\n",
        "            n=[]\n",
        "            num=[]\n",
        "            for j in range(0,len(np.unique(X.iloc[:,i]))):\n",
        "              condition = (X.iloc[:,i]==np.unique(X.iloc[:,i])[j])\n",
        "              l = len(Y[condition==True][Y[condition==True]==np.unique(Y)[1]])\n",
        "              p1 = l/len(Y[condition==True])\n",
        "              p.append((-p1*np.log2(p1) -(1-p1)*np.log2(1-p1))*(len(Y[condition==True])/(len(Y))))\n",
        "              n.append(-(len(Y[condition==True])/len(Y))*np.log2(len(Y[condition==True])/len(Y)))\n",
        "              num.append([l,len(Y[condition == True])-l ])\n",
        "            K[0][i] = (entropyY-np.sum(p))/np.sum(n)\n",
        "            I[0][i] = np.unique(X.iloc[:,i])\n",
        "            number[0][i] = num\n",
        "\n",
        "          else:\n",
        "            Z=[]\n",
        "            for j in range(0,len(X.iloc[:,i].sort_values().unique())-1):\n",
        "              z1 = X.iloc[:,i].sort_values().unique()[j]\n",
        "              z2 = X.iloc[:,i].sort_values().unique()[j+1]\n",
        "              Z.append((z1+z2)/2)\n",
        "\n",
        "              for k in range(0,len(Z)):\n",
        "                condition = X.iloc[:,i]<=Z[k]\n",
        "                l = len(Y[condition==True][Y[condition==True]==np.unique(Y)[1]])\n",
        "                p1 = len(Y[condition==True][Y[condition==True]==np.unique(Y)[1]])/len(Y[condition==True])\n",
        "                g = len(Y[condition==True])/len(Y)*(-p1*np.log2(p1))  + len(Y[condition==False])/len(Y)*(-(1-p1)*np.log2(1-p1))\n",
        "                n= -len(Y[condition==True])/len(Y)*np.log2(len(Y[condition==True])/len(Y)) -(1-len(Y[condition==True])/len(Y))*np.log2(1-len(Y[condition==True])/len(Y))\n",
        "                K[k][i] = (entropyY - g)/n   \n",
        "                I[k][i] = Z[k]   \n",
        "                number[k][i] = [[l,len(Y[condition == True]-l) ], [len(Y[Y==np.unique(Y)[1]])-l, len(Y[Y==np.unique(Y)[0]])-(len(Y[condition == True])-l) ]]\n",
        "    \n",
        "    \n",
        "    K = K.astype(float)\n",
        "    idx = []\n",
        "    col = K.idxmax(axis=1)\n",
        "    for i in range(0,len(X.iloc[0])):\n",
        "      idx.append(K[col[i]][i])\n",
        "    idx_r = np.argmax(idx) # 첫 노드를 나누는 변수\n",
        "    idx_c = col[idx_r] \n",
        "\n",
        "   \n",
        "    print('tree structure (', method, ')') \n",
        "    if len(Y[Y==np.unique(Y)[1]]) >= len(Y)/2:\n",
        "      print( 'node 1 : yes  (', len(Y[Y==np.unique(Y)[1]]),',', len(Y) - len(Y[Y==np.unique(Y)[1]]), ')')\n",
        "    else:\n",
        "      print( 'node 1 : no  (', len(Y[Y==np.unique(Y)[1]]),',', len(Y) - len(Y[Y==np.unique(Y)[1]]), ')')\n",
        "    for i in range(0,len(I[idx_c][idx_r])):\n",
        "      if number[idx_c][idx_r][i][0]>= number[idx_c][idx_r][i][1]:\n",
        "        print(f'node {i+2} :' 'class = ', I[idx_c][idx_r][i], ' yes (',number[idx_c][idx_r][i][0], ',' , number[idx_c][idx_r][i][1], ')' )\n",
        "      else:\n",
        "        print(f'node {i+2} :' 'class = ', I[idx_c][idx_r][i], ' no (',number[idx_c][idx_r][i][0], ',' , number[idx_c][idx_r][i][1], ')' )\n",
        "\n",
        "    Y2= []\n",
        "    if number[idx_c][idx_r][0][0]>= number[idx_c][idx_r][0][1]:\n",
        "      for i in range(0,len(Y)):\n",
        "        if X.iloc[:,idx_r][i] == I[idx_c][idx_r][0]:\n",
        "          Y2.append(np.unique(Y)[1])\n",
        "        else:\n",
        "          Y2.append(np.unique(Y)[0])\n",
        "    else:\n",
        "        if X.iloc[:,idx_r][i] == I[idx_c][idx_r][1]:\n",
        "          Y2.append(np.unique(Y)[1])\n",
        "        else:\n",
        "          Y2.append(np.unique(Y)[0])\n",
        "\n",
        "    confusion_tst = confusion_matrix(Y,Y2)\n",
        "    accu_tst = 0\n",
        "    for i in range(len(np.unique(Y))):\n",
        "      accu_tst = accu_tst + confusion_tst[i][i]\n",
        "    accuracy_tst = accu_tst / X.shape[0]\n",
        "\n",
        "    print('\\n\\nconfusion matrix (train)')\n",
        "    print('----------------------------------')\n",
        "    print('           predicted class \\n Actual 1 ' ,confusion_tst[0], '\\n class  2 ', confusion_tst[1])\n",
        "    for i in range(2,len(np.unique(Y)) ):\n",
        "      print(f'        {i+1} ', confusion_tst[i])\n",
        "    print('model summary')\n",
        "    print('----------------------------------')\n",
        "    print('Overall accuracy = ' ,accuracy_tst)\n",
        "\n",
        "\n"
      ],
      "execution_count": 54,
      "outputs": []
    },
    {
      "cell_type": "code",
      "metadata": {
        "id": "HfoliOUC6oM9"
      },
      "source": [
        "sys.stdout = open(out_name,'w')\n",
        "decisiontree(X,Y, method = 'C4_5')"
      ],
      "execution_count": 55,
      "outputs": []
    },
    {
      "cell_type": "code",
      "metadata": {
        "id": "CeJWxRTaH_Lj"
      },
      "source": [
        "print('')"
      ],
      "execution_count": 56,
      "outputs": []
    },
    {
      "cell_type": "code",
      "metadata": {
        "colab": {
          "base_uri": "https://localhost:8080/"
        },
        "id": "f9Cbo1Wyl4Wy",
        "outputId": "6d1462a8-a91d-4d8f-e900-48d223436350"
      },
      "source": [
        "decisiontree(X,Y, method = 'CART')"
      ],
      "execution_count": 57,
      "outputs": [
        {
          "output_type": "stream",
          "name": "stderr",
          "text": [
            "/usr/local/lib/python3.7/dist-packages/ipykernel_launcher.py:33: VisibleDeprecationWarning: Creating an ndarray from ragged nested sequences (which is a list-or-tuple of lists-or-tuples-or ndarrays with different lengths or shapes) is deprecated. If you meant to do this, you must specify 'dtype=object' when creating the ndarray\n",
            "/usr/local/lib/python3.7/dist-packages/ipykernel_launcher.py:33: VisibleDeprecationWarning: Creating an ndarray from ragged nested sequences (which is a list-or-tuple of lists-or-tuples-or ndarrays with different lengths or shapes) is deprecated. If you meant to do this, you must specify 'dtype=object' when creating the ndarray\n",
            "/usr/local/lib/python3.7/dist-packages/ipykernel_launcher.py:33: VisibleDeprecationWarning: Creating an ndarray from ragged nested sequences (which is a list-or-tuple of lists-or-tuples-or ndarrays with different lengths or shapes) is deprecated. If you meant to do this, you must specify 'dtype=object' when creating the ndarray\n",
            "/usr/local/lib/python3.7/dist-packages/ipykernel_launcher.py:33: VisibleDeprecationWarning: Creating an ndarray from ragged nested sequences (which is a list-or-tuple of lists-or-tuples-or ndarrays with different lengths or shapes) is deprecated. If you meant to do this, you must specify 'dtype=object' when creating the ndarray\n",
            "/usr/local/lib/python3.7/dist-packages/ipykernel_launcher.py:33: FutureWarning: elementwise comparison failed; returning scalar instead, but in the future will perform elementwise comparison\n",
            "/usr/local/lib/python3.7/dist-packages/ipykernel_launcher.py:33: VisibleDeprecationWarning: Creating an ndarray from ragged nested sequences (which is a list-or-tuple of lists-or-tuples-or ndarrays with different lengths or shapes) is deprecated. If you meant to do this, you must specify 'dtype=object' when creating the ndarray\n",
            "/usr/local/lib/python3.7/dist-packages/ipykernel_launcher.py:33: FutureWarning: elementwise comparison failed; returning scalar instead, but in the future will perform elementwise comparison\n",
            "/usr/local/lib/python3.7/dist-packages/ipykernel_launcher.py:33: VisibleDeprecationWarning: Creating an ndarray from ragged nested sequences (which is a list-or-tuple of lists-or-tuples-or ndarrays with different lengths or shapes) is deprecated. If you meant to do this, you must specify 'dtype=object' when creating the ndarray\n",
            "/usr/local/lib/python3.7/dist-packages/ipykernel_launcher.py:33: FutureWarning: elementwise comparison failed; returning scalar instead, but in the future will perform elementwise comparison\n",
            "/usr/local/lib/python3.7/dist-packages/ipykernel_launcher.py:33: VisibleDeprecationWarning: Creating an ndarray from ragged nested sequences (which is a list-or-tuple of lists-or-tuples-or ndarrays with different lengths or shapes) is deprecated. If you meant to do this, you must specify 'dtype=object' when creating the ndarray\n",
            "/usr/local/lib/python3.7/dist-packages/ipykernel_launcher.py:33: FutureWarning: elementwise comparison failed; returning scalar instead, but in the future will perform elementwise comparison\n",
            "/usr/local/lib/python3.7/dist-packages/ipykernel_launcher.py:33: VisibleDeprecationWarning: Creating an ndarray from ragged nested sequences (which is a list-or-tuple of lists-or-tuples-or ndarrays with different lengths or shapes) is deprecated. If you meant to do this, you must specify 'dtype=object' when creating the ndarray\n",
            "/usr/local/lib/python3.7/dist-packages/ipykernel_launcher.py:33: FutureWarning: elementwise comparison failed; returning scalar instead, but in the future will perform elementwise comparison\n",
            "/usr/local/lib/python3.7/dist-packages/ipykernel_launcher.py:33: VisibleDeprecationWarning: Creating an ndarray from ragged nested sequences (which is a list-or-tuple of lists-or-tuples-or ndarrays with different lengths or shapes) is deprecated. If you meant to do this, you must specify 'dtype=object' when creating the ndarray\n",
            "/usr/local/lib/python3.7/dist-packages/ipykernel_launcher.py:33: FutureWarning: elementwise comparison failed; returning scalar instead, but in the future will perform elementwise comparison\n",
            "/usr/local/lib/python3.7/dist-packages/ipykernel_launcher.py:33: VisibleDeprecationWarning: Creating an ndarray from ragged nested sequences (which is a list-or-tuple of lists-or-tuples-or ndarrays with different lengths or shapes) is deprecated. If you meant to do this, you must specify 'dtype=object' when creating the ndarray\n",
            "/usr/local/lib/python3.7/dist-packages/ipykernel_launcher.py:33: FutureWarning: elementwise comparison failed; returning scalar instead, but in the future will perform elementwise comparison\n",
            "/usr/local/lib/python3.7/dist-packages/ipykernel_launcher.py:33: VisibleDeprecationWarning: Creating an ndarray from ragged nested sequences (which is a list-or-tuple of lists-or-tuples-or ndarrays with different lengths or shapes) is deprecated. If you meant to do this, you must specify 'dtype=object' when creating the ndarray\n",
            "/usr/local/lib/python3.7/dist-packages/ipykernel_launcher.py:33: FutureWarning: elementwise comparison failed; returning scalar instead, but in the future will perform elementwise comparison\n",
            "/usr/local/lib/python3.7/dist-packages/ipykernel_launcher.py:33: VisibleDeprecationWarning: Creating an ndarray from ragged nested sequences (which is a list-or-tuple of lists-or-tuples-or ndarrays with different lengths or shapes) is deprecated. If you meant to do this, you must specify 'dtype=object' when creating the ndarray\n",
            "/usr/local/lib/python3.7/dist-packages/ipykernel_launcher.py:33: FutureWarning: elementwise comparison failed; returning scalar instead, but in the future will perform elementwise comparison\n",
            "/usr/local/lib/python3.7/dist-packages/ipykernel_launcher.py:33: VisibleDeprecationWarning: Creating an ndarray from ragged nested sequences (which is a list-or-tuple of lists-or-tuples-or ndarrays with different lengths or shapes) is deprecated. If you meant to do this, you must specify 'dtype=object' when creating the ndarray\n",
            "/usr/local/lib/python3.7/dist-packages/ipykernel_launcher.py:33: FutureWarning: elementwise comparison failed; returning scalar instead, but in the future will perform elementwise comparison\n",
            "/usr/local/lib/python3.7/dist-packages/ipykernel_launcher.py:33: VisibleDeprecationWarning: Creating an ndarray from ragged nested sequences (which is a list-or-tuple of lists-or-tuples-or ndarrays with different lengths or shapes) is deprecated. If you meant to do this, you must specify 'dtype=object' when creating the ndarray\n"
          ]
        }
      ]
    },
    {
      "cell_type": "code",
      "metadata": {
        "id": "3u0YKBsEvJ0D"
      },
      "source": [
        ""
      ],
      "execution_count": null,
      "outputs": []
    }
  ]
}