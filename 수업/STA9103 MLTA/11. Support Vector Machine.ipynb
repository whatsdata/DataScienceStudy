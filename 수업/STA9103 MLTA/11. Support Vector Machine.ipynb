{
  "nbformat": 4,
  "nbformat_minor": 0,
  "metadata": {
    "colab": {
      "name": "HW11ChoIS.ipynb",
      "provenance": []
    },
    "kernelspec": {
      "name": "python3",
      "display_name": "Python 3"
    },
    "language_info": {
      "name": "python"
    }
  },
  "cells": [
    {
      "cell_type": "code",
      "metadata": {
        "id": "_gp_LMhsGPR4"
      },
      "source": [
        "import numpy as np \n",
        "import pandas as pd \n",
        "import matplotlib.pyplot as plt\n",
        "import seaborn as sns\n",
        "from sklearn.metrics import confusion_matrix\n",
        "from sklearn.svm import SVC\n",
        "import scipy.stats as stat\n",
        "import sys\n",
        "from sklearn.metrics import accuracy_score"
      ],
      "execution_count": 1,
      "outputs": []
    },
    {
      "cell_type": "code",
      "metadata": {
        "id": "1nZG_CdFHq5v"
      },
      "source": [
        "#data generation\n",
        "\n",
        "def ygeneration(X):\n",
        "  fx = (X['X1']*np.sqrt(np.abs(X['X4'])+1)+ np.sin(X['X3'])\n",
        "   - np.abs(X['X2'])/(np.sqrt(np.abs(X['X5'])+1)) +1.5*np.abs(X['X6']) +X['X7'])\n",
        "  p = 1/ (1+np.exp(-fx))\n",
        "  y=[]\n",
        "  for i in range(len(p)):\n",
        "    y.append(np.random.binomial(n=1, p=p[i], size=1 ))\n",
        "  return np.ravel(y)\n",
        "\n",
        "Xtrain = {}\n",
        "for i in range(7):\n",
        "  if i <=2:\n",
        "    Xtrain[f'X{i+1}'] = np.random.uniform(-10,10,1000)\n",
        "  else:\n",
        "    Xtrain[f'X{i+1}'] = np.random.normal(loc=0, scale = np.sqrt(10),size = 1000)\n",
        "Xtrain = pd.DataFrame(Xtrain)\n",
        "\n",
        "\n",
        "Xtest = {}\n",
        "for i in range(7):\n",
        "  if i <=2:\n",
        "    Xtest[f'X{i+1}'] = np.random.uniform(-10,10,1000)\n",
        "  else:\n",
        "    Xtest[f'X{i+1}'] = np.random.normal(loc=0, scale = np.sqrt(10),size = 1000)\n",
        "Xtest = pd.DataFrame(Xtest)\n",
        "\n",
        "ytrain = ygeneration(Xtrain)\n",
        "ytest = ygeneration(Xtest)"
      ],
      "execution_count": 2,
      "outputs": []
    },
    {
      "cell_type": "code",
      "metadata": {
        "colab": {
          "base_uri": "https://localhost:8080/",
          "height": 298
        },
        "id": "W2aGZ-rfJYR8",
        "outputId": "dd5b3201-e486-44ae-d3d7-f9fff1a43884"
      },
      "source": [
        "#1. fitting using linear SVM\n",
        "C = np.array([ 0.1, 0.5, 1, 5, 10, 30, 50, 70, 90, 150])\n",
        "\n",
        "linearclf = {}\n",
        "errorrate = []\n",
        "for i in range(len(C)):\n",
        "  linearclf[f'SVC{i}'] = SVC(kernel='linear', random_state=0, C=C[i])\n",
        "  linearclf[f'SVC{i}'].fit(Xtrain, ytrain)\n",
        "  errorrate.append(1-accuracy_score(ytest, linearclf[f'SVC{i}'].predict(Xtest)))\n",
        "\n",
        "#2. drawing graphs\n",
        "plt.plot(errorrate ,marker=\"o\")\n",
        "plt.xticks(range(len(C)), C)\n",
        "plt.xlabel('C')\n",
        "plt.ylabel('error rate')\n",
        "plt.show()\n",
        "\n",
        "#3. the lowest error rate one\n",
        "linearC = C[np.argmin(errorrate)]\n",
        "print('the best C :', linearC)"
      ],
      "execution_count": 3,
      "outputs": [
        {
          "output_type": "display_data",
          "data": {
            "image/png": "[encoded data removed]",
            "text/plain": [
              "<Figure size 432x288 with 1 Axes>"
            ]
          },
          "metadata": {
            "needs_background": "light"
          }
        },
        {
          "output_type": "stream",
          "name": "stdout",
          "text": [
            "the best C : 0.1\n"
          ]
        }
      ]
    },
    {
      "cell_type": "code",
      "metadata": {
        "colab": {
          "base_uri": "https://localhost:8080/",
          "height": 298
        },
        "id": "-s7RkLVpQ1w8",
        "outputId": "1513fc6e-9c72-43ef-c75e-98f97025ac57"
      },
      "source": [
        "#4. fitting using non-linear SVM\n",
        "C = np.array([ 0.1, 0.5, 1, 5, 10, 30, 50, 70, 90, 150])\n",
        "\n",
        "rbfclf = {}\n",
        "errorrate = []\n",
        "for i in range(len(C)):\n",
        "  rbfclf[f'SVC{i}'] = SVC(kernel='rbf', random_state=0, C=C[i])\n",
        "  rbfclf[f'SVC{i}'].fit(Xtrain, ytrain)\n",
        "  errorrate.append(1-accuracy_score(ytest, rbfclf[f'SVC{i}'].predict(Xtest)))\n",
        "\n",
        "#5. drawing graphs\n",
        "plt.plot(errorrate, marker = 'o')\n",
        "plt.xticks(range(len(C)), C)\n",
        "plt.xlabel('C')\n",
        "plt.ylabel('error rate')\n",
        "plt.show()\n",
        "\n",
        "#6. the lowest error rate one\n",
        "rbfC = C[np.argmin(errorrate)]\n",
        "print('the best C :', rbfC)\n"
      ],
      "execution_count": 4,
      "outputs": [
        {
          "output_type": "display_data",
          "data": {
            "image/png": "[encoded data removed]",
            "text/plain": [
              "<Figure size 432x288 with 1 Axes>"
            ]
          },
          "metadata": {
            "needs_background": "light"
          }
        },
        {
          "output_type": "stream",
          "name": "stdout",
          "text": [
            "the best C : 10.0\n"
          ]
        }
      ]
    },
    {
      "cell_type": "code",
      "metadata": {
        "id": "z7h__dVKPrac"
      },
      "source": [
        "#7 result\n",
        "sys.stdout = open('result.txt','w')\n",
        "\n",
        "print('    ')\n",
        "print('Linear Kernel SVM(C=',linearC ,')')\n",
        "print( 'Confusion Matrix( SVM-linear)')\n",
        "print('----------------------------------------------------')\n",
        "confusion_tst = confusion_matrix(ytest, \n",
        "                                 linearclf[f'SVC{np.where(C==linearC)[0][0]}'].predict(Xtest))\n",
        "\n",
        "accu_tst = 0\n",
        "for i in range(len(np.unique(ytest))):\n",
        "  accu_tst = accu_tst + confusion_tst[i][i]\n",
        "accuracy_tst = accu_tst / len(ytest)\n",
        "\n",
        "print('           predicted class \\n Actual 1 ' ,confusion_tst[0], \n",
        "      '\\n class  2 ', confusion_tst[1])\n",
        "for i in range(2, len(np.unique(ytest))) :\n",
        "  print(f'        {i+1} ', confusion_tst[i])\n",
        "print('model summary')\n",
        "print('----------------------------------')\n",
        "print('Overall accuracy = ' ,accuracy_tst)\n",
        "\n",
        "print('    ')\n",
        "print('RBF Kernel SVM(C=',rbfC ,')')\n",
        "print( 'Confusion Matrix( SVM-rbf)')\n",
        "print('----------------------------------------------------')\n",
        "confusion_tst = confusion_matrix(ytest, \n",
        "                                 rbfclf[f'SVC{np.where(C==rbfC)[0][0]}'].predict(Xtest))\n",
        "\n",
        "accu_tst = 0\n",
        "for i in range(len(np.unique(ytest))):\n",
        "  accu_tst = accu_tst + confusion_tst[i][i]\n",
        "accuracy_tst = accu_tst / len(ytest)\n",
        "\n",
        "print('           predicted class \\n Actual 1 ' ,confusion_tst[0], \n",
        "      '\\n class  2 ', confusion_tst[1])\n",
        "for i in range(2, len(np.unique(ytest))) :\n",
        "  print(f'        {i+1} ', confusion_tst[i])\n",
        "print('model summary')\n",
        "print('----------------------------------')\n",
        "print('Overall accuracy = ' ,accuracy_tst)"
      ],
      "execution_count": 5,
      "outputs": []
    }
  ]
}