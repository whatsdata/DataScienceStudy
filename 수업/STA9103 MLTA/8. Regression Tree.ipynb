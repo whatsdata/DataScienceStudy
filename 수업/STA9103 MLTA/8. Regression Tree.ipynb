{
  "nbformat": 4,
  "nbformat_minor": 0,
  "metadata": {
    "colab": {
      "name": "ISChoHW8.ipynb",
      "provenance": [],
      "collapsed_sections": []
    },
    "kernelspec": {
      "name": "python3",
      "display_name": "Python 3"
    },
    "language_info": {
      "name": "python"
    }
  },
  "cells": [
    {
      "cell_type": "code",
      "metadata": {
        "id": "yc9RYAl5-rLg"
      },
      "source": [
        "import numpy as np\n",
        "import pandas as pd\n",
        "from sklearn.metrics import confusion_matrix\n",
        "import itertools\n",
        "import sys\n",
        "import warnings\n",
        "from pandas.api.types import is_numeric_dtype\n",
        "warnings.filterwarnings('ignore')"
      ],
      "execution_count": null,
      "outputs": []
    },
    {
      "cell_type": "code",
      "metadata": {
        "colab": {
          "base_uri": "https://localhost:8080/"
        },
        "id": "qW4t1BUy-uku",
        "outputId": "84be03ee-f627-4a8a-c781-2a7786558e5d"
      },
      "source": [
        "\n",
        "train_data_name=input(\"Enter the name of train data file [(ex) harris.dat] : \") # data name\n",
        "test_data_name=input(\"Enter the name of test data file [(ex) harris.dat] : \") \n",
        "coding_fm=int(input(\"Select the data coding format(1 = 'a b c' or 2 = 'a,b,c'): \")) # data separator\n",
        "separator_fm={coding_fm ==1 : \" \"}.get(True, \",\")\n",
        "res_pos=int(input(\"Enter the column position of the response variable : [from 1 to p] : \"))\n",
        "header=input(\"Does the data have column header? (y/n) : \")\n",
        "if(header==\"y\") : trdata=pd.read_csv(train_data_name, sep=separator_fm) # loading data\n",
        "else : trdata=pd.read_csv(train_data_name, sep=separator_fm, header=None) # loading data\n",
        "if(header==\"y\") : tstdata=pd.read_csv(test_data_name, sep=separator_fm) # loading data\n",
        "else : tstdata=pd.read_csv(test_data_name, sep=separator_fm, header=None) # loading data\n",
        "out_name=input(\"Enter the output file name to export [(ex) result.txt] : \")\n",
        "\n",
        "# Extracting X and y\n",
        "data = pd.DataFrame(trdata)\n",
        "X= data.drop([data.columns[res_pos-1]], axis=1 )\n",
        "Y= data.iloc[:, res_pos-1 ].values\n",
        "\n",
        "#Extracting test X and y\n",
        "tstdata = pd.DataFrame(tstdata)\n",
        "tstX= tstdata.drop([tstdata.columns[res_pos-1]], axis=1 )\n",
        "tstY= tstdata.iloc[:, res_pos-1 ].values"
      ],
      "execution_count": null,
      "outputs": [
        {
          "name": "stdout",
          "output_type": "stream",
          "text": [
            "Enter the name of train data file [(ex) harris.dat] : boston_tr.csv\n",
            "Enter the name of test data file [(ex) harris.dat] : boston_tst.csv\n",
            "Select the data coding format(1 = 'a b c' or 2 = 'a,b,c'): 2\n",
            "Enter the column position of the response variable : [from 1 to p] : 13\n",
            "Does the data have column header? (y/n) : y\n",
            "Enter the output file name to export [(ex) result.txt] : result.txt\n"
          ]
        }
      ]
    },
    {
      "cell_type": "code",
      "metadata": {
        "id": "3JyvIjl97WeY"
      },
      "source": [
        "# Decision Regressor\n",
        "A=[]\n",
        "B = np.unique(Y)\n",
        "for i in range(0,len(X.iloc[0])):\n",
        "  if type(X.iloc[0,i]) == str:\n",
        "    options = []\n",
        "    for L in range(1,len(np.unique(X.iloc[:,i]))):\n",
        "      for subset in itertools.combinations(np.unique(X.iloc[:,i]),L):\n",
        "        subset = list(subset)\n",
        "        options.append(subset)\n",
        "    A.append(len(options))            \n",
        "  else:\n",
        "    A.append(len(X.iloc[:,i].sort_values().unique()))\n",
        "c = np.max(A)\n",
        "K = pd.DataFrame(index = range(0,len(X.iloc[0])), columns = range(0,c))\n",
        "I = pd.DataFrame(index = range(0,len(X.iloc[0])), columns = range(0,c))\n",
        "M = pd.DataFrame(index = range(0,len(X.iloc[0])), columns = range(0,c))\n",
        "number =pd.DataFrame(index = range(0,len(X.iloc[0])), columns = range(0,c))\n",
        "for i in range(0,len(X.iloc[0])):\n",
        "  Z=[]\n",
        "  if is_numeric_dtype(X.iloc[:,i]) == False :\n",
        "    options = []\n",
        "    for L in range(1,len(np.unique(X.iloc[:,i]))):\n",
        "      for subset in itertools.combinations(np.unique(X.iloc[:,i]),L):\n",
        "        subset = list(subset)\n",
        "        options.append(subset)\n",
        "    for j in range(0,len(options)):\n",
        "      condition = X.iloc[:,i].isin(options[j]) \n",
        "      bary1= np.sum(Y[condition == True])/len(Y[condition==True])\n",
        "      bary2= np.sum(Y[condition == False])/len(Y[condition==False])\n",
        "      mse1 = np.sum((Y[condition==True] - bary1)**2)/len(Y[condition==True])\n",
        "      mse2 = np.sum((Y[condition==False] - bary2)**2)/len(Y[condition==False])\n",
        "      mse = mse1 * (len(Y[condition==True])/len(Y)) + mse2 * (len(Y[condition==False])/len(Y))\n",
        "      K[j][i] = -mse\n",
        "      I[j][i] = np.array([options[j], list(np.delete(np.unique(X.iloc[:,i]),np.where(np.unique(X.iloc[:,i])==options[j])))]).flatten().tolist()\n",
        "      number[j][i] = len(Y[condition==True])\n",
        "      M[j][i] = [bary1, bary2]\n",
        "\n",
        "  else:\n",
        "    for j in range(0,len(X.iloc[:,i].sort_values().unique())-1):\n",
        "      z1 = X.iloc[:,i].sort_values().unique()[j]\n",
        "      z2 = X.iloc[:,i].sort_values().unique()[j+1]\n",
        "      Z.append((z1+z2)/2)\n",
        "\n",
        "    for k in range(0,len(Z)):\n",
        "      condition = X.iloc[:,i]<=Z[k]\n",
        "      bary1= np.sum(Y[condition == True])/len(Y[condition==True])\n",
        "      bary2= np.sum(Y[condition == False])/len(Y[condition==False])\n",
        "      mse1 = np.sum((Y[condition==True] - bary1)**2)/len(Y[condition==True])\n",
        "      mse2 = np.sum((Y[condition==False] - bary2)**2)/len(Y[condition==False])\n",
        "      mse = mse1 * (len(Y[condition==True])/len(Y)) + mse2 * (len(Y[condition==False])/len(Y))\n",
        "      K[k][i] = -mse\n",
        "      I[k][i] = Z[k]\n",
        "      number[k][i] = len(Y[condition==True])\n",
        "      M[k][i] = [bary1, bary2]"
      ],
      "execution_count": null,
      "outputs": []
    },
    {
      "cell_type": "code",
      "metadata": {
        "id": "YknhI7dO7ehU"
      },
      "source": [
        "K = K.astype(float)\n",
        "idx = []\n",
        "col = K.idxmax(axis=1)\n",
        "for i in range(0,len(X.iloc[0])):\n",
        "   idx.append(K[col[i]][i])\n",
        "idx_r = np.argmax(idx) # 첫 노드를 나누는 변수\n",
        "idx_c = col[idx_r] "
      ],
      "execution_count": null,
      "outputs": []
    },
    {
      "cell_type": "code",
      "metadata": {
        "colab": {
          "base_uri": "https://localhost:8080/"
        },
        "id": "zP3mf7yW7rTV",
        "outputId": "54a9629c-b907-4119-bb9b-7fd4fd91558e"
      },
      "source": [
        "print('tree structure ') \n",
        "print( 'node 1 :', 'n = ',len(Y), 'mean = ', np.mean(Y) )\n",
        "if is_numeric_dtype(X.iloc[:,idx_r]) == True:\n",
        "  print('node 2: ', X.columns[idx_r], '<=', I[idx_c][idx_r], ', n = ', number[idx_c][idx_r], ', mean = ', M[idx_c][idx_r][0])\n",
        "  print('node 3: ', X.columns[idx_r], '>', I[idx_c][idx_r], ', n = ', len(Y)- number[idx_c][idx_r], ', mean = ', M[idx_c][idx_r][1])\n",
        "\n",
        "else:\n",
        "  print('node 2: ', X.columns[idx_r], '=', I[idx_c][idx_r][0], ', n = ', number[idx_c][idx_r], ', mean = ', M[idx_c][idx_r][0])\n",
        "  print('node 3: ', X.columns[idx_r], '=', I[idx_c][idx_r][1], ', n = ', len(Y)- number[idx_c][idx_r], ', mean = ', M[idx_c][idx_r][1])\n",
        "\n",
        "  "
      ],
      "execution_count": null,
      "outputs": [
        {
          "output_type": "stream",
          "name": "stdout",
          "text": [
            "tree structure \n",
            "node 1 : n =  343 mean =  21.74344023323615\n",
            "node 2:  lstat <= 10.14 , n =  150 , mean =  27.656666666666666\n",
            "node 3:  lstat > 10.14 , n =  193 , mean =  17.147668393782382\n"
          ]
        }
      ]
    },
    {
      "cell_type": "code",
      "metadata": {
        "id": "n6QYL3Y_Udck"
      },
      "source": [
        "# applying to test data\n",
        "\n",
        "def tst(X,Y):\n",
        "  if is_numeric_dtype(X.iloc[:,idx_r]) == True:\n",
        "    condition = X.iloc[:,idx_r] <= I[idx_c][idx_r]\n",
        "    bary1= np.sum(Y[condition == True])/len(Y[condition==True])\n",
        "    bary2= np.sum(Y[condition == False])/len(Y[condition==False])\n",
        "    mse1 = np.sum((Y[condition==True] - bary1)**2)/len(Y[condition==True])\n",
        "    mse2 = np.sum((Y[condition==False] - bary2)**2)/len(Y[condition==False])\n",
        "    mae1 = np.sum(np.abs(Y[condition==True] - bary1))/len(Y[condition==True])\n",
        "    mae2 = np.sum(np.abs(Y[condition==False] - bary2))/len(Y[condition==False])\n",
        "    mape1 = np.sum(np.abs(Y[condition==True] - bary1)/Y[condition == True])/len(Y[condition==True])\n",
        "    mape2 = np.sum(np.abs(Y[condition==False] - bary2)/Y[condition == False])/len(Y[condition==False])\n",
        "    mse = mse1 * (len(Y[condition==True])/len(Y)) + mse2 * (len(Y[condition==False])/len(Y))\n",
        "    mae = mae1 * (len(Y[condition==True])/len(Y)) + mae2 * (len(Y[condition==False])/len(Y))\n",
        "    mape = mape1 * (len(Y[condition==True])/len(Y)) + mape2 * (len(Y[condition==False])/len(Y))\n",
        "    print('rMSE = ', np.sqrt(mse))\n",
        "    print('MAE = ', mae)\n",
        "    print('MAPE = ', mape)\n",
        "  else: \n",
        "    condition = X.iloc[:,idx_r].isin(I[idx_c][idx_r][0])\n",
        "    bary1= np.sum(Y[condition == True])/len(Y[condition==True])\n",
        "    bary2= np.sum(Y[condition == False])/len(Y[condition==False])\n",
        "    mse1 = np.sum((Y[condition==True] - bary1)**2)/len(Y[condition==True])\n",
        "    mse2 = np.sum((Y[condition==False] - bary2)**2)/len(Y[condition==False])\n",
        "    mae1 = np.sum(np.abs(Y[condition==True] - bary1))/len(Y[condition==True])\n",
        "    mae2 = np.sum(np.abs(Y[condition==False] - bary2))/len(Y[condition==False])\n",
        "    mape1 = np.sum(np.abs(Y[condition==True] - bary1)/Y[condition == True])/len(Y[condition==True])\n",
        "    mape2 = np.sum(np.abs(Y[condition==False] - bary2)/Y[condition == False])/len(Y[condition==False])\n",
        "    mse = mse1 * (len(Y[condition==True])/len(Y)) + mse2 * (len(Y[condition==False])/len(Y))\n",
        "    mae = mae1 * (len(Y[condition==True])/len(Y)) + mae2 * (len(Y[condition==False])/len(Y))\n",
        "    mape = mape1 * (len(Y[condition==True])/len(Y)) + mape2 * (len(Y[condition==False])/len(Y))\n",
        "    print('rMSE = ', np.sqrt(mse))\n",
        "    print('MAE = ', mae)\n",
        "    print('MAPE = ', mape)"
      ],
      "execution_count": null,
      "outputs": []
    },
    {
      "cell_type": "code",
      "metadata": {
        "colab": {
          "base_uri": "https://localhost:8080/"
        },
        "id": "gFCLJwDeFUm3",
        "outputId": "a4efb25d-f9f5-4ecb-93d8-ae5d91e7b40e"
      },
      "source": [
        "tst(tstX,tstY)"
      ],
      "execution_count": null,
      "outputs": [
        {
          "output_type": "stream",
          "name": "stdout",
          "text": [
            "rMSE =  6.2942365503065405\n",
            "MAE =  5.0444363459669574\n",
            "MAPE =  0.29468029638740356\n"
          ]
        }
      ]
    },
    {
      "cell_type": "code",
      "metadata": {
        "id": "lnjkZuxwJRJK"
      },
      "source": [
        ""
      ],
      "execution_count": null,
      "outputs": []
    }
  ]
}