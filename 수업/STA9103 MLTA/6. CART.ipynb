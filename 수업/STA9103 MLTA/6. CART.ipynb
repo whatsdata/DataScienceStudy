{
  "nbformat": 4,
  "nbformat_minor": 0,
  "metadata": {
    "colab": {
      "name": "ISChoHW6.ipynb",
      "provenance": [],
      "collapsed_sections": []
    },
    "kernelspec": {
      "name": "python3",
      "display_name": "Python 3"
    },
    "language_info": {
      "name": "python"
    },
    "accelerator": "GPU"
  },
  "cells": [
    {
      "cell_type": "code",
      "metadata": {
        "id": "QMHRvIbsFm6y"
      },
      "source": [
        "import numpy as np\n",
        "import pandas as pd\n",
        "from sklearn.metrics import confusion_matrix"
      ],
      "execution_count": 67,
      "outputs": []
    },
    {
      "cell_type": "code",
      "metadata": {
        "colab": {
          "base_uri": "https://localhost:8080/"
        },
        "id": "-ikEikHgF6JR",
        "outputId": "839a2609-03b1-40ab-8ac9-8504e755ed0c"
      },
      "source": [
        "#Question 1\n",
        "train_data_name=input(\"Enter the name of train data file [(ex) harris.dat] : \") # data name\n",
        "test_data_name=input(\"Enter the name of test data file [(ex) harris.dat] : \") \n",
        "coding_fm=int(input(\"Select the data coding format(1 = 'a b c' or 2 = 'a,b,c'): \")) # data separator\n",
        "separator_fm={coding_fm ==1 : \" \"}.get(True, \",\")\n",
        "res_pos=int(input(\"Enter the column position of the response variable : [from 1 to p] : \"))\n",
        "header=input(\"Does the data have column header? (y/n) : \")\n",
        "if(header==\"y\") : trdata=pd.read_csv(train_data_name, sep=separator_fm) # loading data\n",
        "else : trdata=pd.read_csv(train_data_name, sep=separator_fm, header=None) # loading data\n",
        "if(header==\"y\") : tstdata=pd.read_csv(test_data_name, sep=separator_fm) # loading data\n",
        "else : tstdata=pd.read_csv(test_data_name, sep=separator_fm, header=None) # loading data\n",
        "out_name=input(\"Enter the output file name to export [(ex) result.txt] : \")\n",
        "\n",
        "# Extracting X and y\n",
        "data = pd.DataFrame(trdata)\n",
        "C = pd.DataFrame(np.ones(shape = (data.shape[0],)))\n",
        "data = pd.concat([C,data], axis = 1, ignore_index= True)\n",
        "X= data.drop([data.columns[res_pos]], axis=1 )\n",
        "Y= data.iloc[:, res_pos ].values\n",
        "\n",
        "#Extracting test X and y\n",
        "tstdata = pd.DataFrame(tstdata)\n",
        "tstC = pd.DataFrame(np.ones(shape = (tstdata.shape[0],)))\n",
        "tstdata = pd.concat([tstC,tstdata], axis = 1, ignore_index= True)\n",
        "tstX= tstdata.drop([tstdata.columns[res_pos]], axis=1 )\n",
        "tstY= tstdata.iloc[:, res_pos ].values"
      ],
      "execution_count": 2,
      "outputs": [
        {
          "name": "stdout",
          "output_type": "stream",
          "text": [
            "Enter the name of train data file [(ex) harris.dat] : pid.dat\n",
            "Enter the name of test data file [(ex) harris.dat] : pidtest.dat\n",
            "Select the data coding format(1 = 'a b c' or 2 = 'a,b,c'): 2\n",
            "Enter the column position of the response variable : [from 1 to p] : 8\n",
            "Does the data have column header? (y/n) : n\n",
            "Enter the output file name to export [(ex) result.txt] : result.txt\n"
          ]
        }
      ]
    },
    {
      "cell_type": "code",
      "metadata": {
        "id": "pMnoKivBMMi7"
      },
      "source": [
        "def gini(Y):\n",
        "  Y_1 =0; Y_2=0\n",
        "  Z = np.unique(Y)\n",
        "  for i in range(0,len(Y)):\n",
        "    if Y[i] == Z[0]:\n",
        "      Y_1 +=1\n",
        "    else:\n",
        "      Y_2 +=1 \n",
        "  p1 = Y_1 / len(Y)\n",
        "  p2 = Y_2 / len(Y)\n",
        "  gini = 1- p1**2 -p2**2\n",
        "  \n",
        "  return gini\n"
      ],
      "execution_count": 3,
      "outputs": []
    },
    {
      "cell_type": "code",
      "metadata": {
        "id": "dpjJ52w6Pq9P"
      },
      "source": [
        "def one_level_decision_tree_fit(X,Y):\n",
        "  A=[]\n",
        "  B = np.unique(Y)\n",
        "  for i in range(1,len(X.iloc[0])):\n",
        "    A.append(len(X.iloc[:,i].sort_values().unique()))\n",
        "  c = np.max(A)\n",
        "  K = pd.DataFrame(index = range(1,len(X.iloc[0])), columns = range(0,c))\n",
        "  for i in range(1,len(X.iloc[0])):\n",
        "    Z=[]\n",
        "   \n",
        "    for j in range(0,len(X.iloc[:,i].sort_values().unique())-1):\n",
        "      z1 = X.iloc[:,i].sort_values().unique()[j]\n",
        "      z2 = X.iloc[:,i].sort_values().unique()[j+1]\n",
        "      Z.append((z1+z2)/2)\n",
        "      print(f'{i}', f', {j}')\n",
        "      for k in range(0,len(Z)):\n",
        "        condition = X.iloc[:,i]<=Z[k]\n",
        "        y1 =0; y2=0; y3=0 ;y4=0;\n",
        "        \n",
        "        for s in range(0,len(Y[condition==True])):\n",
        "          if Y[condition==True][s] == 1:\n",
        "            y1 += 1\n",
        "          else:\n",
        "            y2 += 1\n",
        "        T = y1 / (y1+y2)\n",
        "\n",
        "        for s in range(0,len(Y[condition==False])):\n",
        "          if Y[condition==False][s] == 2:\n",
        "            y3 += 1\n",
        "          else:\n",
        "            y4 += 1\n",
        "        P = y3 / (y3+y4)\n",
        "\n",
        "        p1 = 1-T**2 - (1-T)**2 \n",
        "        p2 = 1-P**2 - (1-P)**2\n",
        "\n",
        "        g = (len(Y[condition==True])/len(Y)*p1) + ((len(Y[condition==False])/len(Y))*p2)\n",
        "\n",
        "        s = gini(Y) - g\n",
        "        K[k][i] = s\n",
        "\n",
        "  K = K.astype(float)\n",
        "  idx = []\n",
        "  col = K.idxmax(axis=1)\n",
        "  for i in range(1,len(X.iloc[0])):\n",
        "    idx.append(K[col[i]][i])\n",
        "  idx_r = np.argmax(idx) # 첫 노드를 나누는 변수\n",
        "  idx_c = col[idx_r] \n",
        "  \n",
        "  Z=[]\n",
        "  for j in range(0,len(X.iloc[:,idx_r].sort_values().unique())-1):\n",
        "    z1 = X.iloc[:,idx_r].sort_values().unique()[j]\n",
        "    z2 = X.iloc[:,idx_r].sort_values().unique()[j+1]\n",
        "    Z.append((z1+z2)/2)\n",
        "  l = Z[idx_c] # 임계점\n",
        "  \n",
        "  condition = X.iloc[:,idx_r]<=l\n",
        "  y1 =0; y2=0; y3=0 ;y4=0;\n",
        "  B = np.unique(Y)\n",
        "  for s in range(0,len(Y[condition==True])):\n",
        "    if Y[condition==True][s] == 1:\n",
        "      y1 += 1\n",
        "    else:\n",
        "      y2 += 1\n",
        "  T = y1 / (y1+y2)\n",
        "\n",
        "  for s in range(0,len(Y[condition==False])):\n",
        "    if Y[condition==False][s] == 2:\n",
        "      y3 += 1\n",
        "    else:\n",
        "      y4 += 1\n",
        "  P = y3 / (y3+y4)\n",
        "\n",
        "  print('tree structure')\n",
        "  print(f'Node 1 : x{idx_r} <= {l}', f'( {len(Y[Y==B[0]])}, {len(Y[Y==B[1]])})')\n",
        "  if T>=P:\n",
        "    print('Node 2: 1', f'({y1}.{y2})')\n",
        "    print('Node 3: 2', f'({y3},{y4})')\n",
        "  if T<P: \n",
        "    print('Node 2: 2', f'({y1}.{y2})')\n",
        "    print('Node 3: 1', f'({y3},{y4})')\n",
        "\n",
        "  return idx_r, l\n",
        "\n"
      ],
      "execution_count": 5,
      "outputs": []
    },
    {
      "cell_type": "code",
      "metadata": {
        "id": "fJeuHgBG9b3_"
      },
      "source": [
        "K = one_level_decision_tree_fit(X,Y)"
      ],
      "execution_count": null,
      "outputs": []
    },
    {
      "cell_type": "code",
      "metadata": {
        "id": "A8Hjmp7iBevt"
      },
      "source": [
        "idx_r = K[0]\n",
        "l = K[1]"
      ],
      "execution_count": null,
      "outputs": []
    },
    {
      "cell_type": "code",
      "metadata": {
        "id": "Y8XWksh9zxWn"
      },
      "source": [
        "def one_level_decision_tree(X,Y):\n",
        "  Z=[]\n",
        "  for j in range(0,len(X.iloc[:,idx_r].sort_values().unique())-1):\n",
        "    z1 = X.iloc[:,idx_r].sort_values().unique()[j]\n",
        "    z2 = X.iloc[:,idx_r].sort_values().unique()[j+1]\n",
        "    Z.append((z1+z2)/2)\n",
        "  l = Z[idx_c]\n",
        "  \n",
        "  condition = X.iloc[:,idx_r]<=l\n",
        "  y1 =0; y2=0; y3=0 ;y4=0;\n",
        "  B = np.unique(Y)\n",
        "  for s in range(0,len(Y[condition==True])):\n",
        "    if Y[condition==True][s] == 1:\n",
        "      y1 += 1\n",
        "    else:\n",
        "      y2 += 1\n",
        "  T = y1 / (y1+y2)\n",
        "\n",
        "  for s in range(0,len(Y[condition==False])):\n",
        "    if Y[condition==False][s] == 2:\n",
        "      y3 += 1\n",
        "    else:\n",
        "      y4 += 1\n",
        "  P = y3 / (y3+y4)\n",
        "  Y2=Y\n",
        "  if T>=P :\n",
        "    Y2[condition==True] =1\n",
        "    Y2[condition==False] = 0\n",
        "  else: \n",
        "    Y2[condition==True] = 0\n",
        "    Y2[condition==False] = 1\n",
        "\n",
        "  confusion_tst = confusion_matrix(Y, Y2)\n",
        "\n",
        "  accu_tst = 0\n",
        "  for i in range(len(np.unique(Y))):\n",
        "    accu_tst = accu_tst + confusion_tst[i][i]\n",
        "  accuracy_tst = accu_tst / X.shape[0]\n",
        "\n",
        "  print('\\n\\nconfusion matrix (test)')\n",
        "  print('----------------------------------')\n",
        "\n",
        "  print('           predicted class \\n Actual 1 ' ,confusion_tst[0], '\\n class  2 ', confusion_tst[1])\n",
        "  for i in range(2,len(np.unique(Y)) ):\n",
        "    print(f'        {i+1} ', confusion_tst[i])\n",
        "  print('model summary')\n",
        "  print('----------------------------------')\n",
        "  print('Overall accuracy = ' ,accuracy_tst)\n",
        "    "
      ],
      "execution_count": 88,
      "outputs": []
    },
    {
      "cell_type": "code",
      "metadata": {
        "id": "7fhjGdqulSL_",
        "colab": {
          "base_uri": "https://localhost:8080/"
        },
        "outputId": "ba8554b7-559f-43a4-d362-22bfa763923b"
      },
      "source": [
        " one_level_decision_tree(tstX,tstY)\n",
        "  "
      ],
      "execution_count": 89,
      "outputs": [
        {
          "output_type": "stream",
          "name": "stdout",
          "text": [
            "\n",
            "\n",
            "confusion matrix (test)\n",
            "----------------------------------\n",
            "           predicted class \n",
            " Actual 1  [47  0] \n",
            " class  2  [  0 179]\n",
            "model summary\n",
            "----------------------------------\n",
            "Overall accuracy =  1.0\n"
          ]
        }
      ]
    },
    {
      "cell_type": "code",
      "metadata": {
        "id": "qZtOsdxeFEKe"
      },
      "source": [
        ""
      ],
      "execution_count": null,
      "outputs": []
    }
  ]
}