{
  "nbformat": 4,
  "nbformat_minor": 0,
  "metadata": {
    "colab": {
      "name": "HW1.ipynb",
      "provenance": [],
      "collapsed_sections": []
    },
    "kernelspec": {
      "name": "python3",
      "display_name": "Python 3"
    },
    "language_info": {
      "name": "python"
    }
  },
  "cells": [
    {
      "cell_type": "code",
      "metadata": {
        "id": "ZD86Gq7kH1_k"
      },
      "source": [
        "import numpy as np\n",
        "import pandas as pd"
      ],
      "execution_count": 1,
      "outputs": []
    },
    {
      "cell_type": "code",
      "metadata": {
        "colab": {
          "base_uri": "https://localhost:8080/"
        },
        "id": "zfsWw8NMH5Wj",
        "outputId": "718d9f17-77da-4886-8ba9-59bfe68846a7"
      },
      "source": [
        "data_name=input(\"Enter the name of data file [(ex) harris.dat] : \") # data name\n",
        "coding_fm=int(input(\"Select the data coding format(1 = 'a b c' or 2 = 'a,b,c'): \")) # data separator\n",
        "separator_fm={coding_fm ==1 : \" \"}.get(True, \",\")\n",
        "res_pos=int(input(\"Enter the column position of the response variable : [from 1 to p] : \"))\n",
        "header=input(\"Does the data have column header? (y/n) : \")\n",
        "if(header==\"y\") : trdata=pd.read_csv(data_name, sep=separator_fm) # loading data\n",
        "else : trdata=pd.read_csv(data_name, sep=separator_fm, header=None) # loading data\n",
        "out_name=input(\"Enter the output file name to export [(ex) result.txt] : \")"
      ],
      "execution_count": 2,
      "outputs": [
        {
          "name": "stdout",
          "output_type": "stream",
          "text": [
            "Enter the name of data file [(ex) harris.dat] : harris.dat\n",
            "Select the data coding format(1 = 'a b c' or 2 = 'a,b,c'): 1\n",
            "Enter the column position of the response variable : [from 1 to p] : 1\n",
            "Does the data have column header? (y/n) : n\n",
            "Enter the output file name to export [(ex) result.txt] : result.txt\n"
          ]
        }
      ]
    },
    {
      "cell_type": "code",
      "metadata": {
        "id": "ZSdqtbg4V51M"
      },
      "source": [
        "# Extracting X and y\n",
        "data = pd.DataFrame(trdata)\n",
        "C = pd.DataFrame(np.ones(shape = (data.shape[0],)))\n",
        "data = pd.concat([C,data], axis = 1, ignore_index= True)\n",
        "X= data.drop([data.columns[res_pos]], axis=1 )\n",
        "Y= data.iloc[:, res_pos ].values"
      ],
      "execution_count": 3,
      "outputs": []
    },
    {
      "cell_type": "code",
      "metadata": {
        "id": "x1FDwUAwTRGk"
      },
      "source": [
        "#Implementing Multiple Linear regression\n",
        "\n",
        "beta = np.linalg.inv(X.T@ X)@(X.T @ Y)\n",
        "haty = X @ beta\n",
        "residual = (Y- haty )\n",
        "RSS = ((residual**2).mean())*(data.shape[0])\n",
        "TSS = (((Y - (Y.mean()))**2).mean())*(data.shape[0])\n",
        "Rsquared = 1- (RSS/TSS )\n",
        "MSE = RSS / (data.shape[0] - data.shape[1]+1)"
      ],
      "execution_count": 4,
      "outputs": []
    },
    {
      "cell_type": "code",
      "metadata": {
        "id": "oqgzKaN-jDch"
      },
      "source": [
        "import sys\n",
        "sys.stdout = open(out_name,'w')\n",
        "\n",
        "print(\"coefficients\")\n",
        "print(\"-----------------\")\n",
        "\n",
        "for i in range(beta.size): \n",
        "  if i == 0 :\n",
        "    print('constant:', beta[0])\n",
        "  else: \n",
        "    print('beta%d :'%i, beta[i])\n",
        "\n",
        "print(\"                \")\n",
        "print(\"-----------------\")\n",
        "print(\"ID,  Actual Values,  Fitted Values\")\n",
        "for i in range(10):\n",
        "  k = i + 1 \n",
        "  print( k, Y[i],haty[i])\n",
        "\n",
        "print(\"              \")\n",
        "print(\"model summmary\")\n",
        "print(\"---------------\")\n",
        "print(\"R-squared =  \", Rsquared)\n",
        "print(\"MSE = \", MSE)"
      ],
      "execution_count": 13,
      "outputs": []
    }
  ]
}