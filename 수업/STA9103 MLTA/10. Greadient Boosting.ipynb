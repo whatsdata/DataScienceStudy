{
  "nbformat": 4,
  "nbformat_minor": 0,
  "metadata": {
    "colab": {
      "name": "ISChoHW10.ipynb",
      "provenance": []
    },
    "kernelspec": {
      "name": "python3",
      "display_name": "Python 3"
    },
    "language_info": {
      "name": "python"
    }
  },
  "cells": [
    {
      "cell_type": "code",
      "metadata": {
        "id": "s5ZAxtTQTbff"
      },
      "source": [
        "import numpy as np\n",
        "import pandas as pd\n",
        "from sklearn.metrics import confusion_matrix\n",
        "from sklearn.tree import DecisionTreeClassifier\n",
        "from sklearn.tree import DecisionTreeRegressor\n",
        "from sklearn.discriminant_analysis import LinearDiscriminantAnalysis\n",
        "import sys\n",
        "import itertools\n",
        "import warnings\n",
        "import random\n",
        "from pandas.api.types import is_numeric_dtype\n",
        "warnings.filterwarnings('ignore')"
      ],
      "execution_count": 1,
      "outputs": []
    },
    {
      "cell_type": "code",
      "metadata": {
        "colab": {
          "base_uri": "https://localhost:8080/"
        },
        "id": "g4ZG0m_ASe6Q",
        "outputId": "defa6f4f-f6e7-4f65-f4cb-cfda5f0906bf"
      },
      "source": [
        "train_data_name=input(\"Enter the name of train data file [(ex) harris.dat] : \") # data name\n",
        "test_data_name=input(\"Enter the name of test data file [(ex) harris.dat] : \") \n",
        "coding_fm=int(input(\"Select the data coding format(1 = 'a b c' or 2 = 'a,b,c'): \")) # data separator\n",
        "separator_fm={coding_fm ==1 : \" \"}.get(True, \",\")\n",
        "res_pos=int(input(\"Enter the column position of the response variable : [from 1 to p] : \"))\n",
        "header=input(\"Does the data have column header? (y/n) : \")\n",
        "if(header==\"y\") : trdata=pd.read_csv(train_data_name, sep=separator_fm) # loading data\n",
        "else : trdata=pd.read_csv(train_data_name, sep=separator_fm, header=None) # loading data\n",
        "if(header==\"y\") : tstdata=pd.read_csv(test_data_name, sep=separator_fm) # loading data\n",
        "else : tstdata=pd.read_csv(test_data_name, sep=separator_fm, header=None) # loading data\n",
        "out_name=input(\"Enter the output file name to export [(ex) result.txt] : \")\n",
        "\n",
        "# Extracting X and y\n",
        "data = pd.DataFrame(trdata)\n",
        "X= data.drop([data.columns[res_pos-1]], axis=1 )\n",
        "Y= data.iloc[:, res_pos-1 ].values\n",
        "\n",
        "#Extracting test X and y\n",
        "tstdata = pd.DataFrame(tstdata)\n",
        "tstX= tstdata.drop([tstdata.columns[res_pos-1]], axis=1 )\n",
        "tstY= tstdata.iloc[:, res_pos-1 ].values"
      ],
      "execution_count": 2,
      "outputs": [
        {
          "name": "stdout",
          "output_type": "stream",
          "text": [
            "Enter the name of train data file [(ex) harris.dat] : pid.dat\n",
            "Enter the name of test data file [(ex) harris.dat] : pidtest.dat\n",
            "Select the data coding format(1 = 'a b c' or 2 = 'a,b,c'): 2\n",
            "Enter the column position of the response variable : [from 1 to p] : 8\n",
            "Does the data have column header? (y/n) : n\n",
            "Enter the output file name to export [(ex) result.txt] : result.txt\n"
          ]
        }
      ]
    },
    {
      "cell_type": "code",
      "metadata": {
        "id": "yRmIJRe4U3Az"
      },
      "source": [
        "#change the y value of 1,2 to 0,1\n",
        "def y_change(Y):\n",
        "  changed_y = []\n",
        "  for i in range(len(Y)):\n",
        "    if Y[i] ==np.unique(Y)[0]:\n",
        "      changed_y.append(0)\n",
        "    elif Y[i] ==np.unique(Y)[1]:\n",
        "      changed_y.append(1)\n",
        "  return np.array(changed_y)"
      ],
      "execution_count": 3,
      "outputs": []
    },
    {
      "cell_type": "code",
      "metadata": {
        "id": "VHucK5JoX2_J"
      },
      "source": [
        "#first classifier\n",
        "dc = DecisionTreeClassifier(max_depth=3)\n",
        "CY = y_change(Y)\n",
        "dc.fit(X,CY)\n",
        "\n",
        "cm = []\n",
        "for i in range(len(X)):\n",
        "  cm.append(dc.predict_proba(X)[i][1])"
      ],
      "execution_count": 4,
      "outputs": []
    },
    {
      "cell_type": "code",
      "metadata": {
        "id": "kjsqBx3HZTaS"
      },
      "source": [
        "# start B=101 regression\n",
        "lr = 0.1 #learning rate\n",
        "cut_off = 0.5 #cutoff\n",
        "B=101 # n_ensemble\n",
        "\n",
        "trees = {}\n",
        "for i in range(B):\n",
        "  trees[f'h{i+1}'] = DecisionTreeRegressor(max_depth=3)\n",
        "  res = CY -cm\n",
        "  trees[f'h{i+1}'].fit(X,res)\n",
        "  h = trees[f'h{i+1}'].predict(X)\n",
        "  cm = cm + lr * h\n"
      ],
      "execution_count": 5,
      "outputs": []
    },
    {
      "cell_type": "code",
      "metadata": {
        "id": "iln6et3leu6s"
      },
      "source": [
        "#result\n",
        "\n",
        "result = []\n",
        "for i in range(len(tstX)):\n",
        "  result.append(dc.predict_proba(tstX)[i][1])\n",
        "\n",
        "for i in range(B):\n",
        "  result = result + lr * trees[f'h{i+1}'].predict(tstX)\n",
        "\n",
        "result[result>=0.5] = 1\n",
        "result[result<0.5] =0\n",
        "\n",
        "sys.stdout = open(out_name,'w')\n",
        "\n",
        "print('    ')\n",
        "print( 'Confusion Matrix( Gradient Boosting)')\n",
        "print('----------------------------------------------------')\n",
        "confusion_tst = confusion_matrix(y_change(tstY), result)\n",
        "\n",
        "accu_tst = 0\n",
        "for i in range(len(np.unique(y_change(tstY)))):\n",
        "  accu_tst = accu_tst + confusion_tst[i][i]\n",
        "accuracy_tst = accu_tst / len(tstdata)\n",
        "\n",
        "print('           predicted class \\n Actual 1 ' ,confusion_tst[0], '\\n class  2 ', confusion_tst[1])\n",
        "for i in range(2, len(np.unique(y_change(tstY)))) :\n",
        "  print(f'        {i+1} ', confusion_tst[i])\n",
        "print('model summary')\n",
        "print('----------------------------------')\n",
        "print('Overall accuracy = ' ,accuracy_tst)"
      ],
      "execution_count": 6,
      "outputs": []
    }
  ]
}