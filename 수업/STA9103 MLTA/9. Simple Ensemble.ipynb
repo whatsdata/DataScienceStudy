{
  "nbformat": 4,
  "nbformat_minor": 0,
  "metadata": {
    "colab": {
      "name": "ISChoHW9.ipynb",
      "provenance": []
    },
    "kernelspec": {
      "name": "python3",
      "display_name": "Python 3"
    },
    "language_info": {
      "name": "python"
    }
  },
  "cells": [
    {
      "cell_type": "code",
      "metadata": {
        "id": "HgCzccsw6V0r"
      },
      "source": [
        "import numpy as np\n",
        "import pandas as pd\n",
        "from sklearn.metrics import confusion_matrix\n",
        "from sklearn.discriminant_analysis import LinearDiscriminantAnalysis\n",
        "import sys\n",
        "import itertools\n",
        "import warnings\n",
        "import random\n",
        "from pandas.api.types import is_numeric_dtype\n",
        "warnings.filterwarnings('ignore')"
      ],
      "execution_count": 1,
      "outputs": []
    },
    {
      "cell_type": "code",
      "metadata": {
        "colab": {
          "base_uri": "https://localhost:8080/"
        },
        "id": "74JXioCR7IqQ",
        "outputId": "897f3bee-9227-4cc6-a297-c04f74cd0227"
      },
      "source": [
        "train_data_name=input(\"Enter the name of train data file [(ex) harris.dat] : \") # data name\n",
        "test_data_name=input(\"Enter the name of test data file [(ex) harris.dat] : \") \n",
        "coding_fm=int(input(\"Select the data coding format(1 = 'a b c' or 2 = 'a,b,c'): \")) # data separator\n",
        "separator_fm={coding_fm ==1 : \" \"}.get(True, \",\")\n",
        "res_pos=int(input(\"Enter the column position of the response variable : [from 1 to p] : \"))\n",
        "header=input(\"Does the data have column header? (y/n) : \")\n",
        "if(header==\"y\") : trdata=pd.read_csv(train_data_name, sep=separator_fm) # loading data\n",
        "else : trdata=pd.read_csv(train_data_name, sep=separator_fm, header=None) # loading data\n",
        "if(header==\"y\") : tstdata=pd.read_csv(test_data_name, sep=separator_fm) # loading data\n",
        "else : tstdata=pd.read_csv(test_data_name, sep=separator_fm, header=None) # loading data\n",
        "out_name=input(\"Enter the output file name to export [(ex) result.txt] : \")\n",
        "\n",
        "data = pd.DataFrame(trdata)\n",
        "tstdata = pd.DataFrame(tstdata)\n"
      ],
      "execution_count": 2,
      "outputs": [
        {
          "name": "stdout",
          "output_type": "stream",
          "text": [
            "Enter the name of train data file [(ex) harris.dat] : veh.dat\n",
            "Enter the name of test data file [(ex) harris.dat] : vehtest.dat\n",
            "Select the data coding format(1 = 'a b c' or 2 = 'a,b,c'): 2\n",
            "Enter the column position of the response variable : [from 1 to p] : 19\n",
            "Does the data have column header? (y/n) : n\n",
            "Enter the output file name to export [(ex) result.txt] : result.txt\n"
          ]
        }
      ]
    },
    {
      "cell_type": "code",
      "metadata": {
        "id": "xeoecguD7ieg"
      },
      "source": [
        "def bootstrap(dataset, B=101):\n",
        "  boot = list()\n",
        "  oob = list()\n",
        "  while len(boot)<B:\n",
        "    sample = list() \n",
        "    while len(sample) < len(dataset):\n",
        "\t    index = random.randrange(len(dataset))\n",
        "\t    sample.append(dataset.iloc[index]) \n",
        "    Z = pd.DataFrame(sample)\n",
        "    oob.append(data[data.index.isin(Z[0].index) == False])\n",
        "    boot.append(Z)\n",
        "  return boot, oob\n",
        "\n",
        "def most_frequent(data):\n",
        "    return max(data, key=data.count)"
      ],
      "execution_count": 8,
      "outputs": []
    },
    {
      "cell_type": "code",
      "metadata": {
        "id": "9BneYqN0FINF"
      },
      "source": [
        "def baggingLDA(data,  n_bootstrapping=101):\n",
        "  clf = LinearDiscriminantAnalysis()\n",
        "  bag = {}\n",
        "  b= bootstrap(data, B = n_bootstrapping)\n",
        "  ooberr = []\n",
        "  lab = []\n",
        "  p =pd.DataFrame(index = range(n_bootstrapping), columns = range(len(data.columns)-1))\n",
        "  m = np.round((len(data.columns)-1))\n",
        "  for i in range(n_bootstrapping):\n",
        "    boot = b[0]\n",
        "    oob = b[1]\n",
        "    label = random.sample(list(boot[i].drop([data.columns[res_pos-1]], axis=1 ).columns.values),int(m))\n",
        "    lab.append(label)\n",
        "    newX = boot[i].drop([data.columns[res_pos-1]], axis=1 ).loc[:,label]\n",
        "    bag[f'LDA{i}'] = clf.fit(newX,boot[i].iloc[:, res_pos-1 ].values)\n",
        "    ooby = oob[i].iloc[:, res_pos-1 ].values\n",
        "    oobpredy = clf.predict(newX )\n",
        "    ooberr.append(len(ooby[(ooby != oobpredy) ==True ]) / len(ooby))\n",
        "\n",
        "    for j in label:\n",
        "      poob = oob[i].drop([data.columns[res_pos-1]], axis=1 ).iloc[:,label]\n",
        "      poob.reset_index(drop = True, inplace = True)\n",
        "      H = pd.Series(data = poob.loc[:,j].sample(n=len(oob[i]),replace = False))\n",
        "      H.reset_index(drop = True,inplace = True)\n",
        "      poob[j] = H\n",
        "      poobpredy = clf.predict(poob)\n",
        "      p[j][i] = (len(ooby[(ooby != poobpredy) ==True ]) / len(ooby))       \n",
        "\n",
        "\n",
        "   #i번째 변수의 중요도 계산\n",
        "  f=[]\n",
        "  for j in list(data.drop([data.columns[res_pos-1]], axis=1 ).columns.values):\n",
        "    ppp = []\n",
        "    icollect = []\n",
        "    for i in range(n_bootstrapping):\n",
        "      if j in lab[i]:\n",
        "        icollect.append(i)\n",
        "        ppp.append(p[j][i])\n",
        "    eee=[]\n",
        "    for k in icollect:\n",
        "      eee.append(ooberr[k])\n",
        "    eee= np.array(eee)\n",
        "    ppp = np.array(ppp)\n",
        "    d = ppp - eee\n",
        "    f.append((np.sum(d)/n_bootstrapping)/(np.std(d)*np.sqrt(len(d)-1)/np.sqrt(n_bootstrapping-1)))\n",
        "  return bag, f ,lab"
      ],
      "execution_count": 9,
      "outputs": []
    },
    {
      "cell_type": "code",
      "metadata": {
        "id": "xeN7hVRc8X1P"
      },
      "source": [
        "def rfLDA(data,  n_bootstrapping=101):\n",
        "  clf = LinearDiscriminantAnalysis()\n",
        "  bag = {}\n",
        "  b= bootstrap(data, B = n_bootstrapping)\n",
        "  ooberr = []\n",
        "  lab = []\n",
        "  p =pd.DataFrame(index = range(n_bootstrapping), columns = range(len(data.columns)-1))\n",
        "  m = np.round((len(data.columns)-1)/2)\n",
        "  for i in range(n_bootstrapping):\n",
        "    boot = b[0]\n",
        "    oob = b[1]\n",
        "    label = random.sample(list(boot[i].drop([data.columns[res_pos-1]], axis=1 ).columns.values),int(m))\n",
        "    lab.append(label)\n",
        "    newX = boot[i].drop([data.columns[res_pos-1]], axis=1 ).loc[:,label]\n",
        "    bag[f'LDA{i}'] = clf.fit(newX,boot[i].iloc[:, res_pos-1 ].values)\n",
        "    ooby = oob[i].iloc[:, res_pos-1 ].values\n",
        "    oobpredy = clf.predict(newX )\n",
        "    ooberr.append(len(ooby[(ooby != oobpredy) ==True ]) / len(ooby))\n",
        "\n",
        "    for j in label:\n",
        "      poob = oob[i].drop([data.columns[res_pos-1]], axis=1 ).iloc[:,label]\n",
        "      poob.reset_index(drop = True, inplace = True)\n",
        "      H = pd.Series(data = poob.loc[:,j].sample(n=len(oob[i]),replace = False))\n",
        "      H.reset_index(drop = True,inplace = True)\n",
        "      poob[j] = H\n",
        "      poobpredy = clf.predict(poob)\n",
        "      p[j][i] = (len(ooby[(ooby != poobpredy) ==True ]) / len(ooby))       \n",
        "\n",
        "\n",
        "   #i번째 변수의 중요도 계산\n",
        "  f=[]\n",
        "  for j in list(data.drop([data.columns[res_pos-1]], axis=1 ).columns.values):\n",
        "    ppp = []\n",
        "    icollect = []\n",
        "    for i in range(n_bootstrapping):\n",
        "      if j in lab[i]:\n",
        "        icollect.append(i)\n",
        "        ppp.append(p[j][i])\n",
        "    eee=[]\n",
        "    for k in icollect:\n",
        "      eee.append(ooberr[k])\n",
        "    eee= np.array(eee)\n",
        "    ppp = np.array(ppp)\n",
        "    d = ppp - eee\n",
        "    f.append((np.sum(d)/n_bootstrapping)/(np.std(d)*np.sqrt(len(d)-1)/np.sqrt(n_bootstrapping-1)))\n",
        "  return bag, f ,lab"
      ],
      "execution_count": 10,
      "outputs": []
    },
    {
      "cell_type": "code",
      "metadata": {
        "id": "O3R4ogR_9k5G"
      },
      "source": [
        "def result(tstdata, method,n_bootstrapping=101):\n",
        "  print('Variable Importance: ')\n",
        "  for i in range(len(data.columns)-1):\n",
        "    print(f'   X{i+1}:', Z[1][i])\n",
        "\n",
        "  predy = []\n",
        "  for i in range(n_bootstrapping):\n",
        "    X = tstdata.loc[:,Z[2][i]]\n",
        "    pred = Z[0][f'LDA{i}'].predict(X)\n",
        "    predy.append(pred)\n",
        "  \n",
        "  newy=[]\n",
        "  for j in range(len(tstdata)):\n",
        "    r = []\n",
        "    for i in range(n_bootstrapping):\n",
        "      r.append(predy[i][j])\n",
        "    newy.append(most_frequent(r))\n",
        "\n",
        "\n",
        "  print('    ')\n",
        "  print( 'Confusion Matrix( LDA - ', method, ')')\n",
        "  print('----------------------------------------------------')\n",
        "  confusion_tst = confusion_matrix(tstdata.iloc[:,res_pos-1], newy)\n",
        "\n",
        "  accu_tst = 0\n",
        "  for i in range(len(np.unique(data.iloc[:,res_pos-1]))):\n",
        "    accu_tst = accu_tst + confusion_tst[i][i]\n",
        "  accuracy_tst = accu_tst / len(tstdata)\n",
        "\n",
        "  print('           predicted class \\n Actual 1 ' ,confusion_tst[0], '\\n class  2 ', confusion_tst[1])\n",
        "  for i in range(2, len(np.unique(data.iloc[:,res_pos-1]))) :\n",
        "    print(f'        {i+1} ', confusion_tst[i])\n",
        "  print('model summary')\n",
        "  print('----------------------------------')\n",
        "  print('Overall accuracy = ' ,accuracy_tst)\n",
        "\n"
      ],
      "execution_count": 11,
      "outputs": []
    },
    {
      "cell_type": "code",
      "metadata": {
        "id": "TGfoPZk3N6G1"
      },
      "source": [
        "sys.stdout = open(out_name,'w')\n",
        "Z = baggingLDA(data)\n",
        "result(tstdata, method = 'Bagging')\n",
        "print('    ')\n",
        "print('    ')\n",
        "print('    ')"
      ],
      "execution_count": 22,
      "outputs": []
    },
    {
      "cell_type": "code",
      "metadata": {
        "id": "EczLxjrJRcHT"
      },
      "source": [
        "Z = rfLDA(data)\n",
        "result(tstdata, method = 'Random Feature')"
      ],
      "execution_count": 25,
      "outputs": []
    }
  ]
}