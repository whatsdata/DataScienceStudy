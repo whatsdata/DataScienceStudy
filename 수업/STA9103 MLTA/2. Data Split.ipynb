{
  "nbformat": 4,
  "nbformat_minor": 0,
  "metadata": {
    "colab": {
      "name": "HW1ChoIS.ipynb",
      "provenance": [],
      "collapsed_sections": []
    },
    "kernelspec": {
      "name": "python3",
      "display_name": "Python 3"
    },
    "language_info": {
      "name": "python"
    }
  },
  "cells": [
    {
      "cell_type": "code",
      "metadata": {
        "id": "ZD86Gq7kH1_k"
      },
      "source": [
        "import numpy as np\n",
        "import pandas as pd"
      ],
      "execution_count": 2,
      "outputs": []
    },
    {
      "cell_type": "code",
      "metadata": {
        "colab": {
          "base_uri": "https://localhost:8080/"
        },
        "id": "zfsWw8NMH5Wj",
        "outputId": "1c9bc643-3bf3-4cfe-a759-f19de6dd0f05"
      },
      "source": [
        "train_data_name=input(\"Enter the name of train data file [(ex) harris.dat] : \") # data name\n",
        "test_data_name=input(\"Enter the name of test data file [(ex) harris.dat] : \") \n",
        "coding_fm=int(input(\"Select the data coding format(1 = 'a b c' or 2 = 'a,b,c'): \")) # data separator\n",
        "separator_fm={coding_fm ==1 : \" \"}.get(True, \",\")\n",
        "res_pos=int(input(\"Enter the column position of the response variable : [from 1 to p] : \"))\n",
        "header=input(\"Does the data have column header? (y/n) : \")\n",
        "if(header==\"y\") : trdata=pd.read_csv(train_data_name, sep=separator_fm) # loading data\n",
        "else : trdata=pd.read_csv(train_data_name, sep=separator_fm, header=None) # loading data\n",
        "if(header==\"y\") : tstdata=pd.read_csv(test_data_name, sep=separator_fm) # loading data\n",
        "else : tstdata=pd.read_csv(test_data_name, sep=separator_fm, header=None) # loading data\n",
        "out_name=input(\"Enter the output file name to export [(ex) result.txt] : \")"
      ],
      "execution_count": 4,
      "outputs": [
        {
          "name": "stdout",
          "output_type": "stream",
          "text": [
            "Enter the name of train data file [(ex) harris.dat] : boston_tr.csv\n",
            "Enter the name of test data file [(ex) harris.dat] : boston_tst.csv\n",
            "Select the data coding format(1 = 'a b c' or 2 = 'a,b,c'): 2\n",
            "Enter the column position of the response variable : [from 1 to p] : 13\n",
            "Does the data have column header? (y/n) : y\n",
            "Enter the output file name to export [(ex) result.txt] : result.txt\n"
          ]
        }
      ]
    },
    {
      "cell_type": "code",
      "metadata": {
        "id": "ZSdqtbg4V51M"
      },
      "source": [
        "# Extracting X and y\n",
        "data = pd.DataFrame(trdata)\n",
        "C = pd.DataFrame(np.ones(shape = (data.shape[0],)))\n",
        "data = pd.concat([C,data], axis = 1, ignore_index= True)\n",
        "X= data.drop([data.columns[res_pos]], axis=1 )\n",
        "Y= data.iloc[:, res_pos ].values\n",
        "\n",
        "#Extracting test X and y\n",
        "tstdata = pd.DataFrame(tstdata)\n",
        "tstC = pd.DataFrame(np.ones(shape = (tstdata.shape[0],)))\n",
        "tstdata = pd.concat([tstC,tstdata], axis = 1, ignore_index= True)\n",
        "tstX= tstdata.drop([tstdata.columns[res_pos]], axis=1 )\n",
        "tstY= tstdata.iloc[:, res_pos ].values"
      ],
      "execution_count": 5,
      "outputs": []
    },
    {
      "cell_type": "code",
      "metadata": {
        "id": "x1FDwUAwTRGk"
      },
      "source": [
        "#Implementing Multiple Linear regression\n",
        "\n",
        "beta = np.linalg.inv(X.T@ X)@(X.T @ Y)\n",
        "haty = X @ beta\n",
        "residual = (Y- haty )\n",
        "RSS = ((residual**2).mean())*(data.shape[0])\n",
        "TSS = (((Y - (Y.mean()))**2).mean())*(data.shape[0])\n",
        "Rsquared = 1- (RSS/TSS )\n",
        "MSE = RSS / (data.shape[0] - data.shape[1]+1)\n",
        "\n",
        "# test data\n",
        "tsthaty = tstX @ beta\n",
        "tstresidual = (tstY-tsthaty)\n",
        "tstRSS = ((tstresidual**2).mean())*(tstdata.shape[0])\n",
        "tstTSS = (((tstY - (tstY.mean()))**2).mean())*(tstdata.shape[0])\n",
        "tstRsquared = 1- (RSS/TSS )\n",
        "tstMSE = tstRSS / (tstdata.shape[0])\n",
        "tstRMSE = np.sqrt(tstMSE)\n",
        "tstMAE = np.abs(tstY -tsthaty).mean()\n",
        "tstMAPE = (np.abs(tstY -tsthaty)/np.abs(tstY)).mean()"
      ],
      "execution_count": 38,
      "outputs": []
    },
    {
      "cell_type": "code",
      "metadata": {
        "id": "oqgzKaN-jDch"
      },
      "source": [
        "import sys\n",
        "sys.stdout = open(out_name,'w')\n",
        "print(\"coefficients\")\n",
        "print(\"-----------------\")\n",
        "\n",
        "for i in range(beta.size): \n",
        "  if i == 0 :\n",
        "    print('constant:', beta[0])\n",
        "  else: \n",
        "    print('beta%d :'%i, beta[i])\n",
        "\n",
        "print(\"              \")\n",
        "print(\"model summmary\")\n",
        "print(\"---------------\")\n",
        "print(\"R-squared =  \", Rsquared)\n",
        "print(\"MSE = \", MSE)\n",
        "\n",
        "print(\"              \")\n",
        "print(\"Prediction Performance\")\n",
        "print(\"---------------\")\n",
        "print(\"Predictive R-squared =  \", tstRsquared)\n",
        "print(\"MAE = \", tstMAE)\n",
        "print(\"MAPE =  \", tstMAPE)\n",
        "print(\"RMSE = \", tstRMSE)"
      ],
      "execution_count": 39,
      "outputs": []
    },
    {
      "cell_type": "code",
      "metadata": {
        "id": "9rWGpCQxvJq0"
      },
      "source": [
        "from sklearn.linear_model import LinearRegression\n",
        "from sklearn.metrics import r2_score as r2\n",
        "from sklearn.metrics import mean_squared_error  as MSE\n",
        "from sklearn.metrics import mean_absolute_error as MAE\n",
        "def MAPE(tstY,predy): \n",
        "  return (np.abs(tstY -predy)/np.abs(tstY)).mean()\n",
        "def RMSE(tstY,predy):\n",
        "  M = MSE(tstY,predy)\n",
        "  return np.sqrt(M)\n",
        "\n",
        "fitter = LinearRegression()\n",
        "fitter.fit(X, Y)\n",
        "\n",
        "predy = fitter.predict(tstX)\n",
        "\n",
        "print(\"              \")\n",
        "print(\"Prediction Performance by sklearn\")\n",
        "print(\"---------------\")\n",
        "\n",
        "print(\"Predictive R-squared =  \", r2(tstY,predy))\n",
        "print(\"MAE = \", MAE(tstY,predy))\n",
        "print(\"MAPE =  \", MAPE(tstY,predy))\n",
        "print(\"RMSE = \", RMSE(tstY,predy) )\n"
      ],
      "execution_count": 40,
      "outputs": []
    },
    {
      "cell_type": "code",
      "metadata": {
        "id": "ZZElegOtx_9l"
      },
      "source": [
        ""
      ],
      "execution_count": null,
      "outputs": []
    }
  ]
}