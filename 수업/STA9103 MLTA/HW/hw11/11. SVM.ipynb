{
 "cells": [
  {
   "cell_type": "markdown",
   "metadata": {
    "id": "9vjy8g6GOIHN"
   },
   "source": [
    "# 분류 분석 데이터 (유방암 양성/악성 예측)"
   ]
  },
  {
   "cell_type": "code",
   "execution_count": 1,
   "metadata": {
    "colab": {
     "base_uri": "https://localhost:8080/"
    },
    "executionInfo": {
     "elapsed": 886,
     "status": "ok",
     "timestamp": 1609900440224,
     "user": {
      "displayName": "­김현중(전임교원/상경대학 응용통계학)",
      "photoUrl": "https://lh3.googleusercontent.com/a-/AOh14Gi0m7bMi4WYdjhXlCstTEEPsywlLI4VtjLesI7FhQ=s64",
      "userId": "10361547238773279348"
     },
     "user_tz": -540
    },
    "id": "quaKLkwrSXj_",
    "outputId": "803776cf-e9e0-4068-ffe1-f27611ad9652",
    "scrolled": false
   },
   "outputs": [],
   "source": [
    "import numpy as np \n",
    "import pandas as pd \n",
    "import matplotlib.pyplot as plt\n",
    "import seaborn as sns"
   ]
  },
  {
   "cell_type": "code",
   "execution_count": 2,
   "metadata": {
    "id": "dWYvQi_5OIHN"
   },
   "outputs": [
    {
     "data": {
      "text/plain": [
       "(569, 22)"
      ]
     },
     "execution_count": 2,
     "metadata": {},
     "output_type": "execute_result"
    }
   ],
   "source": [
    "df = pd.read_csv('wdbc.csv')\n",
    "df.shape"
   ]
  },
  {
   "cell_type": "code",
   "execution_count": 3,
   "metadata": {
    "id": "E0CFVzXeOIHO",
    "scrolled": true
   },
   "outputs": [
    {
     "data": {
      "text/plain": [
       "0"
      ]
     },
     "execution_count": 3,
     "metadata": {},
     "output_type": "execute_result"
    }
   ],
   "source": [
    "df.isnull().sum().sum()"
   ]
  },
  {
   "cell_type": "code",
   "execution_count": 4,
   "metadata": {
    "id": "dWYvQi_5OIHN"
   },
   "outputs": [],
   "source": [
    "X = df.drop(['diagnosis','ID'], axis=1)\n",
    "y = df['diagnosis']\n",
    "y = np.where(y==\"M\", 1, 0)\n",
    "xvar = X.columns"
   ]
  },
  {
   "cell_type": "markdown",
   "metadata": {
    "id": "8qi1-4IAOIHQ"
   },
   "source": [
    "## Decision Tree 방법을 이용한 feature selection"
   ]
  },
  {
   "cell_type": "code",
   "execution_count": 5,
   "metadata": {},
   "outputs": [
    {
     "data": {
      "text/plain": [
       "array([0.        , 0.09699219, 0.02225117, 0.05083725, 0.01169482,\n",
       "       0.01731442, 0.02368972, 0.7132048 , 0.        , 0.        ,\n",
       "       0.        , 0.        , 0.        , 0.01845411, 0.        ,\n",
       "       0.00771087, 0.01012696, 0.        , 0.01932494, 0.00839874])"
      ]
     },
     "execution_count": 5,
     "metadata": {},
     "output_type": "execute_result"
    }
   ],
   "source": [
    "from sklearn.tree import DecisionTreeClassifier\n",
    "clf = DecisionTreeClassifier(random_state=0)\n",
    "clf = clf.fit(X, y)\n",
    "clf.feature_importances_"
   ]
  },
  {
   "cell_type": "code",
   "execution_count": 6,
   "metadata": {},
   "outputs": [
    {
     "data": {
      "text/html": [
       "<div>\n",
       "<style scoped>\n",
       "    .dataframe tbody tr th:only-of-type {\n",
       "        vertical-align: middle;\n",
       "    }\n",
       "\n",
       "    .dataframe tbody tr th {\n",
       "        vertical-align: top;\n",
       "    }\n",
       "\n",
       "    .dataframe thead th {\n",
       "        text-align: right;\n",
       "    }\n",
       "</style>\n",
       "<table border=\"1\" class=\"dataframe\">\n",
       "  <thead>\n",
       "    <tr style=\"text-align: right;\">\n",
       "      <th></th>\n",
       "      <th>Features</th>\n",
       "      <th>Importance</th>\n",
       "    </tr>\n",
       "  </thead>\n",
       "  <tbody>\n",
       "    <tr>\n",
       "      <th>7</th>\n",
       "      <td>concave_points_mean</td>\n",
       "      <td>0.713205</td>\n",
       "    </tr>\n",
       "    <tr>\n",
       "      <th>1</th>\n",
       "      <td>texture_mean</td>\n",
       "      <td>0.096992</td>\n",
       "    </tr>\n",
       "    <tr>\n",
       "      <th>3</th>\n",
       "      <td>area_mean</td>\n",
       "      <td>0.050837</td>\n",
       "    </tr>\n",
       "    <tr>\n",
       "      <th>6</th>\n",
       "      <td>concavity_mean</td>\n",
       "      <td>0.023690</td>\n",
       "    </tr>\n",
       "    <tr>\n",
       "      <th>2</th>\n",
       "      <td>perimeter_mean</td>\n",
       "      <td>0.022251</td>\n",
       "    </tr>\n",
       "    <tr>\n",
       "      <th>18</th>\n",
       "      <td>symmetry_se</td>\n",
       "      <td>0.019325</td>\n",
       "    </tr>\n",
       "    <tr>\n",
       "      <th>13</th>\n",
       "      <td>area_se</td>\n",
       "      <td>0.018454</td>\n",
       "    </tr>\n",
       "    <tr>\n",
       "      <th>5</th>\n",
       "      <td>compactness_mean</td>\n",
       "      <td>0.017314</td>\n",
       "    </tr>\n",
       "    <tr>\n",
       "      <th>4</th>\n",
       "      <td>smoothness_mean</td>\n",
       "      <td>0.011695</td>\n",
       "    </tr>\n",
       "    <tr>\n",
       "      <th>16</th>\n",
       "      <td>concavity_se</td>\n",
       "      <td>0.010127</td>\n",
       "    </tr>\n",
       "    <tr>\n",
       "      <th>19</th>\n",
       "      <td>fractal_dimension_se</td>\n",
       "      <td>0.008399</td>\n",
       "    </tr>\n",
       "    <tr>\n",
       "      <th>15</th>\n",
       "      <td>compactness_se</td>\n",
       "      <td>0.007711</td>\n",
       "    </tr>\n",
       "    <tr>\n",
       "      <th>14</th>\n",
       "      <td>smoothness_se</td>\n",
       "      <td>0.000000</td>\n",
       "    </tr>\n",
       "    <tr>\n",
       "      <th>17</th>\n",
       "      <td>concave_points_se</td>\n",
       "      <td>0.000000</td>\n",
       "    </tr>\n",
       "    <tr>\n",
       "      <th>0</th>\n",
       "      <td>radius_mean</td>\n",
       "      <td>0.000000</td>\n",
       "    </tr>\n",
       "    <tr>\n",
       "      <th>12</th>\n",
       "      <td>perimeter_se</td>\n",
       "      <td>0.000000</td>\n",
       "    </tr>\n",
       "    <tr>\n",
       "      <th>11</th>\n",
       "      <td>texture_se</td>\n",
       "      <td>0.000000</td>\n",
       "    </tr>\n",
       "    <tr>\n",
       "      <th>9</th>\n",
       "      <td>fractal_dimension_mean</td>\n",
       "      <td>0.000000</td>\n",
       "    </tr>\n",
       "    <tr>\n",
       "      <th>8</th>\n",
       "      <td>symmetry_mean</td>\n",
       "      <td>0.000000</td>\n",
       "    </tr>\n",
       "    <tr>\n",
       "      <th>10</th>\n",
       "      <td>radius_se</td>\n",
       "      <td>0.000000</td>\n",
       "    </tr>\n",
       "  </tbody>\n",
       "</table>\n",
       "</div>"
      ],
      "text/plain": [
       "                  Features  Importance\n",
       "7      concave_points_mean    0.713205\n",
       "1             texture_mean    0.096992\n",
       "3                area_mean    0.050837\n",
       "6           concavity_mean    0.023690\n",
       "2           perimeter_mean    0.022251\n",
       "18             symmetry_se    0.019325\n",
       "13                 area_se    0.018454\n",
       "5         compactness_mean    0.017314\n",
       "4          smoothness_mean    0.011695\n",
       "16            concavity_se    0.010127\n",
       "19    fractal_dimension_se    0.008399\n",
       "15          compactness_se    0.007711\n",
       "14           smoothness_se    0.000000\n",
       "17       concave_points_se    0.000000\n",
       "0              radius_mean    0.000000\n",
       "12            perimeter_se    0.000000\n",
       "11              texture_se    0.000000\n",
       "9   fractal_dimension_mean    0.000000\n",
       "8            symmetry_mean    0.000000\n",
       "10               radius_se    0.000000"
      ]
     },
     "execution_count": 6,
     "metadata": {},
     "output_type": "execute_result"
    }
   ],
   "source": [
    "coef = pd.DataFrame()\n",
    "coef[\"Features\"] = X.columns\n",
    "coef[\"Importance\"] = clf.feature_importances_\n",
    "coef.sort_values('Importance', ascending=False)"
   ]
  },
  {
   "cell_type": "code",
   "execution_count": 7,
   "metadata": {},
   "outputs": [],
   "source": [
    "xvar1=X.columns[coef['Importance']>0.007]\n",
    "X1 = X[xvar1]"
   ]
  },
  {
   "cell_type": "markdown",
   "metadata": {},
   "source": [
    "## SVM"
   ]
  },
  {
   "cell_type": "code",
   "execution_count": 8,
   "metadata": {},
   "outputs": [],
   "source": [
    "from sklearn.model_selection import train_test_split\n",
    "from sklearn.svm import SVC\n",
    "from sklearn.metrics import accuracy_score\n",
    "def data_split (x, y) : \n",
    "    X_train, X_test, Y_train, Y_test = train_test_split(x, y, test_size=0.5, random_state=1234, stratify=y)\n",
    "    print(\"Ratio of the event: Training dataset-\",round( sum(Y_train)/len(Y_train)*100,2),\"%, Test dataset -\",\n",
    "          round( sum(Y_test)/len(Y_test)*100,2), \"%\") \n",
    "    return X_train, X_test, Y_train, Y_test"
   ]
  },
  {
   "cell_type": "markdown",
   "metadata": {},
   "source": [
    "#### Train / Test data 생성"
   ]
  },
  {
   "cell_type": "code",
   "execution_count": 9,
   "metadata": {},
   "outputs": [
    {
     "name": "stdout",
     "output_type": "stream",
     "text": [
      "Ratio of the event: Training dataset- 37.32 %, Test dataset - 37.19 %\n"
     ]
    }
   ],
   "source": [
    "X_train, X_test, y_train, y_test=data_split (X1, y)"
   ]
  },
  {
   "cell_type": "markdown",
   "metadata": {},
   "source": [
    "#### SVM fitting"
   ]
  },
  {
   "cell_type": "code",
   "execution_count": 10,
   "metadata": {},
   "outputs": [
    {
     "data": {
      "text/plain": [
       "0.9017543859649123"
      ]
     },
     "execution_count": 10,
     "metadata": {},
     "output_type": "execute_result"
    }
   ],
   "source": [
    "# linear kernel 이용 \n",
    "model_svm = SVC(kernel='linear', random_state=0)\n",
    "linear_svm= model_svm.fit(X_train, y_train)\n",
    "accuracy_score(y_test, linear_svm.predict(X_test))"
   ]
  },
  {
   "cell_type": "code",
   "execution_count": 11,
   "metadata": {},
   "outputs": [
    {
     "data": {
      "text/plain": [
       "0.8947368421052632"
      ]
     },
     "execution_count": 11,
     "metadata": {},
     "output_type": "execute_result"
    }
   ],
   "source": [
    "# rbf kernel 이용 \n",
    "model_svm = SVC(kernel='rbf', random_state=0)\n",
    "rbf_svm= model_svm.fit(X_train, y_train)\n",
    "accuracy_score(y_test, rbf_svm.predict(X_test))"
   ]
  },
  {
   "cell_type": "code",
   "execution_count": 12,
   "metadata": {},
   "outputs": [
    {
     "data": {
      "text/plain": [
       "0.9052631578947369"
      ]
     },
     "execution_count": 12,
     "metadata": {},
     "output_type": "execute_result"
    }
   ],
   "source": [
    "# polynomial kernel 이용 \n",
    "model_svm = SVC(kernel='poly', random_state=0)\n",
    "poly_svm= model_svm.fit(X_train, y_train)\n",
    "accuracy_score(y_test, poly_svm.predict(X_test))"
   ]
  },
  {
   "cell_type": "markdown",
   "metadata": {},
   "source": [
    "#### ROC curve 와 AUC"
   ]
  },
  {
   "cell_type": "code",
   "execution_count": 13,
   "metadata": {},
   "outputs": [
    {
     "data": {
      "image/png": "[encoded data removed]",
      "text/plain": [
       "<Figure size 432x288 with 1 Axes>"
      ]
     },
     "metadata": {
      "needs_background": "light"
     },
     "output_type": "display_data"
    }
   ],
   "source": [
    "from sklearn.metrics import RocCurveDisplay\n",
    "m1_roc=RocCurveDisplay.from_estimator(linear_svm, X_test, y_test, name='Linear SVM')\n",
    "RocCurveDisplay.from_estimator(rbf_svm, X_test, y_test, ax = m1_roc.ax_, name='RBF SVM')\n",
    "RocCurveDisplay.from_estimator(poly_svm, X_test, y_test, ax = m1_roc.ax_, name='Poly SVM')\n",
    "plt.title(\"ROC curve comparison\")\n",
    "plt.show()"
   ]
  },
  {
   "cell_type": "markdown",
   "metadata": {},
   "source": [
    "# linear SVM implementation in python"
   ]
  },
  {
   "cell_type": "markdown",
   "metadata": {},
   "source": [
    "import required libraries"
   ]
  },
  {
   "cell_type": "code",
   "execution_count": 14,
   "metadata": {},
   "outputs": [],
   "source": [
    "import numpy as np\n",
    "import matplotlib.pyplot as plt\n",
    "\n",
    "np.random.seed(1234)"
   ]
  },
  {
   "cell_type": "markdown",
   "metadata": {},
   "source": [
    "Generate data"
   ]
  },
  {
   "cell_type": "code",
   "execution_count": 15,
   "metadata": {},
   "outputs": [],
   "source": [
    "n = 100\n",
    "p = 2\n",
    "\n",
    "X0 = np.random.normal(loc = -2, scale = 1.5 , size = (n//2,p))\n",
    "X1 = np.random.normal(loc = 2, scale = 1.5, size = (n//2,p))\n",
    "X = np.concatenate([X0, X1])"
   ]
  },
  {
   "cell_type": "markdown",
   "metadata": {},
   "source": [
    "## 1. Implemeting the SVM algorithm (Hard margin)"
   ]
  },
  {
   "cell_type": "markdown",
   "metadata": {},
   "source": [
    "True hyper-plane (Decision boundary)"
   ]
  },
  {
   "cell_type": "code",
   "execution_count": 16,
   "metadata": {},
   "outputs": [],
   "source": [
    "true_b = 0\n",
    "true_w = np.array([2,2])\n",
    "\n",
    "fx = true_b + np.matmul(X, true_w)\n",
    "e = np.random.normal(scale = 1,size = n)\n",
    "y = np.sign(fx)"
   ]
  },
  {
   "cell_type": "code",
   "execution_count": 17,
   "metadata": {
    "scrolled": true
   },
   "outputs": [
    {
     "data": {
      "image/png": "[encoded data removed]",
      "text/plain": [
       "<Figure size 432x288 with 1 Axes>"
      ]
     },
     "metadata": {
      "needs_background": "light"
     },
     "output_type": "display_data"
    }
   ],
   "source": [
    "X0 = X[:,0]\n",
    "X0_grid = np.arange(np.min(X0)-0.5, np.max(X0)+0.5, 0.1)\n",
    "boundary = -true_b/true_w[1] - X0_grid * true_w[0]/true_w[1]\n",
    "\n",
    "plt.scatter(X[:,0], X[:,1],c = y)\n",
    "plt.plot(X0_grid, boundary, '--', color = 'black')\n",
    "plt.ylim([-5,5])\n",
    "plt.show()"
   ]
  },
  {
   "cell_type": "code",
   "execution_count": 37,
   "metadata": {},
   "outputs": [],
   "source": [
    "#!pip install cvxopt"
   ]
  },
  {
   "cell_type": "code",
   "execution_count": 20,
   "metadata": {},
   "outputs": [],
   "source": [
    "from cvxopt import solvers, matrix"
   ]
  },
  {
   "cell_type": "markdown",
   "metadata": {},
   "source": [
    "CVXOPT solver and resulting $\\alpha$"
   ]
  },
  {
   "cell_type": "code",
   "execution_count": 21,
   "metadata": {},
   "outputs": [],
   "source": [
    "y = y.reshape(-1,1)\n",
    "X_dash = y * X\n",
    "H = np.dot(X_dash, X_dash.T)"
   ]
  },
  {
   "cell_type": "code",
   "execution_count": 22,
   "metadata": {},
   "outputs": [],
   "source": [
    "# convert into cvxopt format\n",
    "P = matrix(H)\n",
    "q = matrix(-np.ones((n,1)))\n",
    "G = matrix(-np.eye(n))\n",
    "h = matrix(np.zeros(n))\n",
    "A = matrix(y.reshape(1,-1))\n",
    "b = matrix(np.zeros(1))"
   ]
  },
  {
   "cell_type": "code",
   "execution_count": 23,
   "metadata": {},
   "outputs": [],
   "source": [
    "#setting solver paramters (change default to decrease tolerance)\n",
    "epsilon = 1.0e-10\n",
    "\n",
    "solvers.options['show_progress'] = False\n",
    "solvers.options['abstol'] = epsilon\n",
    "solvers.options['reltol'] = epsilon\n",
    "solvers.options['reastol'] = epsilon"
   ]
  },
  {
   "cell_type": "code",
   "execution_count": 24,
   "metadata": {},
   "outputs": [],
   "source": [
    "# Run solver\n",
    "sol = solvers.qp(P, q, G, h, A, b)\n",
    "alphas = np.array(sol['x'])"
   ]
  },
  {
   "cell_type": "markdown",
   "metadata": {},
   "source": [
    "Compute $w$ and $b$ parameters"
   ]
  },
  {
   "cell_type": "code",
   "execution_count": 25,
   "metadata": {},
   "outputs": [
    {
     "name": "stdout",
     "output_type": "stream",
     "text": [
      "indices of support vectors =  [29 78 96]\n",
      "w =  [1.50305089 1.7364203 ]\n",
      "b =  [0.1775722]\n"
     ]
    }
   ],
   "source": [
    "w = ((y * alphas).T @ X).reshape(-1,1)\n",
    "_alpha = (alphas > epsilon).flatten()\n",
    "b = y[_alpha] - np.dot(X[_alpha],w)\n",
    "\n",
    "print('indices of support vectors = ', np.where(alphas > epsilon)[0])\n",
    "print('w = ', w.flatten())\n",
    "print('b = ', b[0])"
   ]
  },
  {
   "cell_type": "code",
   "execution_count": 26,
   "metadata": {
    "scrolled": true
   },
   "outputs": [
    {
     "data": {
      "image/png": "[encoded data removed]",
      "text/plain": [
       "<Figure size 432x288 with 1 Axes>"
      ]
     },
     "metadata": {
      "needs_background": "light"
     },
     "output_type": "display_data"
    }
   ],
   "source": [
    "SVM_boundary = -b[0]/w[1] - X0_grid * w[0]/w[1]\n",
    "\n",
    "plt.scatter(X[:,0], X[:,1],c = 'gray', alpha = 0.5)\n",
    "plt.scatter(X[_alpha,0], X[_alpha,1],c = y[_alpha])\n",
    "\n",
    "plt.plot(X0_grid, boundary, '--', color = \"black\", label = 'true boundary')\n",
    "plt.plot(X0_grid, SVM_boundary, '-', color = \"red\", label = 'SVM')\n",
    "\n",
    "plt.legend(loc = 'lower right')\n",
    "plt.ylim([-5,5])\n",
    "plt.show()"
   ]
  },
  {
   "cell_type": "markdown",
   "metadata": {},
   "source": [
    "## 2. Implemeting the SVM algorithm (Soft margin)"
   ]
  },
  {
   "cell_type": "markdown",
   "metadata": {},
   "source": [
    "True hyper-plane (Decision boundary)"
   ]
  },
  {
   "cell_type": "code",
   "execution_count": 27,
   "metadata": {},
   "outputs": [],
   "source": [
    "e = np.random.normal(scale = 2,size = n)\n",
    "y = np.sign(fx + e)"
   ]
  },
  {
   "cell_type": "code",
   "execution_count": 28,
   "metadata": {},
   "outputs": [
    {
     "data": {
      "image/png": "[encoded data removed]",
      "text/plain": [
       "<Figure size 432x288 with 1 Axes>"
      ]
     },
     "metadata": {
      "needs_background": "light"
     },
     "output_type": "display_data"
    }
   ],
   "source": [
    "plt.scatter(X[:,0], X[:,1],c = y)\n",
    "plt.plot(X0_grid, boundary, '--', color = 'black')\n",
    "plt.ylim([-5,5])\n",
    "plt.show()"
   ]
  },
  {
   "cell_type": "markdown",
   "metadata": {},
   "source": [
    "CVXOPT solver and resulting $\\alpha$"
   ]
  },
  {
   "cell_type": "code",
   "execution_count": 29,
   "metadata": {},
   "outputs": [],
   "source": [
    "C = 10"
   ]
  },
  {
   "cell_type": "code",
   "execution_count": 30,
   "metadata": {},
   "outputs": [],
   "source": [
    "y = y.reshape(-1,1)\n",
    "X_dash = y * X\n",
    "H = np.dot(X_dash, X_dash.T)"
   ]
  },
  {
   "cell_type": "code",
   "execution_count": 31,
   "metadata": {},
   "outputs": [],
   "source": [
    "# convert into cvxopt format\n",
    "P = matrix(H)\n",
    "q = matrix(-np.ones((n,1)))\n",
    "G = matrix(np.vstack((-np.eye(n), np.eye(n))))\n",
    "h = matrix(np.hstack((-np.zeros(n), np.ones(n)*C)))\n",
    "A = matrix(y.reshape(1,-1))\n",
    "b = matrix(np.zeros(1))"
   ]
  },
  {
   "cell_type": "code",
   "execution_count": 32,
   "metadata": {},
   "outputs": [],
   "source": [
    "# Run solver\n",
    "sol = solvers.qp(P, q, G, h, A, b)\n",
    "alphas = np.array(sol['x'])"
   ]
  },
  {
   "cell_type": "markdown",
   "metadata": {},
   "source": [
    "Compute $w$ and $b$ parameters"
   ]
  },
  {
   "cell_type": "code",
   "execution_count": 33,
   "metadata": {},
   "outputs": [
    {
     "name": "stdout",
     "output_type": "stream",
     "text": [
      "indices of support vectors =  [ 5 16 19 29 78 96]\n",
      "w =  [1.54207553 1.62725293]\n",
      "b =  [0.25727339]\n"
     ]
    }
   ],
   "source": [
    "w = ((y * alphas).T @ X).reshape(-1,1)\n",
    "_alpha = (alphas > epsilon).flatten()\n",
    "b = y[_alpha] - np.dot(X[_alpha],w)\n",
    "\n",
    "print('indices of support vectors = ', np.where(alphas > epsilon)[0])\n",
    "print('w = ', w.flatten())\n",
    "print('b = ', b[0])"
   ]
  },
  {
   "cell_type": "code",
   "execution_count": 34,
   "metadata": {
    "scrolled": true
   },
   "outputs": [
    {
     "data": {
      "image/png": "[encoded data removed]",
      "text/plain": [
       "<Figure size 432x288 with 1 Axes>"
      ]
     },
     "metadata": {
      "needs_background": "light"
     },
     "output_type": "display_data"
    }
   ],
   "source": [
    "SVM_boundary = -b[0]/w[1] - X0_grid * w[0]/w[1]\n",
    "\n",
    "plt.scatter(X[:,0], X[:,1],c = 'gray', alpha = 0.5)\n",
    "plt.scatter(X[_alpha,0], X[_alpha,1],c = y[_alpha])\n",
    "\n",
    "plt.plot(X0_grid, boundary, '--', color = \"black\", label = 'true boundary')\n",
    "plt.plot(X0_grid, SVM_boundary, '-', color = \"red\", label = 'SVM')\n",
    "\n",
    "plt.legend(loc = 'lower right')\n",
    "plt.ylim([-5,5])\n",
    "plt.show()"
   ]
  },
  {
   "cell_type": "markdown",
   "metadata": {},
   "source": [
    "## Comparing to SKlearn results"
   ]
  },
  {
   "cell_type": "code",
   "execution_count": 35,
   "metadata": {},
   "outputs": [
    {
     "name": "stdout",
     "output_type": "stream",
     "text": [
      "w =  [[1.54181506 1.62798265]]\n",
      "b =  [0.25701923]\n",
      "Indices of support vectors =  [ 5 19 29 16 78 96]\n"
     ]
    }
   ],
   "source": [
    "from sklearn.svm import SVC\n",
    "\n",
    "clf = SVC(C = 10, kernel = 'linear')\n",
    "clf.fit(X, y.ravel()) \n",
    "\n",
    "print('w = ',clf.coef_)\n",
    "print('b = ',clf.intercept_)\n",
    "print('Indices of support vectors = ', clf.support_)"
   ]
  },
  {
   "cell_type": "code",
   "execution_count": 36,
   "metadata": {
    "scrolled": true
   },
   "outputs": [
    {
     "data": {
      "image/png": "[encoded data removed]",
      "text/plain": [
       "<Figure size 432x288 with 1 Axes>"
      ]
     },
     "metadata": {
      "needs_background": "light"
     },
     "output_type": "display_data"
    }
   ],
   "source": [
    "SVM_boundary_sklearn = -clf.intercept_[0]/clf.coef_[0][1] - X0_grid * clf.coef_[0][0]/clf.coef_[0][1]\n",
    "\n",
    "plt.scatter(X[:,0], X[:,1],c = 'gray', alpha = 0.5)\n",
    "plt.scatter(X[clf.support_,0], X[clf.support_,1],c = y[clf.support_])\n",
    "\n",
    "plt.plot(X0_grid, boundary, '--', color = \"black\", label = 'true boundary')\n",
    "plt.plot(X0_grid, SVM_boundary, '-', color = \"red\", label = 'SVM implement')\n",
    "plt.plot(X0_grid, SVM_boundary_sklearn, '-', color = \"blue\", label = 'SVM sklearn')\n",
    "\n",
    "plt.legend(loc = 'lower right')\n",
    "plt.ylim([-5,5])\n",
    "plt.show()"
   ]
  },
  {
   "cell_type": "markdown",
   "metadata": {},
   "source": [
    "The end"
   ]
  },
  {
   "cell_type": "code",
   "execution_count": null,
   "metadata": {},
   "outputs": [],
   "source": []
  }
 ],
 "metadata": {
  "colab": {
   "collapsed_sections": [],
   "name": "feature_eng.ipynb",
   "provenance": []
  },
  "kernelspec": {
   "display_name": "Python 3",
   "language": "python",
   "name": "python3"
  },
  "language_info": {
   "codemirror_mode": {
    "name": "ipython",
    "version": 3
   },
   "file_extension": ".py",
   "mimetype": "text/x-python",
   "name": "python",
   "nbconvert_exporter": "python",
   "pygments_lexer": "ipython3",
   "version": "3.8.5"
  }
 },
 "nbformat": 4,
 "nbformat_minor": 1
}
