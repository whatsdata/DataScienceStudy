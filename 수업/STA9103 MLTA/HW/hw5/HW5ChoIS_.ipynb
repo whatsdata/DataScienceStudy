{
  "nbformat": 4,
  "nbformat_minor": 0,
  "metadata": {
    "colab": {
      "name": "HW3ChoIS .ipynb",
      "provenance": [],
      "collapsed_sections": []
    },
    "kernelspec": {
      "name": "python3",
      "display_name": "Python 3"
    },
    "language_info": {
      "name": "python"
    }
  },
  "cells": [
    {
      "cell_type": "code",
      "metadata": {
        "id": "dKNFvbQoRi4v",
        "colab": {
          "base_uri": "https://localhost:8080/"
        },
        "outputId": "e3a19a51-2845-43a1-ac81-d938bb96354d"
      },
      "source": [
        "import numpy as np\n",
        "import pandas as pd\n",
        "from sklearn.linear_model import LinearRegression\n",
        "from sklearn.metrics import r2_score as r2\n",
        "from sklearn.metrics import mean_squared_error  as MSE\n",
        "from sklearn.metrics import mean_absolute_error as MAE\n",
        "import statsmodels.api as sm\n",
        "from sklearn.metrics import confusion_matrix\n",
        "import sys"
      ],
      "execution_count": 1,
      "outputs": [
        {
          "output_type": "stream",
          "name": "stderr",
          "text": [
            "/usr/local/lib/python3.7/dist-packages/statsmodels/tools/_testing.py:19: FutureWarning: pandas.util.testing is deprecated. Use the functions in the public API at pandas.testing instead.\n",
            "  import pandas.util.testing as tm\n"
          ]
        }
      ]
    },
    {
      "cell_type": "code",
      "metadata": {
        "colab": {
          "base_uri": "https://localhost:8080/"
        },
        "id": "jXqs7Y04gzmh",
        "outputId": "5765a749-79bf-4369-cc4c-9596728c957d"
      },
      "source": [
        "#Question 1\n",
        "train_data_name=input(\"Enter the name of train data file [(ex) harris.dat] : \") # data name\n",
        "test_data_name=input(\"Enter the name of test data file [(ex) harris.dat] : \") \n",
        "coding_fm=int(input(\"Select the data coding format(1 = 'a b c' or 2 = 'a,b,c'): \")) # data separator\n",
        "separator_fm={coding_fm ==1 : \" \"}.get(True, \",\")\n",
        "res_pos=int(input(\"Enter the column position of the response variable : [from 1 to p] : \"))\n",
        "header=input(\"Does the data have column header? (y/n) : \")\n",
        "if(header==\"y\") : trdata=pd.read_csv(train_data_name, sep=separator_fm) # loading data\n",
        "else : trdata=pd.read_csv(train_data_name, sep=separator_fm, header=None) # loading data\n",
        "if(header==\"y\") : tstdata=pd.read_csv(test_data_name, sep=separator_fm) # loading data\n",
        "else : tstdata=pd.read_csv(test_data_name, sep=separator_fm, header=None) # loading data\n",
        "out_name=input(\"Enter the output file name to export [(ex) result.txt] : \")\n",
        "\n",
        "# Extracting X and y\n",
        "data = pd.DataFrame(trdata)\n",
        "C = pd.DataFrame(np.ones(shape = (data.shape[0],)))\n",
        "data = pd.concat([C,data], axis = 1, ignore_index= True)\n",
        "X= data.drop([data.columns[res_pos]], axis=1 )\n",
        "Y= data.iloc[:, res_pos ].values\n",
        "\n",
        "#Extracting test X and y\n",
        "tstdata = pd.DataFrame(tstdata)\n",
        "tstC = pd.DataFrame(np.ones(shape = (tstdata.shape[0],)))\n",
        "tstdata = pd.concat([tstC,tstdata], axis = 1, ignore_index= True)\n",
        "tstX= tstdata.drop([tstdata.columns[res_pos]], axis=1 )\n",
        "tstY= tstdata.iloc[:, res_pos ].values"
      ],
      "execution_count": 2,
      "outputs": [
        {
          "name": "stdout",
          "output_type": "stream",
          "text": [
            "Enter the name of train data file [(ex) harris.dat] : veh.dat\n",
            "Enter the name of test data file [(ex) harris.dat] : vehtest.dat\n",
            "Select the data coding format(1 = 'a b c' or 2 = 'a,b,c'): 2\n",
            "Enter the column position of the response variable : [from 1 to p] : 19\n",
            "Does the data have column header? (y/n) : n\n",
            "Enter the output file name to export [(ex) result.txt] : result.txt\n"
          ]
        }
      ]
    },
    {
      "cell_type": "code",
      "metadata": {
        "id": "zowE0ZKHoT0B"
      },
      "source": [
        "def OVRfit(X,y):\n",
        "  ovr = {}\n",
        "  y1 = pd.DataFrame(index=range(0,len(y)), columns=range(0,len(np.unique(y))))\n",
        "  for i in range(0, len(np.unique(y))):\n",
        "    for j in range(0,len(y)):\n",
        "        if y[j] == np.unique(y)[i]:\n",
        "            y1.iloc[j, i] = 1\n",
        "        else: \n",
        "            y1.iloc[j, i] = 0\n",
        "  for i in range(0,len(np.unique(y))):\n",
        "    ovr[f'logit{i}']= sm.Logit(y1[i].astype(float),X.astype(float) ).fit()\n",
        "\n",
        "  return ovr\n"
      ],
      "execution_count": 194,
      "outputs": []
    },
    {
      "cell_type": "code",
      "metadata": {
        "colab": {
          "base_uri": "https://localhost:8080/"
        },
        "id": "Fg9p8ctS7zVv",
        "outputId": "467623fc-1280-4906-f5fd-d6a770060d20"
      },
      "source": [
        "OVRfit(X,Y)"
      ],
      "execution_count": 195,
      "outputs": [
        {
          "output_type": "stream",
          "name": "stdout",
          "text": [
            "Optimization terminated successfully.\n",
            "         Current function value: 0.360581\n",
            "         Iterations 8\n",
            "Optimization terminated successfully.\n",
            "         Current function value: 0.327391\n",
            "         Iterations 9\n",
            "Optimization terminated successfully.\n",
            "         Current function value: 0.042271\n",
            "         Iterations 13\n",
            "Optimization terminated successfully.\n",
            "         Current function value: 0.027253\n",
            "         Iterations 16\n"
          ]
        },
        {
          "output_type": "execute_result",
          "data": {
            "text/plain": [
              "{'logit0': <statsmodels.discrete.discrete_model.BinaryResultsWrapper at 0x7fa6e1741610>,\n",
              " 'logit1': <statsmodels.discrete.discrete_model.BinaryResultsWrapper at 0x7fa6e1717b50>,\n",
              " 'logit2': <statsmodels.discrete.discrete_model.BinaryResultsWrapper at 0x7fa6e1717d10>,\n",
              " 'logit3': <statsmodels.discrete.discrete_model.BinaryResultsWrapper at 0x7fa6e16af090>}"
            ]
          },
          "metadata": {},
          "execution_count": 195
        }
      ]
    },
    {
      "cell_type": "code",
      "metadata": {
        "id": "sS-m3OQ2ykpe"
      },
      "source": [
        "#2\n",
        "def OVRpredict(tstX, tsty):\n",
        "  predy = pd.DataFrame(index=range(0,len(tsty)), columns=range(0,len(np.unique(y))))\n",
        "  for i in range(0, len(np.unique(y))):\n",
        "    predy[i] = ovr[f'logit{i}'].predict(tstX)\n",
        "  \n",
        "  prediction = pd.DataFrame(index = range(0,len(tsty)), columns = range(0,1))\n",
        "  for  i in range(0,len(tsty)):\n",
        "    prediction[i] = np.argmax(predy.iloc[i])+1 \n",
        "  prediction = prediction.iloc[0]\n",
        "\n",
        "  y2 = pd.DataFrame(index=range(0,len(tsty)), columns=range(0,len(np.unique(y))))\n",
        "  for i in range(0,len(tsty)):\n",
        "    if np.sum(np.round(predy.iloc[i]/ np.sum(predy.iloc[i]),decimals = 1)) == 1:\n",
        "      y2.iloc[i] = np.round(predy.iloc[i]/ np.sum(predy.iloc[i]),decimals = 1)  \n",
        "    else:\n",
        "      y2.iloc[i] = np.round(predy.iloc[i]/ np.sum(predy.iloc[i]),decimals = 1)\n",
        "      y2.iloc[i][np.where(predy.iloc[i]==sorted(predy.iloc[i], reverse=True)[1])[0]]= 0.1\n",
        "\n",
        "  return y2, prediction"
      ],
      "execution_count": 196,
      "outputs": []
    },
    {
      "cell_type": "code",
      "metadata": {
        "id": "4pUXw9IEMFaj"
      },
      "source": [
        "A = OVRpredict(tstX,tstY)"
      ],
      "execution_count": 197,
      "outputs": []
    },
    {
      "cell_type": "code",
      "metadata": {
        "id": "JmPDkB9xCO3H"
      },
      "source": [
        "#3\n",
        "sys.stdout = open(out_name,'w')\n",
        "\n",
        "k = 'ID, Actual Class'\n",
        "split = k.split()\n",
        "for i in range(0,len(np.unique(Y))):\n",
        "  split.insert(i+2, f', Class {i+1}')\n",
        "split.insert(-1,',Final prediction')\n",
        "k = ' '.join(split)\n",
        "\n",
        "print(k)\n",
        "print('-----------------------------------')\n",
        "for i in range(3):\n",
        "  print(i+1, tstY[i],list(A[0].iloc[i]), A[1][i] )\n",
        "\n",
        "print('skip: 중간은 생략')\n",
        "for i in range(len(tstY)-3,len(tstY)):\n",
        "  print(i+1, tstY[i],list(A[0].iloc[i]), A[1][i] )"
      ],
      "execution_count": 198,
      "outputs": []
    },
    {
      "cell_type": "code",
      "metadata": {
        "id": "kHTTaijvEYPl"
      },
      "source": [
        "#4\n",
        "confusion_tst = confusion_matrix(tstY, A[1])\n",
        "\n",
        "accu_tst = 0\n",
        "for i in range(len(np.unique(Y))):\n",
        "  accu_tst = accu_tst + confusion_tst[i][i]\n",
        "accuracy_tst = accu_tst / tstX.shape[0]\n",
        "\n",
        "print('\\n\\nconfusion matrix (test)')\n",
        "print('----------------------------------')\n",
        "\n",
        "print('           predicted class \\n Actual 1 ' ,confusion_tst[0], '\\n class  2 ', confusion_tst[1])\n",
        "for i in range(2,len(np.unique(Y)) ):\n",
        "  print(f'        {i+1} ', confusion_tst[i])\n",
        "print('model summary')\n",
        "print('----------------------------------')\n",
        "print('Overall accuracy = ' ,accuracy_tst)"
      ],
      "execution_count": 199,
      "outputs": []
    }
  ]
}