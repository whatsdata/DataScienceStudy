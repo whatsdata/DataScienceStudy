{
 "cells": [
  {
   "cell_type": "markdown",
   "id": "624b4a19-c64f-4f54-8bf3-2dba153f591f",
   "metadata": {
    "tags": []
   },
   "source": [
    "# 2021321148 INSIK CHO"
   ]
  },
  {
   "cell_type": "code",
   "execution_count": 2,
   "id": "c27720ae-2ad9-459d-9b9b-0a1932c75e99",
   "metadata": {},
   "outputs": [],
   "source": [
    "# I installed needed packages\n",
    "import numpy as np\n",
    "import matplotlib.pyplot as plt\n",
    "import pandas as pd\n",
    "import numpy as np\n",
    "from sklearn.manifold import TSNE\n",
    "\n",
    "import warnings\n",
    "warnings.filterwarnings(action='ignore')"
   ]
  },
  {
   "cell_type": "code",
   "execution_count": 3,
   "id": "3137c1d3-2020-47f1-a1ed-d12099a919ae",
   "metadata": {},
   "outputs": [
    {
     "name": "stdout",
     "output_type": "stream",
     "text": [
      "graph data :  [[0. 1. 1. ... 1. 0. 0.]\n",
      " [1. 0. 1. ... 0. 0. 0.]\n",
      " [1. 1. 0. ... 0. 1. 0.]\n",
      " ...\n",
      " [1. 0. 0. ... 0. 1. 1.]\n",
      " [0. 0. 1. ... 1. 0. 1.]\n",
      " [0. 0. 0. ... 1. 1. 0.]]\n",
      "label : [[0. 1.]\n",
      " [1. 1.]\n",
      " [2. 1.]\n",
      " [3. 1.]\n",
      " [4. 1.]]\n"
     ]
    }
   ],
   "source": [
    "'''\n",
    "reading graph and label is same with assignment 4\n",
    "It is suggested to use graphx, But I guess it is same one with week4, i used it.\n",
    "'''\n",
    "\n",
    "# set initial df, to be adjacency matrix ,\n",
    "df = np.zeros((34,34))\n",
    "\n",
    "# I wrote code to transform adjacency list into adjacency matrix\n",
    "with open(\"karate_club.adjlist\") as file:\n",
    "    for _ in range(3):\n",
    "        next(file)\n",
    "        \n",
    "# For every line of file, find pair and give 1 to pair\n",
    "    for line in file:\n",
    "        node = list(map(int, line.split()))\n",
    "        i = node[0]\n",
    "        for j in node[1:]:\n",
    "            df[i][j] = 1\n",
    "            df[j][i] = 1\n",
    "    file.close()\n",
    "    \n",
    "label = np.loadtxt(\"karate_label.txt\")\n",
    "\n",
    "print('graph data : ' ,df)\n",
    "print('label :', label[:5])"
   ]
  },
  {
   "cell_type": "markdown",
   "id": "6870b5bb-1f1d-403c-be95-44ad82959806",
   "metadata": {
    "tags": []
   },
   "source": [
    "### Random Walks"
   ]
  },
  {
   "cell_type": "code",
   "execution_count": 9,
   "id": "ddef2e17-c78c-4c41-9484-5976ba25494c",
   "metadata": {},
   "outputs": [],
   "source": [
    "def randomwalks(G,root,t=10):\n",
    "    walks = [root]\n",
    "    \n",
    "    for _ in range(t-1):\n",
    "        # the root node of each randomwalk iteration.\n",
    "        root_node = G[:,root]\n",
    "        # connected nodes\n",
    "        connect = []\n",
    "        \n",
    "        # iteration to get neighbor\n",
    "        # used enumerate, for each cell being 1, save its label \n",
    "        for index, connection in enumerate(root_node):\n",
    "            if connection ==1:\n",
    "                connect.append(index)\n",
    "                \n",
    "        # set one of connected node as 'next', \n",
    "        # to start over same procedure, set 'next' as 'root' \n",
    "        next = np.random.choice(connect,1)[-1]\n",
    "        # save the next connection into walk\n",
    "        walks.append(next)\n",
    "        root = next       \n",
    "        \n",
    "    return walks"
   ]
  },
  {
   "cell_type": "code",
   "execution_count": 17,
   "id": "d19395cf-f4f2-42fd-a570-c8be997ddd32",
   "metadata": {},
   "outputs": [],
   "source": [
    "class SkipGram:\n",
    "    def __init__(self, V, d=2, lr=0.02, w=3):\n",
    "        self.V = V\n",
    "        self.d = d\n",
    "        self.lr = lr\n",
    "        self.w = w \n",
    "        \n",
    "        #set Phi and Psi, which are weights in assignment 2~3\n",
    "        self.Phi = np.random.rand(self.V, self.d) \n",
    "        self.Psi = np.random.rand(self.d, self.V)\n",
    "    \n",
    "    #define softmax function\n",
    "    def softmax(self, x):\n",
    "        return np.exp(x) / np.sum(np.exp(x))\n",
    "    \n",
    "    #define onehot encoding \n",
    "    #for each input layer, only one node is use,\n",
    "    #therefore, it should be one-hot encodded\n",
    "    def onehot(self, node):\n",
    "        x = [0] * self.V\n",
    "        x[node] = 1\n",
    "        return x\n",
    "    \n",
    "    #define loss function to be used\n",
    "    def cross_entropy_loss(self,y, t):\n",
    "        epsilon = 1e-10\n",
    "        return -np.sum(t * np.log(y+ epsilon))\n",
    "    \n",
    "    #define forward propagation\n",
    "    #Tried define bactward propagation too, but failed...\n",
    "    #Try later...\n",
    "    def forward(self, x):\n",
    "        h = np.dot(self.Phi.T, x)  \n",
    "        u = np.dot(self.Psi.T, h)  \n",
    "        y = self.softmax(u)\n",
    "        return y, h, u\n",
    "    \n",
    "    def train(self,G,walks):\n",
    "        cost=[]\n",
    "        ''' \n",
    "        for each random walked vector, define data and train\n",
    "        because first and last in randomwalked vector \n",
    "         has one sided neighbors, I splitted the case by enumerate.\n",
    "         Also, It is where one hot encodiing is used.\n",
    "         '''\n",
    "        for idx, node in enumerate(walks):\n",
    "            if idx == 0:\n",
    "                train_x = self.onehot(node)\n",
    "                trainset_y_idx = walks[1:1+self.w]\n",
    "                \n",
    "            elif 0 < idx < self.w:\n",
    "                train_x = self.onehot(node)\n",
    "                trainset_y_idx = walks[0:idx] + walks[idx+1:idx+1+self.w]\n",
    "            \n",
    "            elif self.w <= idx:\n",
    "                train_x = self.onehot(node)\n",
    "                trainset_y_idx = walks[idx-self.w:idx] + walks[idx+1:idx+1+self.w]\n",
    "            train_x = np.array(train_x).reshape(34,1)\n",
    "            \n",
    "            # because number of output is different by case, set it.\n",
    "            c = len(trainset_y_idx)\n",
    "            \n",
    "            # forward_propagation\n",
    "            y, h, u = self.forward(train_x)\n",
    "            \n",
    "            # save cross validation losses to 'loss' for later graph\n",
    "            loss = [] \n",
    "            # Copied the original function. Since I implemented a lot of iteration later. \n",
    "            gradient = self.Psi \n",
    "            \n",
    "            \n",
    "            # I will one-hot for each y, and implement update for each y\n",
    "            for k in range(c):\n",
    "                idx_y = trainset_y_idx[k] \n",
    "                train_y = np.array(self.onehot(idx_y)).reshape(34,1)\n",
    "                \n",
    "                # cross-entropy loss function\n",
    "                ce_loss = self.cross_entropy_loss(y,train_y)\n",
    "                loss.append(ce_loss)\n",
    "                \n",
    "                # backward_propagation\n",
    "                # Because I used iteration here, where iteration is not desirable,\n",
    "                # I saved original function and use it for iteration\n",
    "                EH = np.dot(gradient,(y - train_y)) \n",
    "                for j in range(34):\n",
    "                    e_j = y[j] - train_y[j]\n",
    "                    self.Psi[:,j] -= (self.lr*e_j*h).reshape(2,)\n",
    "                    \n",
    "                self.Phi[node] -= (self.lr*EH.T).reshape(2,)\n",
    "                \n",
    "            cost.append(np.sum(loss))\n",
    "        return np.mean(cost) "
   ]
  },
  {
   "cell_type": "code",
   "execution_count": 18,
   "id": "feb0fd0b-06b8-4af4-9aa4-535e79eae40a",
   "metadata": {},
   "outputs": [],
   "source": [
    "#I followed the pseudo code, with gamma = 5 as suggested\n",
    "gamma = 5\n",
    "model = SkipGram(V=34) # 초기화\n",
    "val2 = []\n",
    "\n",
    "# Epochs\n",
    "for epoch in range(100):\n",
    "    val = []\n",
    "    #for gamms\n",
    "    for k in range(gamma):\n",
    "        #shuffle V(graph)\n",
    "        shuffled_node = np.arange(df.shape[0]) \n",
    "        np.random.shuffle(shuffled_node)\n",
    "        #Implement randomwalks-skipgram with class above\n",
    "        for i in range(len(shuffled_node)):\n",
    "            root = shuffled_node[i]\n",
    "            seq = randomwalks(G =df, root = root)\n",
    "            values = model.train(G=df, walks = seq)\n",
    "            val.append(values)\n",
    "    # I calulcated weighted loss, divided by whole iteration including gamma multipled\n",
    "    val2.append(np.sum(val)/(gamma*len(shuffled_node)))"
   ]
  },
  {
   "cell_type": "markdown",
   "id": "3bfb1c47-3feb-4b85-88d5-b8127fa20f4d",
   "metadata": {},
   "source": [
    "### Epoch vs Cost graph"
   ]
  },
  {
   "cell_type": "code",
   "execution_count": 19,
   "id": "093d308b-0fc8-48db-aec6-a0adc126155f",
   "metadata": {},
   "outputs": [
    {
     "data": {
      "image/png": "[encoded data removed]",
      "text/plain": [
       "<Figure size 432x288 with 1 Axes>"
      ]
     },
     "metadata": {
      "needs_background": "light"
     },
     "output_type": "display_data"
    }
   ],
   "source": [
    "xlim = range(1,len(val2)+1)\n",
    "plt.plot(xlim,val2,'b')\n",
    "plt.xlabel(\"Epoch\")\n",
    "plt.ylabel(\"Cost\")\n",
    "plt.title(\"Epoch vs Cost\")\n",
    "plt.show()"
   ]
  },
  {
   "cell_type": "markdown",
   "id": "59b0967e-42c8-4f2d-b8ba-df23e7fe60ea",
   "metadata": {
    "tags": []
   },
   "source": [
    "### two-dimensional visualization"
   ]
  },
  {
   "cell_type": "markdown",
   "id": "5821713e-36db-40be-b837-091a288402d6",
   "metadata": {
    "tags": []
   },
   "source": [
    "I put one dimension of embedding matrix(Phi) as x-axis,\n",
    "the other dimension as y-axis\n",
    "\n",
    "As a result, I could see that it separates really well."
   ]
  },
  {
   "cell_type": "code",
   "execution_count": 20,
   "id": "79821d0b-b7c5-4b6d-8486-49df202435c7",
   "metadata": {},
   "outputs": [
    {
     "data": {
      "image/png": "[encoded data removed]",
      "text/plain": [
       "<Figure size 432x288 with 1 Axes>"
      ]
     },
     "metadata": {
      "needs_background": "light"
     },
     "output_type": "display_data"
    }
   ],
   "source": [
    "x = model.Phi[:,0] # first dimension of embedding matrix\n",
    "y = model.Phi[:,1] # second dimension os embedding matrix\n",
    "plt.scatter(x,y,c= label[:,1])\n",
    "plt.show()"
   ]
  },
  {
   "cell_type": "markdown",
   "id": "db40912e-958a-4900-b415-5908fa49b4d5",
   "metadata": {
    "tags": []
   },
   "source": [
    "## comparison with matrix factorization\n",
    "\n",
    "I copied paste the code of assignment 4"
   ]
  },
  {
   "cell_type": "markdown",
   "id": "1b9805bd-1bdb-45b8-a1bf-7dd2864a64fe",
   "metadata": {
    "tags": []
   },
   "source": [
    "Compared to deepwalk, which classifies well, matrix factorization didn't work well. \n",
    "It was good with t-SNE last tiem, but when I draw embedding matrix directly, it looked like it couldn't separate perfectly.\n"
   ]
  },
  {
   "cell_type": "code",
   "execution_count": 21,
   "id": "2738aa4d-1f4b-4428-a05f-3f90cf215485",
   "metadata": {},
   "outputs": [
    {
     "data": {
      "image/png": "[encoded data removed]",
      "text/plain": [
       "<Figure size 432x288 with 1 Axes>"
      ]
     },
     "metadata": {
      "needs_background": "light"
     },
     "output_type": "display_data"
    }
   ],
   "source": [
    "# Define the class for MatrixFactoriztion\n",
    "class MatrixFactorization():\n",
    "    \n",
    "# \"Define _init_ to set initial variables. \n",
    "    \"\"\"\n",
    "    A : adjacency matrix\n",
    "    epoch : How many epochs\n",
    "    d : dimension of embedding vector (set default 4, suggested by assignment)\n",
    "    lr : learning rate (set 0.01 as default, no reason)\n",
    "    random_state : ranom_state, just to incorporate choice for randomness\n",
    "    \"\"\"\n",
    "    def __init__(self, A,  epoch, d = 4, lr=0.01,random_state = 42):\n",
    "        self.A = A\n",
    "        self.d = d\n",
    "        self.lr = lr\n",
    "        self.epoch = epoch\n",
    "        np.random.seed(random_state)\n",
    "        \n",
    "        \"\"\" \n",
    "        self.U and self.V are initial setting for z_u and z_v. \n",
    "        I give them random values, made on normal dist.\n",
    "        \"\"\"\n",
    "        self.U = np.random.normal(0,0.03, [A.shape[0], d])\n",
    "        self.V = self.U.T\n",
    "\n",
    "        \"\"\"\n",
    "        I iterated the matrix by pair of (i,j). \n",
    "        So,  convenience later, I made index matrix\n",
    "        \"\"\"\n",
    "        # get length of Adjacency matrix\n",
    "        index_i = range(A.shape[0]) ;index_j = range(A.shape[0])\n",
    "        A_index = []\n",
    "        # Put all paris into index matrix \n",
    "        for i in index_i:\n",
    "            for j in index_j:\n",
    "                A_index.append((i,j))\n",
    "        # Randomly shuffle the index to give more randomness\n",
    "        np.random.shuffle(A_index)\n",
    "        self.index = A_index\n",
    "        self.cost = []\n",
    "        \n",
    "    \"\"\" \n",
    "    Iterate over indexes\n",
    "    calculate z_u * z_v, and calculate the diffrence with real adjacency matrix, \n",
    "    do backpropagetion , repeat with (j,i) again\n",
    "    \"\"\"    \n",
    "    def sgd(self):\n",
    "        cost = []\n",
    "        for epoch in range(self.epoch):\n",
    "            for i,j in self.index:\n",
    "                #propagation\n",
    "                A_ij_hat = np.dot(self.U[i] , self.V[:,j])\n",
    "                #calculate gradient\n",
    "                grad_u = (self.A[i][j] - A_ij_hat) * self.V[:,j]\n",
    "                grad_v = (self.A[i][j] - A_ij_hat) * self.U[i]\n",
    "                #backpropagation\n",
    "                self.U[i]   += self.lr * grad_u\n",
    "                self.V[:,j] += self.lr * grad_v\n",
    "            #repeat for (j,i)\n",
    "                #propagation\n",
    "                A_ji_hat = np.dot(self.U[i] , self.V[:,j])\n",
    "                #calculate gradient\n",
    "                grad_u2 = (self.A[j][i] - A_ij_hat) * self.V[:,i]\n",
    "                grad_v2 = (self.A[j][i] - A_ij_hat) * self.U[j]\n",
    "                #backpropagation\n",
    "                self.U[j]   += self.lr * grad_u2\n",
    "                self.V[:,i] += self.lr * grad_v2\n",
    "\n",
    "            #The resulted embedding matrix\n",
    "            A_hat = np.dot(self.U , self.V)\n",
    "            # get cost for each epochs\n",
    "            self.cost.append(np.sum((self.A-A_hat)**2/np.prod(self.A.shape)))\n",
    "                \n",
    "#Implemnt the matrixfactorization with 1000 epochs\n",
    "MF = MatrixFactorization(A = df, epoch = 1000)\n",
    "MF.sgd()\n",
    "\n",
    "x = MF.U[:,0]\n",
    "y = MF.U[:,1]\n",
    "plt.scatter(x,y,c= label[:,1])\n",
    "plt.show()"
   ]
  }
 ],
 "metadata": {
  "kernelspec": {
   "display_name": "Python 3 (ipykernel)",
   "language": "python",
   "name": "python3"
  },
  "language_info": {
   "codemirror_mode": {
    "name": "ipython",
    "version": 3
   },
   "file_extension": ".py",
   "mimetype": "text/x-python",
   "name": "python",
   "nbconvert_exporter": "python",
   "pygments_lexer": "ipython3",
   "version": "3.9.7"
  }
 },
 "nbformat": 4,
 "nbformat_minor": 5
}
