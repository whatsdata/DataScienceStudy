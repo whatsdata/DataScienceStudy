{
 "cells": [
  {
   "cell_type": "code",
   "execution_count": 194,
   "metadata": {
    "colab": {
     "base_uri": "https://localhost:8080/"
    },
    "id": "2-WjtikHdHJw",
    "outputId": "8617e3b0-9cff-44ff-82ac-e942e8fc7e9b"
   },
   "outputs": [
    {
     "name": "stderr",
     "output_type": "stream",
     "text": [
      "/usr/local/lib/python3.7/dist-packages/pandas/util/_decorators.py:311: ParserWarning: Falling back to the 'python' engine because the 'c' engine does not support regex separators (separators > 1 char and different from '\\s+' are interpreted as regex); you can avoid this warning by specifying engine='python'.\n",
      "  return func(*args, **kwargs)\n"
     ]
    }
   ],
   "source": [
    "import pandas as pd\n",
    "import numpy as np\n",
    "import matplotlib.pyplot as plt\n",
    "df = pd.read_csv('training.txt',sep=\"   \",  header = None)\n",
    "X = df.drop(2, axis=1)\n",
    "y = df.drop([0,1], axis=1)"
   ]
  },
  {
   "cell_type": "code",
   "execution_count": 202,
   "metadata": {
    "id": "8mW2BP4fWnD-"
   },
   "outputs": [],
   "source": [
    "\n",
    "def logistic(X):    #define Logistic function for convenience\n",
    "  return 1/ (1+np.exp(-X))\n",
    "\n",
    "\n",
    "class NN:  #make class: not necessary, just for convenience\n",
    "  def __init__(self) :\n",
    "    self.weights_first = np.random.rand(8,2)  #init for class. I defined random weights for two layers here, with rand function\n",
    "    self.weights_second = np.random.rand(8)   #init for class. I defined random weights for two layers here, with rand function\n",
    "    self.loss = []  #Defined empty loss list too, to make graph later\n",
    "    pass\n",
    " \n",
    "  #defining fit, including forward & backward propagation\n",
    "  def fit(self, X_train,y_train,X_validation, y_validation, epoch= 100, learning_rate = 0.01):\n",
    "    num = len(X_train)\n",
    "    num_validaton = len(X_validation)\n",
    "    \n",
    "    for _ in range(epoch):   #make iteration as much as epoch\n",
    "      ER=[]   #empty list to put loss per epoch in\n",
    "      \n",
    "      for k in range(num):  #because it is stochastic gradient descent, I implemented forward/backward propagation for every sample\n",
    "        h=[]   #empty list to hidden output in\n",
    "        for i in range(8):\n",
    "          h.append(logistic(np.dot(X_train.iloc[k], self.weights_first[i])))  #calculate 8 h's by multiplication of X and old weights\n",
    "                                                                              #and implement logistic\n",
    "        y = logistic(np.dot(self.weights_second,h))   #calculate result y by logistic & multiplication\n",
    "        ER.append((1/2)*(y-y_train.iloc[k])**2)  #calculate error. Because output layer is 1, it is calculated just by one sample\n",
    "\n",
    "        #back propagation start\n",
    "        EI = ((y-y_train.iloc[k])*y*(1-y)).values   # EI from ouput layer\n",
    "        self.weights_second = self.weights_second -learning_rate * EI * h   #becuase formulas are calculated in lecture,\n",
    "                                                                            #I used the formula to calculate backpropagation\n",
    "        self.weights_first = self.weights_first-np.array(                                 \n",
    "        [learning_rate*EI*self.weights_second*h*(np.ones(8)-h)*X_train.iloc[k][0],    #calculate using formula in class\n",
    "         learning_rate*EI*self.weights_second*h*(np.ones(8)-h)*X_train.iloc[k][1]]).T\n",
    "      self.loss.append(np.sum(ER)/num)   # put loss from every epoch. I used total mean \n",
    "    pass\n",
    "\n",
    "  def graph(self):\n",
    "    plt.plot(range(len(nn.loss)), nn.loss)  # simple graphing of loss by epochs\n",
    "    plt.title('loss graph by epoch')"
   ]
  },
  {
   "cell_type": "code",
   "execution_count": 203,
   "metadata": {
    "colab": {
     "base_uri": "https://localhost:8080/",
     "height": 281
    },
    "id": "GMW0OAetfBz4",
    "outputId": "605213b4-fdc9-4ee2-81b9-33e322d9a3ab"
   },
   "outputs": [
    {
     "data": {
      "image/png": "[encoded data removed]",
      "text/plain": [
       "<Figure size 432x288 with 1 Axes>"
      ]
     },
     "metadata": {
      "needs_background": "light"
     },
     "output_type": "display_data"
    }
   ],
   "source": [
    "nn = NN()\n",
    "nn.fit(X,y, epoch = 150)\n",
    "nn.graph()"
   ]
  },
  {
   "cell_type": "code",
   "execution_count": 204,
   "metadata": {
    "colab": {
     "base_uri": "https://localhost:8080/"
    },
    "id": "sD5LcxUgxecg",
    "outputId": "85f22954-2e00-4102-9812-5f70212fc7f1"
   },
   "outputs": [
    {
     "data": {
      "text/plain": [
       "[294.35201443969027,\n",
       " 289.9186671202942,\n",
       " 259.6798228110988,\n",
       " 109.66519610531041,\n",
       " 96.88398987526499,\n",
       " 96.32238798930955,\n",
       " 96.2744191823192,\n",
       " 96.24540657559106,\n",
       " 96.21098693994821,\n",
       " 96.16754953839816,\n",
       " 96.11097744364699,\n",
       " 96.03445337906568,\n",
       " 95.9257762345292,\n",
       " 95.76115764353412,\n",
       " 95.48861014794397,\n",
       " 94.97556797126296,\n",
       " 93.81366322850332,\n",
       " 90.1798421744165,\n",
       " 77.5723450146721,\n",
       " 69.07469963709312,\n",
       " 62.31148426917822,\n",
       " 56.41210553260237,\n",
       " 51.34828808813991,\n",
       " 47.039085711293865,\n",
       " 43.39196334860213,\n",
       " 40.314987980541446,\n",
       " 37.72074979537203,\n",
       " 35.52985498140146,\n",
       " 33.67383876194247,\n",
       " 32.09461113577993,\n",
       " 30.742067728881672,\n",
       " 29.57209086461857,\n",
       " 28.54425761736766,\n",
       " 27.61623704276836,\n",
       " 26.72825251862929,\n",
       " 25.78499715067335,\n",
       " 24.82075439247008,\n",
       " 24.046073673430875,\n",
       " 23.454208210621474,\n",
       " 22.973881884702152,\n",
       " 22.56454408200947,\n",
       " 22.207130837130883,\n",
       " 21.89112637014552,\n",
       " 21.609785324156878,\n",
       " 21.358355120388033,\n",
       " 21.133296537742204,\n",
       " 20.93186629962382,\n",
       " 20.75185515937973,\n",
       " 20.591410130665828,\n",
       " 20.44891240223146,\n",
       " 20.322896125268,\n",
       " 20.21199778682266,\n",
       " 20.11492779902686,\n",
       " 20.03045729520001,\n",
       " 19.9574144728171,\n",
       " 19.89468618882015,\n",
       " 19.841221783967356,\n",
       " 19.796037187492175,\n",
       " 19.758218183506678,\n",
       " 19.726922310413606,\n",
       " 19.701379250070996,\n",
       " 19.680889792550758,\n",
       " 19.66482358149522,\n",
       " 19.652615892628724,\n",
       " 19.643763702389336,\n",
       " 19.637821284397393,\n",
       " 19.63439554104009,\n",
       " 19.633141243272775,\n",
       " 19.633756317913583,\n",
       " 19.635977290301962,\n",
       " 19.639574962065588,\n",
       " 19.644350379173694,\n",
       " 19.650131124454116,\n",
       " 19.6567679512224,\n",
       " 19.664131760469026,\n",
       " 19.672110912991865,\n",
       " 19.680608859710684,\n",
       " 19.68954206783692,\n",
       " 19.698838217251293,\n",
       " 19.708434639950102,\n",
       " 19.71827697537072,\n",
       " 19.728318015395075,\n",
       " 19.738516714536438,\n",
       " 19.748837342933705,\n",
       " 19.75924876209875,\n",
       " 19.76972380570713,\n",
       " 19.780238749985546,\n",
       " 19.790772860345108,\n",
       " 19.801308002814263,\n",
       " 19.81182831050764,\n",
       " 19.822319896843293,\n",
       " 19.832770608487728,\n",
       " 19.843169812098374,\n",
       " 19.853508209856976,\n",
       " 19.86377767956479,\n",
       " 19.873971135733303,\n",
       " 19.884082408653658,\n",
       " 19.894106138893665,\n",
       " 19.904037685060423,\n",
       " 19.913873042994517,\n",
       " 19.923608774836463,\n",
       " 19.93324194663458,\n",
       " 19.942770073363768,\n",
       " 19.952191070381254,\n",
       " 19.961503210490797,\n",
       " 19.970705085899652,\n",
       " 19.979795574454833,\n",
       " 19.988773809627652,\n",
       " 19.997639153789265,\n",
       " 20.006391174380703,\n",
       " 20.01502962263251,\n",
       " 20.023554414535834,\n",
       " 20.03196561380416,\n",
       " 20.040263416597703,\n",
       " 20.048448137813068,\n",
       " 20.05652019876247,\n",
       " 20.064480116091197,\n",
       " 20.072328491798253,\n",
       " 20.080066004242504,\n",
       " 20.087693400028844,\n",
       " 20.095211486684896,\n",
       " 20.102621126043097,\n",
       " 20.1099232282592,\n",
       " 20.117118746401474,\n",
       " 20.124208671553426,\n",
       " 20.131194028379944,\n",
       " 20.138075871111646,\n",
       " 20.14485527990606,\n",
       " 20.151533357550612,\n",
       " 20.158111226474205,\n",
       " 20.16459002603898,\n",
       " 20.170970910085842,\n",
       " 20.177255044709963,\n",
       " 20.183443606246655,\n",
       " 20.189537779446162,\n",
       " 20.195538755822806,\n",
       " 20.201447732161434,\n",
       " 20.20726590916724,\n",
       " 20.212994490247198,\n",
       " 20.218634680410645,\n",
       " 20.224187685279166,\n",
       " 20.229654710196222,\n",
       " 20.235036959428342,\n",
       " 20.24033563544869,\n",
       " 20.24555193829783,\n",
       " 20.250687065013913,\n",
       " 20.255742209126787,\n",
       " 20.260718560211025,\n",
       " 20.26561730349201,\n",
       " 20.27043961950188]"
      ]
     },
     "execution_count": 204,
     "metadata": {},
     "output_type": "execute_result"
    }
   ],
   "source": [
    "nn.loss"
   ]
  },
  {
   "cell_type": "code",
   "execution_count": 205,
   "metadata": {
    "colab": {
     "base_uri": "https://localhost:8080/"
    },
    "id": "AuL7uMoy4r3c",
    "outputId": "f3a27486-d076-42ac-e3d6-a8b9b1f196cc"
   },
   "outputs": [
    {
     "data": {
      "text/plain": [
       "array([[ 0.4770206 ,  0.96544655],\n",
       "       [ 0.84558665,  0.3720941 ],\n",
       "       [-0.94496248,  1.65409671],\n",
       "       [ 0.47187954,  0.92188702],\n",
       "       [ 0.49619919, -0.70905012],\n",
       "       [ 0.73141416,  0.69387695],\n",
       "       [ 0.61937626,  0.74624063],\n",
       "       [ 0.25117582,  0.45760624]])"
      ]
     },
     "execution_count": 205,
     "metadata": {},
     "output_type": "execute_result"
    }
   ],
   "source": [
    "nn.weights_first"
   ]
  },
  {
   "cell_type": "code",
   "execution_count": 206,
   "metadata": {
    "colab": {
     "base_uri": "https://localhost:8080/"
    },
    "id": "Fw2P__7k40rq",
    "outputId": "1cf870c2-6d81-4f48-9663-93749802a86c"
   },
   "outputs": [
    {
     "data": {
      "text/plain": [
       "array([ 0.25650241, -0.33903975,  4.52098759, -0.584538  , -1.72412839,\n",
       "       -0.14699096,  0.08627182, -0.33408919])"
      ]
     },
     "execution_count": 206,
     "metadata": {},
     "output_type": "execute_result"
    }
   ],
   "source": [
    "nn.weights_second"
   ]
  },
  {
   "cell_type": "code",
   "execution_count": null,
   "metadata": {
    "id": "xOLPKPW642Al"
   },
   "outputs": [],
   "source": []
  }
 ],
 "metadata": {
  "colab": {
   "name": "Untitled8.ipynb",
   "provenance": []
  },
  "kernelspec": {
   "display_name": "Python 3 (ipykernel)",
   "language": "python",
   "name": "python3"
  },
  "language_info": {
   "codemirror_mode": {
    "name": "ipython",
    "version": 3
   },
   "file_extension": ".py",
   "mimetype": "text/x-python",
   "name": "python",
   "nbconvert_exporter": "python",
   "pygments_lexer": "ipython3",
   "version": "3.9.7"
  }
 },
 "nbformat": 4,
 "nbformat_minor": 4
}
