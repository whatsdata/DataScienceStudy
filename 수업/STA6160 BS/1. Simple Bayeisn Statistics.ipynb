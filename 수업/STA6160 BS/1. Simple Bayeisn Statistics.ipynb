{
  "nbformat": 4,
  "nbformat_minor": 0,
  "metadata": {
    "colab": {
      "name": "Bayes statistics HW1.ipynb",
      "provenance": [],
      "collapsed_sections": []
    },
    "kernelspec": {
      "name": "python3",
      "display_name": "Python 3"
    },
    "language_info": {
      "name": "python"
    }
  },
  "cells": [
    {
      "cell_type": "code",
      "metadata": {
        "id": "a4-r_yRc7Mt_"
      },
      "source": [
        "import numpy as np\n",
        "import pandas as pd\n",
        "import matplotlib.pyplot as plt\n",
        "import scipy as sp\n",
        "import statsmodels.api as sm\n",
        "import scipy.stats as stats"
      ],
      "execution_count": 157,
      "outputs": []
    },
    {
      "cell_type": "code",
      "metadata": {
        "id": "EnD3OUSw2skt"
      },
      "source": [
        "#1.9\n",
        "#To know how many patients come into, I will use a exponential distribution.\n",
        "\n",
        "def patients() : \n",
        "  t = [0]\n",
        "  time = []\n",
        "  i = 0\n",
        "  while np.sum(time) < 420 :  # 9AM - 9PM -> 420Minutes\n",
        "     k = np.random.exponential(10)\n",
        "     j = t[i]\n",
        "     t.append(k+j)\n",
        "     time.append(k)\n",
        "     i=i+1\n",
        "  del t[0]\n",
        "  return len(t), t"
      ],
      "execution_count": 158,
      "outputs": []
    },
    {
      "cell_type": "code",
      "metadata": {
        "id": "fXE5asTA5gVu"
      },
      "source": [
        "# need calculate others (how many had to wait for a doctor, what was their average wait, when did the office close?)\n",
        "def hospital():\n",
        "  number_waited = 0              # To indicate How many waited for\n",
        "  total_time_waiting = 0         # To calculate the total waiting time\n",
        "  doctors_time = [0,0,0]         # To ndicate the time three doctors come out\n",
        "  patient = patients()           # To calculate the number of patients\n",
        "  total_patients = patient[0]\n",
        "  time_patients = patient[1]\n",
        "  for i in np.arange(total_patients):\n",
        "    waiting = max((np.min(doctors_time)-time_patients[i]), 0)   # Waiting our is 0 or time until the doctor who began at first\n",
        "    total_time_waiting += waiting\n",
        "    if waiting >0:\n",
        "      number_waited += 1\n",
        "    diagnosis = max(np.min(doctors_time), time_patients[i])     # Diagnosis begin when the first doctor come out or Patient arrives\n",
        "    end_diagnosis = diagnosis + np.random.uniform(5,20)         # After start of diagnosis, It takes time according to uniform distribution\n",
        "    doctors_time[np.argmin(doctors_time)] = end_diagnosis\n",
        "  \n",
        "  if number_waited != 0:\n",
        "    average_time_waiting = total_time_waiting / number_waited\n",
        "  else:\n",
        "    average_time_waiting = 0\n",
        "  close = doctors_time[np.argmax(doctors_time)]\n",
        "  List = [total_patients, number_waited, average_time_waiting, close]\n",
        "  return List\n",
        "    \n",
        "    \n"
      ],
      "execution_count": 159,
      "outputs": []
    },
    {
      "cell_type": "code",
      "metadata": {
        "colab": {
          "base_uri": "https://localhost:8080/",
          "height": 0
        },
        "id": "cYdP2qrVDKTL",
        "outputId": "e04f7e82-12f3-4218-c5fb-6553fabe758e"
      },
      "source": [
        "#1.9(a) \n",
        "Hospital = hospital()\n",
        "print(\"How many patients came in:\", Hospital[0] )\n",
        "print(\"How many had to wait for a doctor:\", Hospital[1])\n",
        "print(\"Average waiting time of patients:\", Hospital[2])\n",
        "print(\"Hospital closing time:\", Hospital[3])"
      ],
      "execution_count": 160,
      "outputs": [
        {
          "output_type": "stream",
          "name": "stdout",
          "text": [
            "How many patients came in: 37\n",
            "How many had to wait for a doctor: 10\n",
            "Average waiting time of patients: 5.531156798260547\n",
            "Hospital closing time: 439.5450716194821\n"
          ]
        }
      ]
    },
    {
      "cell_type": "code",
      "metadata": {
        "id": "hi56BZBHHtOa"
      },
      "source": [
        "#1.9(b) Simulation function\n",
        "def simulation(n):\n",
        "  Patients = []\n",
        "  Waitings = []\n",
        "  Average = []\n",
        "  Closing = []\n",
        "  for i in np.arange(n):\n",
        "    h = hospital()\n",
        "    Patients.append(h[0])\n",
        "    Waitings.append(h[1])\n",
        "    Average.append(h[2])\n",
        "    Closing.append(h[3])\n",
        "  A = [np.quantile(Patients, 0.25),np.quantile(Patients, 0.5),np.quantile(Patients, 0.75) ] \n",
        "  B = [np.quantile(Waitings, 0.25),np.quantile(Waitings, 0.5),np.quantile(Waitings, 0.75) ] \n",
        "  C = [np.quantile(Average, 0.25),np.quantile(Average, 0.5),np.quantile(Average, 0.75) ] \n",
        "  D = [np.quantile(Closing, 0.25),np.quantile(Closing, 0.5),np.quantile(Closing, 0.75) ] \n",
        "  data = {'number of patients' : A,\n",
        "          'number of waitings' : B,\n",
        "          'average waiting time': C,\n",
        "          'closing time' : D}\n",
        "  frame = pd.DataFrame(data, index = ['1st', 'median' , '3rd'])\n",
        "  return frame\n"
      ],
      "execution_count": 161,
      "outputs": []
    },
    {
      "cell_type": "code",
      "metadata": {
        "colab": {
          "base_uri": "https://localhost:8080/",
          "height": 143
        },
        "id": "GE3x2IaLKlj0",
        "outputId": "f30d2a02-ea43-4e03-e242-558aca6e7849"
      },
      "source": [
        "#The result after 100 simulations\n",
        "S = simulation(100)\n",
        "S"
      ],
      "execution_count": 162,
      "outputs": [
        {
          "output_type": "execute_result",
          "data": {
            "text/html": [
              "<div>\n",
              "<style scoped>\n",
              "    .dataframe tbody tr th:only-of-type {\n",
              "        vertical-align: middle;\n",
              "    }\n",
              "\n",
              "    .dataframe tbody tr th {\n",
              "        vertical-align: top;\n",
              "    }\n",
              "\n",
              "    .dataframe thead th {\n",
              "        text-align: right;\n",
              "    }\n",
              "</style>\n",
              "<table border=\"1\" class=\"dataframe\">\n",
              "  <thead>\n",
              "    <tr style=\"text-align: right;\">\n",
              "      <th></th>\n",
              "      <th>number of patients</th>\n",
              "      <th>number of waitings</th>\n",
              "      <th>average waiting time</th>\n",
              "      <th>closing time</th>\n",
              "    </tr>\n",
              "  </thead>\n",
              "  <tbody>\n",
              "    <tr>\n",
              "      <th>1st</th>\n",
              "      <td>38.0</td>\n",
              "      <td>3.0</td>\n",
              "      <td>2.382001</td>\n",
              "      <td>435.195795</td>\n",
              "    </tr>\n",
              "    <tr>\n",
              "      <th>median</th>\n",
              "      <td>43.0</td>\n",
              "      <td>5.0</td>\n",
              "      <td>3.687468</td>\n",
              "      <td>439.151190</td>\n",
              "    </tr>\n",
              "    <tr>\n",
              "      <th>3rd</th>\n",
              "      <td>47.0</td>\n",
              "      <td>8.0</td>\n",
              "      <td>4.796535</td>\n",
              "      <td>448.336611</td>\n",
              "    </tr>\n",
              "  </tbody>\n",
              "</table>\n",
              "</div>"
            ],
            "text/plain": [
              "        number of patients  ...  closing time\n",
              "1st                   38.0  ...    435.195795\n",
              "median                43.0  ...    439.151190\n",
              "3rd                   47.0  ...    448.336611\n",
              "\n",
              "[3 rows x 4 columns]"
            ]
          },
          "metadata": {},
          "execution_count": 162
        }
      ]
    }
  ]
}