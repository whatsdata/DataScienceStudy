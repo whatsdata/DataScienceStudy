{
  "nbformat": 4,
  "nbformat_minor": 0,
  "metadata": {
    "colab": {
      "name": "HW2.ipynb",
      "provenance": [],
      "collapsed_sections": []
    },
    "kernelspec": {
      "name": "python3",
      "display_name": "Python 3"
    },
    "language_info": {
      "name": "python"
    }
  },
  "cells": [
    {
      "cell_type": "markdown",
      "metadata": {
        "id": "NrAUTQmXrDew"
      },
      "source": [
        "HW2 - INSIK CHO\n",
        "\n",
        "\n",
        "1. Chapter2: Exercise 1-5, 7- 13, 16, 17, 20\n",
        "\n",
        "2. (Ex) Probability of a girl birth given placenta previa\n",
        "\n",
        "3. Illustrate the effect of prior in binomial model\n",
        "\n",
        "4. Jefferey's prior for binomial distrubution"
      ]
    },
    {
      "cell_type": "code",
      "metadata": {
        "id": "MNu1h67lum2D"
      },
      "source": [
        "import matplotlib.pyplot as plt\n",
        "import numpy as np\n",
        "import pandas as pd \n",
        "import scipy.stats as sps\n",
        "import sympy\n",
        "from IPython.display import Image\n",
        "from scipy.stats import cauchy\n",
        "from scipy.stats import gamma\n",
        "import math"
      ],
      "execution_count": null,
      "outputs": []
    },
    {
      "cell_type": "markdown",
      "metadata": {
        "id": "DQoIi9Z7rGTg"
      },
      "source": [
        "#Exercise 1. \n",
        "\n",
        "Prior distribution for $\\theta$ is given as $Beta(4,4)$. Therefore, $p(\\theta)$ $\\propto \\theta^3  (1-\\theta)^3 $\n",
        "\n",
        "Also, the probability of head coming at least two times equals,\n",
        "$p(event|\\theta) =p(H=0|\\theta) + p(H=1|\\theta) + p(H=2|\\theta)\n",
        "                 = (1-\\theta)^{10} +10 \\theta (1-\\theta)^9 + 45\\theta^2( 1-\\theta)^8 $\n",
        "\n",
        "Finally, posterior is \n",
        "$p(\\theta) p(event|theta) \\propto \\theta^3 (1-\\theta)^{13} + 10 \\theta^4 (1 - \\theta)^{12} + 45 \\theta^5 (1-\\theta)^{11} $\n",
        "\n",
        "Scatching the graph,"
      ]
    },
    {
      "cell_type": "code",
      "metadata": {
        "colab": {
          "base_uri": "https://localhost:8080/",
          "height": 284
        },
        "id": "EHkRMTGzr-FF",
        "outputId": "144f9467-9dd3-49c4-b474-58a48880a17d"
      },
      "source": [
        "x = np.arange(0,1,0.01)\n",
        "y = (x**3)*((1-x)**13) + 10*(x**4)*((1-x)**12) +45*(x**5)*((1-x)**11)\n",
        "plt.plot(x,y)"
      ],
      "execution_count": null,
      "outputs": [
        {
          "output_type": "execute_result",
          "data": {
            "text/plain": [
              "[<matplotlib.lines.Line2D at 0x7fbdb5ecfe90>]"
            ]
          },
          "metadata": {},
          "execution_count": 4
        },
        {
          "output_type": "display_data",
          "data": {
            "image/png": "[encoded data removed]",
            "text/plain": [
              "<Figure size 432x288 with 1 Axes>"
            ]
          },
          "metadata": {
            "needs_background": "light"
          }
        }
      ]
    },
    {
      "cell_type": "markdown",
      "metadata": {
        "id": "sYiuH3aUvlIO"
      },
      "source": [
        "#Exercise 2.\n",
        "\n",
        "The probability that N more tosses are needed is \n",
        "$p(N|\\theta) = (1-\\theta)^{N-1}  \\theta$\n",
        "\n",
        "The above pdf is pdf of $Beta(2,N)$ * $B(2,N)$\n",
        "\n",
        "If we calulate the expectation, \n",
        "\n",
        "$E[N|\\theta]  =  \\theta + 2(1-\\theta)\\theta +3(1-\\theta)^3\\theta + ... \\\\ \n",
        "\\quad \\quad \\quad =\\theta+ \\theta (1-\\theta) + \\theta(1-\\theta)^2 + \\theta(1-\\theta)^3 + ...\\\\ \\quad \\quad \\quad =  \\theta (1-\\theta) + \\theta(1-\\theta)^2 + \\theta(1-\\theta)^3 + ... \\\\ \\quad \\quad \\quad =  + \\theta(1-\\theta)^2 + \\theta(1-\\theta)^3 + ... = \\frac{1}{\\theta}$\n",
        "\n",
        "Also, $p(0.4|first Tail \\,\\,Second Tail) = \\frac{0.6^2}{0.4^2+ 0.6^2} = \\frac{36}{52} $by bayes theorem\n",
        "\n",
        "In same way, $p(0.6|first Tail \\,\\,Second Tail) = \\frac{16}{52}$\n",
        "\n",
        "Finally, $E[N] = E[N|\\theta=0.4] p[\\theta=0.4] + E[N|\\theta=0.6] p[\\theta=0.6] = 2.24 $\n",
        "\n",
        "          \n",
        "\n",
        "\n",
        "                     \n",
        "            "
      ]
    },
    {
      "cell_type": "markdown",
      "metadata": {
        "id": "dOK6AhZS3Gru"
      },
      "source": [
        "#  Exercise 3.\n",
        "\n",
        "(1)\n",
        "\n",
        "1000 tosses, and the probabilty to get 6 follows binomial with p = 1/6. Therefore,\n",
        "$y \\sim \\, Bin(1000,\\frac{1}{6})$, If y is the number of 6 coming \n",
        "\n",
        "Because y follows binomial, $E[y] = 1000 * 1/6 = 166, sd[y] =  \\sqrt{1000*1/6*5/6} \\sim 12 $\n",
        "\n",
        "If I draw Normal distibution followin  above expectation and standard deviation, "
      ]
    },
    {
      "cell_type": "code",
      "metadata": {
        "colab": {
          "base_uri": "https://localhost:8080/",
          "height": 284
        },
        "id": "Yoiig1x2xTOr",
        "outputId": "8e602f3e-8b47-4aaa-9f3e-d5c9d09cd252"
      },
      "source": [
        "mu =166; sigma = 12\n",
        "dist = sps.norm(loc=mu, scale=sigma)\n",
        "x = np.linspace(dist.ppf(.001), dist.ppf(.999))\n",
        "y = dist.pdf(x)\n",
        "plt.plot(x,y)"
      ],
      "execution_count": null,
      "outputs": [
        {
          "output_type": "execute_result",
          "data": {
            "text/plain": [
              "[<matplotlib.lines.Line2D at 0x7fbda77fbc90>]"
            ]
          },
          "metadata": {},
          "execution_count": 13
        },
        {
          "output_type": "display_data",
          "data": {
            "image/png": "[encoded data removed]",
            "text/plain": [
              "<Figure size 432x288 with 1 Axes>"
            ]
          },
          "metadata": {
            "needs_background": "light"
          }
        }
      ]
    },
    {
      "cell_type": "markdown",
      "metadata": {
        "id": "IJiPmrlZ5wDK"
      },
      "source": [
        "(2) "
      ]
    },
    {
      "cell_type": "code",
      "metadata": {
        "colab": {
          "base_uri": "https://localhost:8080/"
        },
        "id": "GXZiizcR5kqn",
        "outputId": "1c5477fe-7f50-4d45-d33c-0c3ff0726ab1"
      },
      "source": [
        "ppfs = {}\n",
        "for ppf in [.05, .25, .5, .75, .95]:\n",
        "    p = dist.ppf(ppf)\n",
        "    ppfs.update({ppf*100: p})\n",
        "\n",
        "print(ppfs)"
      ],
      "execution_count": null,
      "outputs": [
        {
          "output_type": "stream",
          "name": "stdout",
          "text": [
            "{5.0: 146.26175647658232, 25.0: 157.90612299764703, 50.0: 166.0, 75.0: 174.09387700235297, 95.0: 185.73824352341768}\n"
          ]
        }
      ]
    },
    {
      "cell_type": "markdown",
      "metadata": {
        "id": "D1ZGdH6-6TEg"
      },
      "source": [
        "#Exercise 4\n",
        "\n",
        "By the information from question,\n",
        "\n",
        "$y|\\theta  \\sim  Bin(1000, \\theta) -> N(1000*\\theta, 1000*\\theta*(1-\\theta))$\n",
        "\n",
        "Using above, calculate prior predictive:\n",
        "\n",
        "$p(y) = p(\\theta_1) p(y|\\theta_1) + .. + p(\\theta_3) p(y|\\theta_3)$ \n",
        "\n",
        "Indicate the above as graph : "
      ]
    },
    {
      "cell_type": "code",
      "metadata": {
        "colab": {
          "base_uri": "https://localhost:8080/",
          "height": 287
        },
        "id": "NUyht9Ej8F79",
        "outputId": "c2664837-ed16-4a56-ad53-ae65fdc137b8"
      },
      "source": [
        "theta1 = 1/12; theta2 = 1/6 ; theta3 = 1/4 \n",
        "mu1 = 1000*theta1 ; mu2 = 1000*theta2 ; mu3 = 1000*theta3\n",
        "sigma1 = np.sqrt(1000*theta1*(1-theta1)); sigma2 = np.sqrt(1000*theta2*(1-theta2)) ; sigma3= np.sqrt(1000*theta3*(1-theta3))\n",
        "\n",
        "dist1 = (1 / np.sqrt(2 * np.pi * sigma1**2)) * np.exp(-(x-mu1)**2 / (2 * sigma1**2));\n",
        "dist2 = (1 / np.sqrt(2 * np.pi * sigma2**2)) * np.exp(-(x-mu2)**2 / (2 * sigma2**2));\n",
        "dist3 = (1 / np.sqrt(2 * np.pi * sigma3**2)) * np.exp(-(x-mu3)**2 / (2 * sigma3**2))\n",
        "dist = 1/4 * dist1 + 1/2 * dist2 + 1/4 * dist3 \n",
        "\n",
        "x = np.linspace(50, 300)\n",
        "y = dist\n",
        "plt.plot(x,y)"
      ],
      "execution_count": null,
      "outputs": [
        {
          "output_type": "execute_result",
          "data": {
            "text/plain": [
              "[<matplotlib.lines.Line2D at 0x7fbda7603510>]"
            ]
          },
          "metadata": {},
          "execution_count": 20
        },
        {
          "output_type": "display_data",
          "data": {
            "image/png": "[encoded data removed]",
            "text/plain": [
              "<Figure size 432x288 with 1 Axes>"
            ]
          },
          "metadata": {
            "needs_background": "light"
          }
        }
      ]
    },
    {
      "cell_type": "markdown",
      "metadata": {
        "id": "sGxbtydw_Vk4"
      },
      "source": [
        "# Exercise8\n",
        "(a)\n",
        "By given condition in question, \n",
        "\n",
        "Likelihood : $ p(y|\\theta) ~\\sim normal(\\theta, 20^2 ) $  \n",
        "\n",
        "Prior : $ p(\\theta) \\sim norm(180,40^2 ) $\n",
        "\n",
        "from our learning in class,\n",
        "\n",
        "With normal prior and normal likelihood, posterior follows,\n",
        "\n",
        "$ p(\\theta |y) \\sim nomral(\\mu_n , \\tau_n ^2 )  $\n",
        "\n",
        "where $ \\mu_n = \\frac{\\frac{1}{\\tau_0 ^2} \\mu_0 + \\frac{n}{\\sigma^2} \\overline{y}}{\\frac{1}{\\tau_0^2} + \\frac{n}{\\sigma^2 }}   $ and $ \\frac{1}{\\tau_1 ^2} = \\frac{1}{\\tau_0 ^2} + \\frac{1}{\\sigma^2} $,\n",
        "\n",
        " $\\tau_0$ = sd of prior, $\\sigma$ = sd of likelihood\n",
        "\n",
        " If we implement the figurs in problem, $\\mu_n = \\frac{\\frac{180}{40 ^2}  + \\frac{n}{20^2} 150}{\\frac{1}{40^2} + \\frac{n}{20^2 }}$ , $\\tau_n^2 = \\frac{1}{\\frac{1}{40^2} + \\frac{n}{20^2 }}$\n",
        "\n",
        " (b)\n",
        " $p(\\tilde{y}|y) \\sim nomral(\\mu_n , 20^2 +\\tau_n^2)$"
      ]
    },
    {
      "cell_type": "code",
      "metadata": {
        "id": "Xwo2EGSiEQuh"
      },
      "source": [
        "#(c)\n",
        "n = 10 \n",
        "tau0 = 40\n",
        "sigma= 20\n",
        "mu0 = 180\n",
        "bary = 150\n",
        "\n",
        "mu = ((mu0/(tau0**2))+ (bary*n)/(sigma**2)) / ((1/(tau0**2))+(n/(sigma**2)))\n",
        "tau = np.sqrt(1/ ((1/(tau0**2))+(n/(sigma**2))))\n",
        "dist = sps.norm(loc=mu, scale=tau)\n",
        "dist2 = sps.norm(loc = mu, scale = np.sqrt(sigma**2 + tau**2))"
      ],
      "execution_count": null,
      "outputs": []
    },
    {
      "cell_type": "code",
      "metadata": {
        "colab": {
          "base_uri": "https://localhost:8080/"
        },
        "id": "fY4J3dLkG5a3",
        "outputId": "bf909dee-bd95-4159-baab-bde25b635530"
      },
      "source": [
        "print('95% CI for porterior : [' , dist.ppf(0.025),',', dist.ppf(0.975), ']')\n",
        "print('95% CI for predictive: [' , dist2.ppf(0.025),',', dist2.ppf(0.975), ']')"
      ],
      "execution_count": null,
      "outputs": [
        {
          "output_type": "stream",
          "name": "stdout",
          "text": [
            "95% CI for porterior : [ 138.48790937180107 , 162.97550526234522 ]\n",
            "95% CI for predictive: [ 109.66476055447222 , 191.7986540796741 ]\n"
          ]
        }
      ]
    },
    {
      "cell_type": "code",
      "metadata": {
        "colab": {
          "base_uri": "https://localhost:8080/"
        },
        "id": "nDa8r7eLHf7m",
        "outputId": "d9f3ca99-af22-4f84-c74e-9db4c7b26a91"
      },
      "source": [
        "#(d)\n",
        "n=100\n",
        "mu = ((mu0/(tau0**2))+ (bary*n)/(sigma**2)) / ((1/(tau0**2))+(n/(sigma**2)))\n",
        "tau = np.sqrt(1/ ((1/(tau0**2))+(n/(sigma**2))))\n",
        "dist = sps.norm(loc=mu, scale=tau)\n",
        "dist2 = sps.norm(loc = mu, scale = np.sqrt(sigma**2 + tau**2))\n",
        "\n",
        "print('95% CI for porterior : [' , dist.ppf(0.025),',', dist.ppf(0.975), ']')\n",
        "print('95% CI for predictive: [' , dist2.ppf(0.025),',', dist2.ppf(0.975), ']')"
      ],
      "execution_count": null,
      "outputs": [
        {
          "output_type": "stream",
          "name": "stdout",
          "text": [
            "95% CI for porterior : [ 146.1597757402296 , 153.98985019493247 ]\n",
            "95% CI for predictive: [ 110.68051078098051 , 189.46911515418157 ]\n"
          ]
        }
      ]
    },
    {
      "cell_type": "markdown",
      "metadata": {
        "id": "lLZzkXqGIQYF"
      },
      "source": [
        "#Exercise 9\n",
        "(a)\n",
        "by property of beta distribution,\n",
        "\n",
        "$E[\\theta] = \\frac{\\alpha}{\\alpha + \\beta}$ = 0.6\n",
        "\n",
        "$var[\\theta] = \\frac{\\alpha \\beta}{(\\alpha + \\beta)^2 (\\alpha +\\beta +1)}$ =0.09\n",
        "\n",
        "If we calculate two equations above, we can get $ \\alpha=1 , \\beta = \\frac{2}{3}$\n"
      ]
    },
    {
      "cell_type": "code",
      "metadata": {
        "colab": {
          "base_uri": "https://localhost:8080/",
          "height": 283
        },
        "id": "SkYCM78KIHQb",
        "outputId": "3c057253-e270-4ca0-fdcc-b566a756f2df"
      },
      "source": [
        "alpha = 1; beta = 2/3;\n",
        "dist = sps.beta(a=alpha, b=beta)\n",
        "x = np.linspace(dist.ppf(.001), dist.ppf(.999))\n",
        "y = dist.pdf(x)\n",
        "plt.plot(x,y)"
      ],
      "execution_count": null,
      "outputs": [
        {
          "output_type": "execute_result",
          "data": {
            "text/plain": [
              "[<matplotlib.lines.Line2D at 0x7f2a0da83ed0>]"
            ]
          },
          "metadata": {},
          "execution_count": 3
        },
        {
          "output_type": "display_data",
          "data": {
            "image/png": "[encoded data removed]",
            "text/plain": [
              "<Figure size 432x288 with 1 Axes>"
            ]
          },
          "metadata": {
            "needs_background": "light"
          }
        }
      ]
    },
    {
      "cell_type": "markdown",
      "metadata": {
        "id": "0Gu3GstUiMCp"
      },
      "source": [
        "(b)\n",
        "Likelihood is binomial with $n=1000, y=650$\n",
        "\n",
        "Therefore, with beta prior and binomial likelihood, posterior follows\n",
        "\n",
        "$p(\\theta | y) \\sim beta(1+650, 2/3 + 350)$\n",
        "\n",
        "The, posterior mean is $\\frac{1+650}{1+2/3+650+350} = $0.645\n",
        "\n",
        "posterior variance is $\\frac{(1+650)(2/3+350)}{(1+2/3+650+350)^2 (1+2/3+650+350+1)}$ = 0.000227"
      ]
    },
    {
      "cell_type": "code",
      "metadata": {
        "colab": {
          "base_uri": "https://localhost:8080/",
          "height": 283
        },
        "id": "-PzAq8tAhpiN",
        "outputId": "9c24b766-855e-4162-b74d-c9697fd9e1c6"
      },
      "source": [
        "alpha = (1+650); beta = (2/3+350);\n",
        "dist = sps.beta(a=alpha, b=beta)\n",
        "x = np.linspace(dist.ppf(.001), dist.ppf(.999))\n",
        "y = dist.pdf(x)\n",
        "plt.plot(x,y)"
      ],
      "execution_count": null,
      "outputs": [
        {
          "output_type": "execute_result",
          "data": {
            "text/plain": [
              "[<matplotlib.lines.Line2D at 0x7f2a0d5860d0>]"
            ]
          },
          "metadata": {},
          "execution_count": 6
        },
        {
          "output_type": "display_data",
          "data": {
            "image/png": "[encoded data removed]",
            "text/plain": [
              "<Figure size 432x288 with 1 Axes>"
            ]
          },
          "metadata": {
            "needs_background": "light"
          }
        }
      ]
    },
    {
      "cell_type": "markdown",
      "metadata": {
        "id": "04h27kNAmbBj"
      },
      "source": [
        "(c)\n",
        "\n",
        "Posterior mean and variance can be indicated as below\n",
        "\n",
        "Poesterior mean : $\\frac{\\alpha}{\\alpha + \\beta} \\frac{\\alpha + \\beta}{\\alpha + \\beta +n } + \\frac{y}{n} \\frac{n}{\\alpha + \\beta +n}$\n",
        "\n",
        "Posterior variance : $ \\frac{\\alpha+y}{\\alpha + \\beta+n} \\frac{\\beta+n-y}{\\alpha + \\beta+n } \\frac{1}{\\alpha +\\beta +n+1}$\n",
        "\n",
        "1. the size of $\\alpha + \\beta$\n",
        "Posterior variance\n",
        "\n",
        "If one multiply the size of $\\alpha + \\beta$ with same proportion of $\\alpha, \\beta$, like $k \\alpha, k\\beta$, one can find that the posterior mean approaches to prior mean, posterior variance goes to 0. \n",
        "\n",
        "\n",
        "The below graphs indicate the prior with $(\\alpha, \\beta) = (1,1), (10,10), (100,100)$"
      ]
    },
    {
      "cell_type": "code",
      "metadata": {
        "colab": {
          "base_uri": "https://localhost:8080/",
          "height": 265
        },
        "id": "uKrFoDu3is9B",
        "outputId": "026ffb08-b83b-4c54-c217-e071a2343d30"
      },
      "source": [
        "r = [1,10,100]\n",
        "\n",
        "for i in r:\n",
        "  alpha = (i+650); beta = (i +350)\n",
        "  dist = sps.beta(a=alpha, b=beta)\n",
        "  x = np.linspace(dist.ppf(.001), dist.ppf(.999))\n",
        "  y = dist.pdf(x)\n",
        "  plt.plot(x,y, label = f'alpha, beta= {i}')\n",
        "  plt.legend()"
      ],
      "execution_count": null,
      "outputs": [
        {
          "output_type": "display_data",
          "data": {
            "image/png": "[encoded data removed]",
            "text/plain": [
              "<Figure size 432x288 with 1 Axes>"
            ]
          },
          "metadata": {
            "needs_background": "light"
          }
        }
      ]
    },
    {
      "cell_type": "markdown",
      "metadata": {
        "id": "XOmoqZH0qEZH"
      },
      "source": [
        "2. relative size of $\\alpha $ and $\\beta$\n",
        "\n",
        "suppose $ \\alpha + \\beta$ is fixed and relative proportion of $\\alpha$ and $\\beta$ changes, indicated by $k \\alpha$ with $\\beta$ fixed. \n",
        "\n",
        "Poesterior mean : $\\frac{k \\alpha}{\\alpha + \\beta} \\frac{\\alpha + \\beta}{\\alpha + \\beta +n } + \\frac{y}{n} \\frac{n}{\\alpha + \\beta +n}$\n",
        "\n",
        "as $\\alpha$ is lareger, posterior mean approaches to $\\frac{1+y}{1+n}$, from $\\frac{y}{\\alpha + \\beta + n}$, whith means that posterior mean is affected less as alpha is being larger\n",
        "\n",
        "The below graphs are for $\\alpha + \\beta = 100$ and $\\alpha = 1,10,99$"
      ]
    },
    {
      "cell_type": "code",
      "metadata": {
        "colab": {
          "base_uri": "https://localhost:8080/",
          "height": 265
        },
        "id": "p7PyxHlfpSMs",
        "outputId": "d4d7c035-51bb-4689-c415-957a0df4f39d"
      },
      "source": [
        "r = [ 1, 10, 99]\n",
        "\n",
        "for i in r:\n",
        "  alpha = (i+650); beta = (100-i +350)\n",
        "  dist = sps.beta(a=alpha, b=beta)\n",
        "  x = np.linspace(dist.ppf(.001), dist.ppf(.999))\n",
        "  y = dist.pdf(x)\n",
        "  plt.plot(x,y, label = f'alpha = {i}')\n",
        "  plt.legend()"
      ],
      "execution_count": null,
      "outputs": [
        {
          "output_type": "display_data",
          "data": {
            "image/png": "[encoded data removed]",
            "text/plain": [
              "<Figure size 432x288 with 1 Axes>"
            ]
          },
          "metadata": {
            "needs_background": "light"
          }
        }
      ]
    },
    {
      "cell_type": "markdown",
      "metadata": {
        "id": "VR0nuCfiitew"
      },
      "source": [
        "#Exercise 10\n",
        "\n",
        "Likelihood can be defiend such as\n",
        "\n",
        "$p(203|N) = 1/N $ if $N \\geq 203$\n",
        "\n",
        "$ \\quad\\quad\\quad\\quad=0$ if $N \\leq 203$\n",
        "\n",
        "\n",
        "Then, posterior is\n",
        "\n",
        "$p(N|203) \\propto p(203|N) p(N) \\\\ \\quad\\quad\n",
        "\\quad\\quad \\propto  \\frac{1}{N} \\frac{1}{100} (\\frac{99}{100})^{N-1}\\\\\n",
        "\\quad\\quad\\quad\\quad \\propto \\frac{1}{N}(\\frac{99}{100})^{N} , \\quad for \\; N \\geq 203$\n",
        "\n",
        "\n",
        "The above one is unnormalized, so we have to normalize to be a distribtuion \n"
      ]
    },
    {
      "cell_type": "code",
      "metadata": {
        "colab": {
          "base_uri": "https://localhost:8080/"
        },
        "id": "BxgN3dzgrObb",
        "outputId": "7b6fe6de-fa50-4777-837d-349297001f52"
      },
      "source": [
        "#for normalization \n",
        "n=203; sum = 0 ;\n",
        "while (1/n)*((99/100)**n) >0.0:\n",
        "  sum =sum + (1/n)*((99/100)**n)\n",
        "  n= n+1\n",
        "print('total sum: ', sum)"
      ],
      "execution_count": null,
      "outputs": [
        {
          "output_type": "stream",
          "name": "stdout",
          "text": [
            "total sum:  0.046580328231386164\n"
          ]
        }
      ]
    },
    {
      "cell_type": "markdown",
      "metadata": {
        "id": "IYFUxQizD9ts"
      },
      "source": [
        "Therefore, normalizing term is $\\frac{1}{0.046580328231386164}$ = 21.47\n",
        "\n",
        "Posterior dist. : $p(N|203) = \\frac{21.47}{N} (\\frac{99}{100})^N, $ for $N \\geq 203$"
      ]
    },
    {
      "cell_type": "markdown",
      "metadata": {
        "id": "uHSDu9OoEwXQ"
      },
      "source": [
        "(b)\n",
        "$E(N|203) = \\sum_{203}^{ \\infty } 21.47(0.99)^N = 21.47 (\\frac{0.99^{203}}{1-0.99}) \\sim 279.111 $\n",
        "\n",
        "$var(N|203) = \\sum_{203}^{\\infty} (N-279.11)^2 (21.47 \\frac{0.99^N}{N} )$\n",
        "\n",
        "Calculation by python:"
      ]
    },
    {
      "cell_type": "code",
      "metadata": {
        "colab": {
          "base_uri": "https://localhost:8080/"
        },
        "id": "-VyN36__EE9u",
        "outputId": "74bc1479-dbcc-4bac-bba9-c36bce993704"
      },
      "source": [
        "n=203; sum = 0 ;\n",
        "while (1/n)*((99/100)**n) >0.0:\n",
        "  sum =sum + (1/n)*((99/100)**n)*21.47 * ((n-279.11)**2)\n",
        "  n= n+1\n",
        "print('standard deviation: ', np.sqrt(sum))"
      ],
      "execution_count": null,
      "outputs": [
        {
          "output_type": "stream",
          "name": "stdout",
          "text": [
            "standard deviation:  79.96776270212132\n"
          ]
        }
      ]
    },
    {
      "cell_type": "markdown",
      "metadata": {
        "id": "NTQhRPa9GaoC"
      },
      "source": [
        "#Exercise 11\n",
        "with given information,\n",
        "\n",
        "Prior: $p(\\theta) = \\frac{1}{100} I_{(0,100)} $\n",
        "\n",
        "Likelihood: $p(\\mathcal{D} |\\theta) = \\Pi_{i=1}^{n} \\frac{1}{1+(y_i -\\theta)^2}$\n",
        "\n",
        "Posterior: $p(\\theta) p(\\mathcal{D}|\\theta) =\\frac{1}{100} I_{(0,100)} \\Pi_{i=1}^{n} \\frac{1}{1+(y_i -\\theta)^2}$"
      ]
    },
    {
      "cell_type": "code",
      "metadata": {
        "colab": {
          "base_uri": "https://localhost:8080/",
          "height": 299
        },
        "id": "R1JhaWfhF8rT",
        "outputId": "0bd90b8c-508e-48bc-a682-eedd100b0fa4"
      },
      "source": [
        "y = np.array([43,44,45,46.5,47.5])\n",
        "m = 1000\n",
        "theta = np.linspace(0,100,m+1)\n",
        "unpost=  []\n",
        "for i in range(0,len(theta)):\n",
        "  unpost.append(1/100 * np.prod(1/((theta[i]-y)**2+1)))\n",
        "\n",
        "plt.subplot(121)\n",
        "plt.plot(theta,unpost)\n",
        "plt.title('Unnormalized posterior')\n",
        "\n",
        "plt.subplot(122)\n",
        "plt.plot(theta[400:500],unpost[400:500])\n",
        "plt.title('Unnormalized posterior, enlarged')"
      ],
      "execution_count": null,
      "outputs": [
        {
          "output_type": "execute_result",
          "data": {
            "text/plain": [
              "Text(0.5, 1.0, 'Unnormalized posterior, enlarged')"
            ]
          },
          "metadata": {},
          "execution_count": 3
        },
        {
          "output_type": "display_data",
          "data": {
            "image/png": "[encoded data removed]",
            "text/plain": [
              "<Figure size 432x288 with 2 Axes>"
            ]
          },
          "metadata": {
            "needs_background": "light"
          }
        }
      ]
    },
    {
      "cell_type": "code",
      "metadata": {
        "colab": {
          "base_uri": "https://localhost:8080/",
          "height": 409
        },
        "id": "IzBpOjDZvo5R",
        "outputId": "33570616-e04d-4848-cb3a-90f976ce492f"
      },
      "source": [
        "#(b) 1000개를 추출하고, 이로부터 histogram을 그리면,\n",
        "thetas = np.random.choice(theta,size=1000, p=unpost/np.sum(unpost))\n",
        "plt.hist(thetas, bins=20,density = True)"
      ],
      "execution_count": null,
      "outputs": [
        {
          "output_type": "execute_result",
          "data": {
            "text/plain": [
              "(array([0.01428571, 0.025     , 0.06428571, 0.07857143, 0.125     ,\n",
              "        0.26071429, 0.38571429, 0.42857143, 0.46071429, 0.28571429,\n",
              "        0.35357143, 0.325     , 0.23214286, 0.2       , 0.1       ,\n",
              "        0.1       , 0.075     , 0.04285714, 0.00357143, 0.01071429]),\n",
              " array([42.5 , 42.78, 43.06, 43.34, 43.62, 43.9 , 44.18, 44.46, 44.74,\n",
              "        45.02, 45.3 , 45.58, 45.86, 46.14, 46.42, 46.7 , 46.98, 47.26,\n",
              "        47.54, 47.82, 48.1 ]),\n",
              " <a list of 20 Patch objects>)"
            ]
          },
          "metadata": {},
          "execution_count": 4
        },
        {
          "output_type": "display_data",
          "data": {
            "image/png": "[encoded data removed]",
            "text/plain": [
              "<Figure size 432x288 with 1 Axes>"
            ]
          },
          "metadata": {
            "needs_background": "light"
          }
        }
      ]
    },
    {
      "cell_type": "markdown",
      "metadata": {
        "id": "b7KuFyDp3MZl"
      },
      "source": [
        "(c)\n",
        "for each sampled in (b), one can get post.pred. by cauchy(theta,1)"
      ]
    },
    {
      "cell_type": "code",
      "metadata": {
        "colab": {
          "base_uri": "https://localhost:8080/",
          "height": 283
        },
        "id": "oeVAcC0-0nY6",
        "outputId": "95b4df1a-f570-401a-e63c-a9d38eb6aa67"
      },
      "source": [
        "r=[]\n",
        "for i in range(0,len(thetas)):\n",
        "  r.append(cauchy.rvs(size=1, loc = thetas[i],scale=1 ))\n",
        "r = np.array(r)\n",
        "plt.hist(r, bins=1000,density = True)\n",
        "plt.xlim([20,80])\n"
      ],
      "execution_count": null,
      "outputs": [
        {
          "output_type": "execute_result",
          "data": {
            "text/plain": [
              "(20.0, 80.0)"
            ]
          },
          "metadata": {},
          "execution_count": 7
        },
        {
          "output_type": "display_data",
          "data": {
            "image/png": "[encoded data removed]",
            "text/plain": [
              "<Figure size 432x288 with 1 Axes>"
            ]
          },
          "metadata": {
            "needs_background": "light"
          }
        }
      ]
    },
    {
      "cell_type": "markdown",
      "metadata": {
        "id": "HwIIPG3H7ojM"
      },
      "source": [
        "#Excercise 12"
      ]
    },
    {
      "cell_type": "markdown",
      "metadata": {
        "id": "rXKvoZ69_buH"
      },
      "source": [
        "#Exercise 13\n",
        "\n",
        "The model is gamma-poisson. There fore, distributions follow \n",
        "\n",
        "Prior : $p(\\theta) \\sim gamma(a,b)$\n",
        "\n",
        "Likelihood: $p(\\mathcal(D) = \\prod_{i=1}^n \\frac{\\theta^y_i e^{\\theta}}{y_i!}$\n",
        "\n",
        "Posterior: $p(\\theta\\mathcal(D) \\sim gamma(a+n \\bar{y}, b+n)$\n",
        "\n",
        "from the data, $n$ = 10 and $\\bar{y} $=23.8\n",
        "\n",
        "If we assume improper prior , posterior follows $gamma(238,10)$ \n",
        "\n",
        "I will find the 95% CI for predictive by simulation."
      ]
    },
    {
      "cell_type": "code",
      "metadata": {
        "id": "MfK_Ke_n5mLY",
        "colab": {
          "base_uri": "https://localhost:8080/"
        },
        "outputId": "30cd275e-fa56-4b43-9147-5dcb6767386d"
      },
      "source": [
        "#data\n",
        "y = np.array([24,25,31,31,22,21,26,20,16,22])\n",
        "n=len(y); ybar = np.mean(y)\n",
        "#posterior\n",
        "r=[]\n",
        "for i in range(1000):\n",
        "  r.append(gamma.rvs(size=1, a=(n*ybar),scale=1/n ))\n",
        "#predictive\n",
        "s=[]\n",
        "for i in range(len(r)):  \n",
        "  s.append(sps.poisson.rvs(size=1,mu=r[i] ))\n",
        "print('95% CI : [', np.percentile(s,2.5) ,',', np.percentile(s,97.5), ']')"
      ],
      "execution_count": null,
      "outputs": [
        {
          "output_type": "stream",
          "name": "stdout",
          "text": [
            "95% CI : [ 14.0 , 34.0 ]\n"
          ]
        }
      ]
    },
    {
      "cell_type": "markdown",
      "metadata": {
        "id": "z9suSCghAsXC"
      },
      "source": [
        "(b)\n",
        "Likelihood changes to : $p(\\mathcal{D}| \\theta) = \\prod_{i=1}^n pois(\\theta x_i)$\n",
        "\n",
        "Therefore, posterior is now: $p(\\theta\\mathcal(D) \\sim gamma(a+n \\bar{y}, b+n \\bar{x})$\n",
        "\n",
        "From the data, one can get x like"
      ]
    },
    {
      "cell_type": "code",
      "metadata": {
        "colab": {
          "base_uri": "https://localhost:8080/"
        },
        "id": "47Pn2YXXARdU",
        "outputId": "0c087886-9938-456f-e60a-e1da2d55bafa"
      },
      "source": [
        "x1 = np.array([734,516,754,877,814,362,764,809,223,1066])\n",
        "x2 = np.array([.19,.12,.15,.16,.14,.06,.13,.13,.03,.15])\n",
        "x = (x1/x2) *(100000000)\n",
        "print('x sum: ', sum(x))"
      ],
      "execution_count": null,
      "outputs": [
        {
          "output_type": "stream",
          "name": "stdout",
          "text": [
            "x sum:  5715869360902.256\n"
          ]
        }
      ]
    },
    {
      "cell_type": "markdown",
      "metadata": {
        "id": "HN52YX53CKBQ"
      },
      "source": [
        "using the same prior above, posterior is : $p(\\theta|\\mathcal{D}) \\sim gamma(238,5715869360902.256)$\n",
        "\n",
        "Then simulation of predictive is like:"
      ]
    },
    {
      "cell_type": "code",
      "metadata": {
        "colab": {
          "base_uri": "https://localhost:8080/"
        },
        "id": "GNF3LZh5Cb2z",
        "outputId": "a58e658f-46c9-475d-f709-bcb3c37094d5"
      },
      "source": [
        "#posterior\n",
        "r=[]\n",
        "for i in range(1000):\n",
        "  r.append(gamma.rvs(size=1, a=(n*ybar),scale=1/sum(x) ))\n",
        "#predictive\n",
        "s=[]\n",
        "for i in range(len(r)):  \n",
        "  s.append(sps.poisson.rvs(size=1,mu=(r[i]*8e11) )) # we have to multiply 8X10^11\n",
        "print('95% CI : [', np.percentile(s,2.5) ,',', np.percentile(s,97.5), ']')"
      ],
      "execution_count": null,
      "outputs": [
        {
          "output_type": "stream",
          "name": "stdout",
          "text": [
            "95% CI : [ 22.0 , 47.0 ]\n"
          ]
        }
      ]
    },
    {
      "cell_type": "code",
      "metadata": {
        "colab": {
          "base_uri": "https://localhost:8080/"
        },
        "id": "--F__PKoC9dD",
        "outputId": "e00de64a-959c-4632-d540-34af5943a79e"
      },
      "source": [
        "#c only data changes\n",
        "y = np.array([734,516,754,877,814,362,764,809,223,1066])\n",
        "n=len(y); ybar = np.mean(y)\n",
        "#posterior\n",
        "r=[]\n",
        "for i in range(1000):\n",
        "  r.append(gamma.rvs(size=1, a=(n*ybar),scale=1/n ))\n",
        "#predictive\n",
        "s=[]\n",
        "for i in range(len(r)):  \n",
        "  s.append(sps.poisson.rvs(size=1,mu=r[i] ))\n",
        "print('95% CI : [', np.percentile(s,2.5) ,',', np.percentile(s,97.5), ']')"
      ],
      "execution_count": null,
      "outputs": [
        {
          "output_type": "stream",
          "name": "stdout",
          "text": [
            "95% CI : [ 639.0 , 747.025 ]\n"
          ]
        }
      ]
    },
    {
      "cell_type": "code",
      "metadata": {
        "colab": {
          "base_uri": "https://localhost:8080/"
        },
        "id": "dzFt9XdJDMOQ",
        "outputId": "dbe06b6c-715d-427c-cd57-7835ffc78416"
      },
      "source": [
        "#d\n",
        "r=[]\n",
        "for i in range(1000):\n",
        "  r.append(gamma.rvs(size=1, a=(n*ybar),scale=1/sum(x) ))\n",
        "#predictive\n",
        "s=[]\n",
        "for i in range(len(r)):  \n",
        "  s.append(sps.poisson.rvs(size=1,mu=(r[i]*8e11) )) # we have to multiply 8X10^11\n",
        "print('95% CI : [', np.percentile(s,2.5) ,',', np.percentile(s,97.5), ']')"
      ],
      "execution_count": null,
      "outputs": [
        {
          "output_type": "stream",
          "name": "stdout",
          "text": [
            "95% CI : [ 901.0 , 1033.025 ]\n"
          ]
        }
      ]
    },
    {
      "cell_type": "markdown",
      "metadata": {
        "id": "ecKbwxsLDes7"
      },
      "source": [
        "(e) we can guess that fatal accidents would grow if more miles are flown, which means that b,d would be better than a,c.\n",
        "\n",
        "Also, fatal deaths would be clustered, like when airplane accidents happens, so a or b would be better option"
      ]
    },
    {
      "cell_type": "markdown",
      "metadata": {
        "id": "F7gBlBc5EJUH"
      },
      "source": [
        "#Exercise16"
      ]
    },
    {
      "cell_type": "markdown",
      "metadata": {
        "id": "iLlxHs2GELIq"
      },
      "source": [
        "#Exercise17"
      ]
    },
    {
      "cell_type": "markdown",
      "metadata": {
        "id": "UOsIO2-kEQXk"
      },
      "source": [
        "#Exercise20"
      ]
    },
    {
      "cell_type": "markdown",
      "metadata": {
        "id": "S3l7BT-sEO47"
      },
      "source": [
        "#2. (Ex) Probability of a girl birth given placenta previa"
      ]
    },
    {
      "cell_type": "code",
      "metadata": {
        "colab": {
          "base_uri": "https://localhost:8080/",
          "height": 283
        },
        "id": "chaMuwV6DVaJ",
        "outputId": "c1564bab-3b0c-4c33-f746-0e2e8a61fad0"
      },
      "source": [
        "#1. uniform conjugate prior\n",
        "n = 980; y = 437\n",
        "\n",
        "#prior\n",
        "theta = np.linspace(0,1,101) ; a0=1 ;b0=1;\n",
        "\n",
        "#1) The posterior form is known\n",
        "a1 = a0+y ; b1 = b0+n-y\n",
        "\n",
        "r=[]\n",
        "for i in range(len(theta)):\n",
        "  r.append(sps.beta.pdf(theta[i], a=a1,b=b1 ))\n",
        "\n",
        "plt.plot(theta,r)\n",
        "\n",
        "print('95% CI with known posterior : [', sps.beta.ppf(0.025,a=a1,b=b1) ,',', sps.beta.ppf(0.975,a=a1,b=b1), ']')\n"
      ],
      "execution_count": null,
      "outputs": [
        {
          "output_type": "stream",
          "name": "stdout",
          "text": [
            "95% CI with known posterior : [ 0.41506549245500446 , 0.47719977062943875 ]\n"
          ]
        },
        {
          "output_type": "display_data",
          "data": {
            "image/png": "[encoded data removed]",
            "text/plain": [
              "<Figure size 432x288 with 1 Axes>"
            ]
          },
          "metadata": {
            "needs_background": "light"
          }
        }
      ]
    },
    {
      "cell_type": "code",
      "metadata": {
        "colab": {
          "base_uri": "https://localhost:8080/"
        },
        "id": "elBTrXHFFVI2",
        "outputId": "3de859f0-9946-41f5-be5b-6ccbdef02bf5"
      },
      "source": [
        "#2) MC\n",
        "r=[]\n",
        "for i in range(len(theta)):\n",
        "  r.append(sps.beta.rvs(size=1, a=a1,b=b1 ))\n",
        "r = np.array(r)\n",
        "print('95% CI by MC approximation: [', np.percentile(r,2.5) ,',', np.percentile(r,97.5), ']')\n",
        "\n",
        "#3) Normal approximation\n",
        "mean = np.mean(r)\n",
        "std = np.std(r)\n",
        "print('95% CI by normal approximation: [', (mean - 1.96*std) ,',', (mean + 1.96*std), ']')\n",
        "\n",
        "#4) Normal appr. on logodds\n",
        "logodds= np.log(r/(1-r))\n",
        "mean = np.mean(logodds)\n",
        "std = np.std(logodds)\n",
        "l = mean - 1.96*std\n",
        "u = mean + 1.96*std\n",
        "logl = math.exp(l)/ (1+math.exp(l))\n",
        "logu = math.exp(u)/ (1+math.exp(u))\n",
        "print('95% CI by logodd approximation: [', logl ,',', logu, ']')"
      ],
      "execution_count": null,
      "outputs": [
        {
          "output_type": "stream",
          "name": "stdout",
          "text": [
            "95% CI by MC approximation: [ 0.4198381714727071 , 0.47081088573906044 ]\n",
            "95% CI by normal approximation: [ 0.41433605881475616 , 0.4708560589018184 ]\n",
            "95% CI by logodd approximation: [ 0.4145203046572647 , 0.47094900263893363 ]\n"
          ]
        }
      ]
    },
    {
      "cell_type": "code",
      "metadata": {
        "colab": {
          "base_uri": "https://localhost:8080/",
          "height": 299
        },
        "id": "J17r6ghzG45u",
        "outputId": "11fc7376-7193-439d-ffde-357e28c24f0a"
      },
      "source": [
        "plt.subplot(131)\n",
        "plt.hist(r,bins=25)\n",
        "plt.title('female birth')\n",
        "\n",
        "plt.subplot(132)\n",
        "plt.hist(logodds,bins=25)\n",
        "plt.title('log odds')\n",
        "\n",
        "plt.subplot(133)\n",
        "plt.hist((1-r)/r,bins=25)\n",
        "plt.title('sex ratio')"
      ],
      "execution_count": null,
      "outputs": [
        {
          "output_type": "execute_result",
          "data": {
            "text/plain": [
              "Text(0.5, 1.0, 'sex ratio')"
            ]
          },
          "metadata": {},
          "execution_count": 76
        },
        {
          "output_type": "display_data",
          "data": {
            "image/png": "[encoded data removed]",
            "text/plain": [
              "<Figure size 432x288 with 3 Axes>"
            ]
          },
          "metadata": {
            "needs_background": "light"
          }
        }
      ]
    },
    {
      "cell_type": "code",
      "metadata": {
        "colab": {
          "base_uri": "https://localhost:8080/",
          "height": 266
        },
        "id": "bgdROhlAJMjS",
        "outputId": "70799a43-14b5-4444-f2fd-d9e0c9704747"
      },
      "source": [
        "#2. sensitivity analysis for prior\n",
        "# as a+b increasese, posterior meadian approaches to prior mean\n",
        "\n",
        "n=980; y=437;\n",
        "prmeans = np.array([0.5, 0.485 ,0.485 ,0.485 ,0.485 ,0.485, 0.485])\n",
        "prsizes = np.array([2,2,5,10,20,100,200])\n",
        "pomedian = np.zeros(len(prmeans))\n",
        "polb = np.zeros(len(prmeans))\n",
        "poub = np.zeros(len(prmeans))\n",
        "\n",
        "for i in range(len(prmeans)):\n",
        "  a = prmeans[i]*prsizes[i]\n",
        "  b = prsizes[i] -a\n",
        "  a = a+y\n",
        "  b = b+n-y\n",
        "  pomedian[i] = sps.beta.ppf(0.5, a=a, b=b)\n",
        "  polb[i] = sps.beta.ppf(0.025, a=a, b=b)\n",
        "  poub[i] = sps.beta.ppf(0.975, a=a, b=b)\n",
        "\n",
        "data = {'prior_means' : prmeans, \n",
        "                      'prior_sizes' : prsizes,\n",
        "                      'post_median' : pomedian,\n",
        "                      'post_95_lb' : polb,\n",
        "                      'post_95_ub' : poub\n",
        "}\n",
        "data = pd.DataFrame(data)\n",
        "data"
      ],
      "execution_count": null,
      "outputs": [
        {
          "output_type": "execute_result",
          "data": {
            "text/html": [
              "<div>\n",
              "<style scoped>\n",
              "    .dataframe tbody tr th:only-of-type {\n",
              "        vertical-align: middle;\n",
              "    }\n",
              "\n",
              "    .dataframe tbody tr th {\n",
              "        vertical-align: top;\n",
              "    }\n",
              "\n",
              "    .dataframe thead th {\n",
              "        text-align: right;\n",
              "    }\n",
              "</style>\n",
              "<table border=\"1\" class=\"dataframe\">\n",
              "  <thead>\n",
              "    <tr style=\"text-align: right;\">\n",
              "      <th></th>\n",
              "      <th>prior_means</th>\n",
              "      <th>prior_sizes</th>\n",
              "      <th>post_median</th>\n",
              "      <th>post_95_lb</th>\n",
              "      <th>post_95_ub</th>\n",
              "    </tr>\n",
              "  </thead>\n",
              "  <tbody>\n",
              "    <tr>\n",
              "      <th>0</th>\n",
              "      <td>0.500</td>\n",
              "      <td>2</td>\n",
              "      <td>0.445992</td>\n",
              "      <td>0.415065</td>\n",
              "      <td>0.477200</td>\n",
              "    </tr>\n",
              "    <tr>\n",
              "      <th>1</th>\n",
              "      <td>0.485</td>\n",
              "      <td>2</td>\n",
              "      <td>0.445961</td>\n",
              "      <td>0.415035</td>\n",
              "      <td>0.477169</td>\n",
              "    </tr>\n",
              "    <tr>\n",
              "      <th>2</th>\n",
              "      <td>0.485</td>\n",
              "      <td>5</td>\n",
              "      <td>0.446080</td>\n",
              "      <td>0.415200</td>\n",
              "      <td>0.477241</td>\n",
              "    </tr>\n",
              "    <tr>\n",
              "      <th>3</th>\n",
              "      <td>0.485</td>\n",
              "      <td>10</td>\n",
              "      <td>0.446277</td>\n",
              "      <td>0.415472</td>\n",
              "      <td>0.477359</td>\n",
              "    </tr>\n",
              "    <tr>\n",
              "      <th>4</th>\n",
              "      <td>0.485</td>\n",
              "      <td>20</td>\n",
              "      <td>0.446664</td>\n",
              "      <td>0.416010</td>\n",
              "      <td>0.477592</td>\n",
              "    </tr>\n",
              "    <tr>\n",
              "      <th>5</th>\n",
              "      <td>0.485</td>\n",
              "      <td>100</td>\n",
              "      <td>0.449506</td>\n",
              "      <td>0.419978</td>\n",
              "      <td>0.479274</td>\n",
              "    </tr>\n",
              "    <tr>\n",
              "      <th>6</th>\n",
              "      <td>0.485</td>\n",
              "      <td>200</td>\n",
              "      <td>0.452516</td>\n",
              "      <td>0.424236</td>\n",
              "      <td>0.481001</td>\n",
              "    </tr>\n",
              "  </tbody>\n",
              "</table>\n",
              "</div>"
            ],
            "text/plain": [
              "   prior_means  prior_sizes  post_median  post_95_lb  post_95_ub\n",
              "0        0.500            2     0.445992    0.415065    0.477200\n",
              "1        0.485            2     0.445961    0.415035    0.477169\n",
              "2        0.485            5     0.446080    0.415200    0.477241\n",
              "3        0.485           10     0.446277    0.415472    0.477359\n",
              "4        0.485           20     0.446664    0.416010    0.477592\n",
              "5        0.485          100     0.449506    0.419978    0.479274\n",
              "6        0.485          200     0.452516    0.424236    0.481001"
            ]
          },
          "metadata": {},
          "execution_count": 93
        }
      ]
    },
    {
      "cell_type": "markdown",
      "metadata": {
        "id": "ONqbgWaqMy0R"
      },
      "source": [
        "#3. Illustrate the effect of prior in binomial model\n",
        "\n",
        "As far as I understood the question, the answer to 9.(c) can replace the answer, so... I skipped it."
      ]
    },
    {
      "cell_type": "markdown",
      "metadata": {
        "id": "elDEsVOHM_5Y"
      },
      "source": [
        "#4. Jeffrey's Prior for binomial Distribution"
      ]
    }
  ]
}